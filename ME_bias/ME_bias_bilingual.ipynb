{
 "cells": [
  {
   "cell_type": "markdown",
   "metadata": {},
   "source": [
    "# ME bias in the single agent setting"
   ]
  },
  {
   "cell_type": "markdown",
   "metadata": {},
   "source": [
    "## Setup the training"
   ]
  },
  {
   "cell_type": "code",
   "execution_count": 1,
   "metadata": {},
   "outputs": [],
   "source": [
    "# IMPORTS \n",
    "\n",
    "import tensorflow as tf\n",
    "import numpy as np\n",
    "import sys\n",
    "import os\n",
    "import pickle\n",
    "\n",
    "sys.path.append(\"/Users/xxAlv1Nxx/Documents/01a Masters/05 CS/CS 428B Probabilistic Models of Cognition – Language/Project/pragmatic_agents_me_bias\")\n",
    "from RSA_communication_agents import RSASpeaker0, RSAListener0, RSASpeaker1, RSAListener1"
   ]
  },
  {
   "cell_type": "code",
   "execution_count": 2,
   "metadata": {},
   "outputs": [],
   "source": [
    "# GENERATE INPUT MESSAGES \n",
    "\n",
    "def generate_messages(size, n, ME=1):\n",
    "    \"\"\" Generates the message input for the listener\n",
    "        inputs: \n",
    "            size - number of data points\n",
    "            n - number of states and messages in the system\n",
    "            ME - number of messages that are withheld from training, here 1 or 2\n",
    "        outputs: \n",
    "            data - training data \n",
    "            labels - training labels\n",
    "    \"\"\"\n",
    "    \n",
    "    data = np.zeros((size, n, n))\n",
    "    if ME == 1:\n",
    "        selection = np.random.choice(n-1, size=(size))\n",
    "    elif ME == 2: \n",
    "        selection = np.random.choice([i for i in range(1, n-1)], size=(size))\n",
    "    for i in range(n):\n",
    "        data[selection == i, i, :] = 1.\n",
    "    labels = tf.one_hot(selection, depth=n)\n",
    "    \n",
    "    return np.float32(data), labels"
   ]
  },
  {
   "cell_type": "code",
   "execution_count": 3,
   "metadata": {},
   "outputs": [],
   "source": [
    "# GENERATE BILINGUAL INPUT MESSAGES \n",
    "\n",
    "def generate_bilingual_messages(size, n, ME=1):\n",
    "    \"\"\" Generates the message input for the listener\n",
    "        inputs: \n",
    "            size - number of data points\n",
    "            n - number of states in the system (n_messages = 2*n)\n",
    "            ME - number of messages that are withheld from training, here 1 or 2\n",
    "        outputs: \n",
    "            data - training data \n",
    "            labels - training labels\n",
    "    \"\"\"\n",
    "    \n",
    "    data = np.zeros((size, 2*n, n))\n",
    "    if ME == 1:\n",
    "        selection = np.random.choice([i for i in range(0, 2*n-1) if i != n-1], size=(size))\n",
    "    elif ME == 2: \n",
    "        selection = np.random.choice([i for i in range(1, 2*n-1) if (i != n-1 and i != n)], size=(size))\n",
    "    for i in range(2*n):\n",
    "        data[selection == i, i, :] = 1.\n",
    "    labels = tf.one_hot(tf.math.floormod(selection, n), depth=n)\n",
    "    \n",
    "    return np.float32(data), labels"
   ]
  },
  {
   "cell_type": "code",
   "execution_count": 9,
   "metadata": {},
   "outputs": [
    {
     "data": {
      "text/plain": [
       "(array([[[0., 0., 0.],\n",
       "         [1., 1., 1.],\n",
       "         [0., 0., 0.],\n",
       "         [0., 0., 0.],\n",
       "         [0., 0., 0.],\n",
       "         [0., 0., 0.]],\n",
       " \n",
       "        [[1., 1., 1.],\n",
       "         [0., 0., 0.],\n",
       "         [0., 0., 0.],\n",
       "         [0., 0., 0.],\n",
       "         [0., 0., 0.],\n",
       "         [0., 0., 0.]],\n",
       " \n",
       "        [[0., 0., 0.],\n",
       "         [0., 0., 0.],\n",
       "         [0., 0., 0.],\n",
       "         [0., 0., 0.],\n",
       "         [1., 1., 1.],\n",
       "         [0., 0., 0.]],\n",
       " \n",
       "        [[0., 0., 0.],\n",
       "         [0., 0., 0.],\n",
       "         [0., 0., 0.],\n",
       "         [0., 0., 0.],\n",
       "         [1., 1., 1.],\n",
       "         [0., 0., 0.]],\n",
       " \n",
       "        [[0., 0., 0.],\n",
       "         [0., 0., 0.],\n",
       "         [0., 0., 0.],\n",
       "         [0., 0., 0.],\n",
       "         [1., 1., 1.],\n",
       "         [0., 0., 0.]]], dtype=float32),\n",
       " <tf.Tensor: shape=(5, 3), dtype=float32, numpy=\n",
       " array([[0., 1., 0.],\n",
       "        [1., 0., 0.],\n",
       "        [0., 1., 0.],\n",
       "        [0., 1., 0.],\n",
       "        [0., 1., 0.]], dtype=float32)>)"
      ]
     },
     "execution_count": 9,
     "metadata": {},
     "output_type": "execute_result"
    }
   ],
   "source": [
    "generate_bilingual_messages(5,3)"
   ]
  },
  {
   "cell_type": "code",
   "execution_count": 4,
   "metadata": {},
   "outputs": [],
   "source": [
    "# TRAIN A LISTENER AND SAVE THE PARAMETERS AS WELL AS THE REWARDS AND THE LEXICA\n",
    "\n",
    "def run_listener(n=3, reasoning=0, n_epochs=50, ME=1, learning_rate=0.001, runs=100):\n",
    "    \"\"\" Trains the listener on a single agent Lewis game as described in Experiment 1.\n",
    "        inputs: \n",
    "            n - number of states and messages (in total)\n",
    "            reasoning - reasoning level of the listener, 0 for literal, 1 for pragmatic \n",
    "            ME - number of messages that are left out during training, here 1 or 2\n",
    "            learning_rate - learning rate for the Adam optimizer\n",
    "        By default 100 agents are trained and all their lexica and rewards for every epoch are saved (agent-wise).\n",
    "    \"\"\"\n",
    "    \n",
    "    # setup the training and save the parameters \n",
    "    \n",
    "    n_states = n                      # number of states \n",
    "    n_messages = 2*n                  # number of messages\n",
    "    batch_size = 32                   # batch size\n",
    "    datasize = 1000                   # number of training data points\n",
    "    batches = datasize // batch_size  # number of batches per epoch\n",
    "    \n",
    "    runs = runs                       # number of runs: 100 speaker-listener pairs are trained \n",
    "    init_mean = 0.5                   # mean for initialization of lexicon entries\n",
    "    init_std = 0.01                   # std for initialization of lexicon entries\n",
    "    \n",
    "    constraint = tf.keras.constraints.NonNeg() # constrains the lexica to have entries >= 0\n",
    "    \n",
    "    filename = 'data/bilingual/L' + str(reasoning) + '/' + str(n) + '_states/'\n",
    "    if not os.path.exists(filename):\n",
    "            os.makedirs(filename)\n",
    "    \n",
    "    param_dict = {\"n_states\": n_states,\"n_messages\": n_messages, \"n_epochs\":n_epochs, \"batch_size\": batch_size,\n",
    "              \"datasize\":datasize, \"initializer_truncated_normal_mean_std\": [init_mean, init_std], \n",
    "              \"learning_rate\":learning_rate, \"runs\": runs, \"constraint\":constraint}    \n",
    "    with open(filename + 'param_dict.pickle', 'wb') as handle:\n",
    "        pickle.dump(param_dict, handle, protocol=pickle.HIGHEST_PROTOCOL)\n",
    "    \n",
    "    \n",
    "    # run the listeners\n",
    "\n",
    "    for run in range(1,runs+1):\n",
    "        \n",
    "        # create data \n",
    "        data, labels = generate_bilingual_messages(datasize, n, ME=ME)\n",
    "        data = tf.convert_to_tensor(data)\n",
    "        lexica = []\n",
    "        all_rewards = []\n",
    "        \n",
    "        # create listener\n",
    "        lexicon = tf.Variable(tf.initializers.TruncatedNormal(mean=init_mean, stddev=init_std)\n",
    "                              ([n_states, n_messages]),\n",
    "                              name=\"lexicon\", \n",
    "                              trainable=True, \n",
    "                              dtype=tf.float32,\n",
    "                              constraint=tf.keras.constraints.NonNeg())\n",
    "        \n",
    "        if reasoning == 0: \n",
    "            listener = RSAListener0(n_states, n_messages, lexicon)\n",
    "        elif reasoning == 1: \n",
    "            listener = RSAListener1(n_states, n_messages, lexicon, alpha=5.)\n",
    "                \n",
    "        listener.compile(optimizer=tf.keras.optimizers.Adam(learning_rate=learning_rate),\n",
    "                      loss=tf.keras.losses.CategoricalCrossentropy())\n",
    "        \n",
    "        # train\n",
    "        for i in range(n_epochs):\n",
    "            average_reward = []\n",
    "        \n",
    "            shuffle_indices = np.random.permutation(datasize)\n",
    "            data = tf.gather(data, shuffle_indices)\n",
    "            labels = tf.gather(labels, shuffle_indices)\n",
    "\n",
    "            for j in range(batches):\n",
    "                data_batch = data[j:j + batch_size]\n",
    "                labels_batch = labels[j:j + batch_size]\n",
    "    \n",
    "                _, actions = listener.get_states(data_batch)\n",
    "    \n",
    "                rewards = tf.einsum('ij,ij->i', labels_batch, actions)\n",
    "                average_reward.append(np.mean(rewards))\n",
    "                \n",
    "                # RL: \n",
    "                # Note that we implemented REINFORCE with a work-around using categorical crossentropy. \n",
    "                # This can be done by setting the labels to the agent's actions, and weighting the loss\n",
    "                # function by the rewards. \n",
    "                listener.train_on_batch(data_batch, actions, sample_weight=rewards)\n",
    "            \n",
    "            mean_reward = np.mean(average_reward)\n",
    "            all_rewards.append(mean_reward)\n",
    "            lexica.append(np.copy(listener.lexicon[:]))\n",
    "                        \n",
    "        print('run ' + str(run), 'average reward ' +str(ME)+ ' ' + str(mean_reward))\n",
    "        \n",
    "        # save rewards and lexica \n",
    "        if reasoning == 0:\n",
    "            filename_full = filename + 'L' + str(reasoning) +'_'+ str(ME) + 'missing_'\n",
    "        elif reasoning == 1:\n",
    "            filename_full = filename + 'L' + str(reasoning) +'_'+ str(ME) + 'missing_5.0alpha_'\n",
    "        np.save(filename_full + 'lexicon_run' + str(run), lexica)\n",
    "        np.save(filename_full + 'rewards_run' + str(run), all_rewards)"
   ]
  },
  {
   "cell_type": "markdown",
   "metadata": {},
   "source": [
    "## Run the training \n",
    "\n",
    "for different agent types, numbers of state (3 and 10) and different number of states being withheld from the training (1 and 2). "
   ]
  },
  {
   "cell_type": "markdown",
   "metadata": {},
   "source": [
    "### Literal listener"
   ]
  },
  {
   "cell_type": "code",
   "execution_count": 8,
   "metadata": {},
   "outputs": [
    {
     "name": "stderr",
     "output_type": "stream",
     "text": [
      "2021-10-29 16:44:16.047228: I tensorflow/core/platform/cpu_feature_guard.cc:142] This TensorFlow binary is optimized with oneAPI Deep Neural Network Library (oneDNN) to use the following CPU instructions in performance-critical operations:  AVX2 FMA\n",
      "To enable them in other operations, rebuild TensorFlow with the appropriate compiler flags.\n",
      "2021-10-29 16:44:16.872877: I tensorflow/compiler/mlir/mlir_graph_optimization_pass.cc:185] None of the MLIR Optimization Passes are enabled (registered 2)\n"
     ]
    },
    {
     "name": "stdout",
     "output_type": "stream",
     "text": [
      "run 1 average reward 1 1.0\n",
      "run 2 average reward 1 1.0\n",
      "run 3 average reward 1 1.0\n",
      "run 4 average reward 1 1.0\n",
      "run 5 average reward 1 1.0\n",
      "run 6 average reward 1 1.0\n",
      "run 7 average reward 1 1.0\n",
      "run 8 average reward 1 1.0\n",
      "run 9 average reward 1 1.0\n",
      "run 10 average reward 1 1.0\n",
      "run 11 average reward 1 1.0\n",
      "run 12 average reward 1 1.0\n",
      "run 13 average reward 1 1.0\n",
      "run 14 average reward 1 1.0\n",
      "run 15 average reward 1 1.0\n",
      "run 16 average reward 1 1.0\n",
      "run 17 average reward 1 1.0\n",
      "run 18 average reward 1 1.0\n",
      "run 19 average reward 1 1.0\n",
      "run 20 average reward 1 1.0\n",
      "run 21 average reward 1 1.0\n",
      "run 22 average reward 1 1.0\n",
      "run 23 average reward 1 1.0\n",
      "run 24 average reward 1 1.0\n",
      "run 25 average reward 1 1.0\n",
      "run 26 average reward 1 1.0\n",
      "run 27 average reward 1 1.0\n",
      "run 28 average reward 1 1.0\n",
      "run 29 average reward 1 1.0\n",
      "run 30 average reward 1 1.0\n",
      "run 31 average reward 1 1.0\n",
      "run 32 average reward 1 1.0\n",
      "run 33 average reward 1 1.0\n",
      "run 34 average reward 1 1.0\n",
      "run 35 average reward 1 1.0\n",
      "run 36 average reward 1 1.0\n",
      "run 37 average reward 1 1.0\n",
      "run 38 average reward 1 1.0\n",
      "run 39 average reward 1 1.0\n",
      "run 40 average reward 1 1.0\n",
      "run 41 average reward 1 1.0\n",
      "run 42 average reward 1 1.0\n",
      "run 43 average reward 1 1.0\n",
      "run 44 average reward 1 1.0\n",
      "run 45 average reward 1 1.0\n",
      "run 46 average reward 1 1.0\n",
      "run 47 average reward 1 1.0\n"
     ]
    },
    {
     "name": "stderr",
     "output_type": "stream",
     "text": [
      "2021-10-29 16:51:09.992407: W tensorflow/core/data/root_dataset.cc:167] Optimization loop failed: Cancelled: Operation was cancelled\n",
      "2021-10-29 16:51:10.018244: W tensorflow/core/data/root_dataset.cc:167] Optimization loop failed: Cancelled: Operation was cancelled\n"
     ]
    },
    {
     "name": "stdout",
     "output_type": "stream",
     "text": [
      "run 48 average reward 1 1.0\n",
      "run 49 average reward 1 1.0\n",
      "run 50 average reward 1 1.0\n",
      "run 51 average reward 1 1.0\n",
      "run 52 average reward 1 1.0\n",
      "run 53 average reward 1 1.0\n",
      "run 54 average reward 1 1.0\n",
      "run 55 average reward 1 1.0\n",
      "run 56 average reward 1 1.0\n",
      "run 57 average reward 1 1.0\n",
      "run 58 average reward 1 1.0\n",
      "run 59 average reward 1 1.0\n",
      "run 60 average reward 1 1.0\n",
      "run 61 average reward 1 1.0\n",
      "run 62 average reward 1 1.0\n",
      "run 63 average reward 1 1.0\n",
      "run 64 average reward 1 1.0\n",
      "run 65 average reward 1 1.0\n",
      "run 66 average reward 1 1.0\n"
     ]
    },
    {
     "name": "stderr",
     "output_type": "stream",
     "text": [
      "2021-10-29 16:54:03.118060: W tensorflow/core/data/root_dataset.cc:167] Optimization loop failed: Cancelled: Operation was cancelled\n",
      "2021-10-29 16:54:05.271468: W tensorflow/core/data/root_dataset.cc:167] Optimization loop failed: Cancelled: Operation was cancelled\n"
     ]
    },
    {
     "name": "stdout",
     "output_type": "stream",
     "text": [
      "run 67 average reward 1 1.0\n",
      "run 68 average reward 1 1.0\n",
      "run 69 average reward 1 1.0\n",
      "run 70 average reward 1 1.0\n",
      "run 71 average reward 1 1.0\n",
      "run 72 average reward 1 1.0\n",
      "run 73 average reward 1 1.0\n",
      "run 74 average reward 1 1.0\n",
      "run 75 average reward 1 1.0\n",
      "run 76 average reward 1 1.0\n",
      "run 77 average reward 1 1.0\n",
      "run 78 average reward 1 1.0\n",
      "run 79 average reward 1 1.0\n"
     ]
    },
    {
     "name": "stderr",
     "output_type": "stream",
     "text": [
      "2021-10-29 16:56:14.242631: W tensorflow/core/data/root_dataset.cc:167] Optimization loop failed: Cancelled: Operation was cancelled\n",
      "2021-10-29 16:56:14.353303: W tensorflow/core/data/root_dataset.cc:167] Optimization loop failed: Cancelled: Operation was cancelled\n",
      "2021-10-29 16:56:14.437720: W tensorflow/core/data/root_dataset.cc:167] Optimization loop failed: Cancelled: Operation was cancelled\n",
      "2021-10-29 16:56:15.011022: W tensorflow/core/data/root_dataset.cc:167] Optimization loop failed: Cancelled: Operation was cancelled\n",
      "2021-10-29 16:56:15.572380: W tensorflow/core/data/root_dataset.cc:167] Optimization loop failed: Cancelled: Operation was cancelled\n"
     ]
    },
    {
     "name": "stdout",
     "output_type": "stream",
     "text": [
      "run 80 average reward 1 1.0\n",
      "run 81 average reward 1 1.0\n",
      "run 82 average reward 1 1.0\n",
      "run 83 average reward 1 1.0\n",
      "run 84 average reward 1 1.0\n",
      "run 85 average reward 1 1.0\n",
      "run 86 average reward 1 1.0\n"
     ]
    },
    {
     "name": "stderr",
     "output_type": "stream",
     "text": [
      "2021-10-29 16:57:28.046482: W tensorflow/core/data/root_dataset.cc:167] Optimization loop failed: Cancelled: Operation was cancelled\n"
     ]
    },
    {
     "name": "stdout",
     "output_type": "stream",
     "text": [
      "run 87 average reward 1 1.0\n",
      "run 88 average reward 1 1.0\n",
      "run 89 average reward 1 1.0\n"
     ]
    },
    {
     "name": "stderr",
     "output_type": "stream",
     "text": [
      "2021-10-29 16:58:09.393870: W tensorflow/core/data/root_dataset.cc:167] Optimization loop failed: Cancelled: Operation was cancelled\n",
      "2021-10-29 16:58:10.135888: W tensorflow/core/data/root_dataset.cc:167] Optimization loop failed: Cancelled: Operation was cancelled\n"
     ]
    },
    {
     "name": "stdout",
     "output_type": "stream",
     "text": [
      "run 90 average reward 1 1.0\n",
      "run 91 average reward 1 1.0\n",
      "run 92 average reward 1 1.0\n",
      "run 93 average reward 1 1.0\n",
      "run 94 average reward 1 1.0\n",
      "run 95 average reward 1 1.0\n",
      "run 96 average reward 1 1.0\n",
      "run 97 average reward 1 1.0\n",
      "run 98 average reward 1 1.0\n",
      "run 99 average reward 1 1.0\n",
      "run 100 average reward 1 1.0\n"
     ]
    }
   ],
   "source": [
    "run_listener(n=3, reasoning=0, n_epochs=50, ME=1)"
   ]
  },
  {
   "cell_type": "code",
   "execution_count": 9,
   "metadata": {},
   "outputs": [
    {
     "name": "stdout",
     "output_type": "stream",
     "text": [
      "run 1 average reward 2 1.0\n",
      "run 2 average reward 2 1.0\n",
      "run 3 average reward 2 1.0\n",
      "run 4 average reward 2 1.0\n",
      "run 5 average reward 2 1.0\n",
      "run 6 average reward 2 1.0\n",
      "run 7 average reward 2 1.0\n",
      "run 8 average reward 2 1.0\n",
      "run 9 average reward 2 1.0\n",
      "run 10 average reward 2 1.0\n",
      "run 11 average reward 2 1.0\n",
      "run 12 average reward 2 1.0\n",
      "run 13 average reward 2 1.0\n",
      "run 14 average reward 2 1.0\n"
     ]
    },
    {
     "name": "stderr",
     "output_type": "stream",
     "text": [
      "2021-11-24 21:57:30.829108: W tensorflow/core/data/root_dataset.cc:167] Optimization loop failed: Cancelled: Operation was cancelled\n",
      "2021-11-24 21:57:38.850772: W tensorflow/core/data/root_dataset.cc:167] Optimization loop failed: Cancelled: Operation was cancelled\n",
      "2021-11-24 21:57:41.736935: W tensorflow/core/data/root_dataset.cc:167] Optimization loop failed: Cancelled: Operation was cancelled\n"
     ]
    },
    {
     "name": "stdout",
     "output_type": "stream",
     "text": [
      "run 15 average reward 2 1.0\n",
      "run 16 average reward 2 1.0\n",
      "run 17 average reward 2 1.0\n",
      "run 18 average reward 2 1.0\n",
      "run 19 average reward 2 1.0\n",
      "run 20 average reward 2 1.0\n",
      "run 21 average reward 2 1.0\n",
      "run 22 average reward 2 1.0\n",
      "run 23 average reward 2 1.0\n",
      "run 24 average reward 2 1.0\n",
      "run 25 average reward 2 1.0\n",
      "run 26 average reward 2 1.0\n",
      "run 27 average reward 2 1.0\n",
      "run 28 average reward 2 1.0\n",
      "run 29 average reward 2 1.0\n",
      "run 30 average reward 2 1.0\n",
      "run 31 average reward 2 1.0\n",
      "run 32 average reward 2 1.0\n",
      "run 33 average reward 2 1.0\n",
      "run 34 average reward 2 1.0\n",
      "run 35 average reward 2 1.0\n",
      "run 36 average reward 2 1.0\n",
      "run 37 average reward 2 1.0\n",
      "run 38 average reward 2 1.0\n",
      "run 39 average reward 2 1.0\n",
      "run 40 average reward 2 1.0\n",
      "run 41 average reward 2 1.0\n",
      "run 42 average reward 2 1.0\n",
      "run 43 average reward 2 1.0\n",
      "run 44 average reward 2 1.0\n",
      "run 45 average reward 2 1.0\n"
     ]
    },
    {
     "name": "stderr",
     "output_type": "stream",
     "text": [
      "2021-11-24 22:03:56.315813: W tensorflow/core/data/root_dataset.cc:167] Optimization loop failed: Cancelled: Operation was cancelled\n"
     ]
    },
    {
     "name": "stdout",
     "output_type": "stream",
     "text": [
      "run 46 average reward 2 1.0\n",
      "run 47 average reward 2 1.0\n",
      "run 48 average reward 2 1.0\n",
      "run 49 average reward 2 1.0\n",
      "run 50 average reward 2 1.0\n",
      "run 51 average reward 2 1.0\n",
      "run 52 average reward 2 1.0\n",
      "run 53 average reward 2 1.0\n",
      "run 54 average reward 2 1.0\n",
      "run 55 average reward 2 1.0\n",
      "run 56 average reward 2 1.0\n",
      "run 57 average reward 2 1.0\n",
      "run 58 average reward 2 1.0\n",
      "run 59 average reward 2 1.0\n",
      "run 60 average reward 2 1.0\n",
      "run 61 average reward 2 1.0\n",
      "run 62 average reward 2 1.0\n"
     ]
    },
    {
     "name": "stderr",
     "output_type": "stream",
     "text": [
      "2021-11-24 22:06:41.579144: W tensorflow/core/data/root_dataset.cc:167] Optimization loop failed: Cancelled: Operation was cancelled\n"
     ]
    },
    {
     "name": "stdout",
     "output_type": "stream",
     "text": [
      "run 63 average reward 2 1.0\n",
      "run 64 average reward 2 1.0\n"
     ]
    },
    {
     "name": "stderr",
     "output_type": "stream",
     "text": [
      "2021-11-24 22:07:00.956833: W tensorflow/core/data/root_dataset.cc:167] Optimization loop failed: Cancelled: Operation was cancelled\n"
     ]
    },
    {
     "name": "stdout",
     "output_type": "stream",
     "text": [
      "run 65 average reward 2 1.0\n",
      "run 66 average reward 2 1.0\n",
      "run 67 average reward 2 1.0\n",
      "run 68 average reward 2 1.0\n",
      "run 69 average reward 2 1.0\n",
      "run 70 average reward 2 1.0\n",
      "run 71 average reward 2 1.0\n",
      "run 72 average reward 2 1.0\n",
      "run 73 average reward 2 1.0\n",
      "run 74 average reward 2 1.0\n",
      "run 75 average reward 2 1.0\n",
      "run 76 average reward 2 1.0\n",
      "run 77 average reward 2 1.0\n",
      "run 78 average reward 2 1.0\n",
      "run 79 average reward 2 1.0\n",
      "run 80 average reward 2 1.0\n",
      "run 81 average reward 2 1.0\n",
      "run 82 average reward 2 1.0\n",
      "run 83 average reward 2 1.0\n",
      "run 84 average reward 2 1.0\n",
      "run 85 average reward 2 1.0\n",
      "run 86 average reward 2 1.0\n",
      "run 87 average reward 2 1.0\n",
      "run 88 average reward 2 1.0\n",
      "run 89 average reward 2 1.0\n",
      "run 90 average reward 2 1.0\n",
      "run 91 average reward 2 1.0\n",
      "run 92 average reward 2 1.0\n",
      "run 93 average reward 2 1.0\n",
      "run 94 average reward 2 1.0\n",
      "run 95 average reward 2 1.0\n",
      "run 96 average reward 2 1.0\n",
      "run 97 average reward 2 1.0\n",
      "run 98 average reward 2 1.0\n",
      "run 99 average reward 2 1.0\n",
      "run 100 average reward 2 1.0\n"
     ]
    }
   ],
   "source": [
    "run_listener(learning_rate=0.001, n=3, reasoning=0, n_epochs=50, ME=2)"
   ]
  },
  {
   "cell_type": "code",
   "execution_count": 6,
   "metadata": {},
   "outputs": [
    {
     "name": "stderr",
     "output_type": "stream",
     "text": [
      "2021-11-24 15:43:39.438946: W tensorflow/core/data/root_dataset.cc:167] Optimization loop failed: Cancelled: Operation was cancelled\n"
     ]
    },
    {
     "name": "stdout",
     "output_type": "stream",
     "text": [
      "run 1 average reward 1 1.0\n",
      "run 2 average reward 1 1.0\n",
      "run 3 average reward 1 1.0\n",
      "run 4 average reward 1 1.0\n",
      "run 5 average reward 1 1.0\n",
      "run 6 average reward 1 1.0\n"
     ]
    },
    {
     "name": "stderr",
     "output_type": "stream",
     "text": [
      "2021-11-24 15:45:41.325105: W tensorflow/core/data/root_dataset.cc:167] Optimization loop failed: Cancelled: Operation was cancelled\n"
     ]
    },
    {
     "name": "stdout",
     "output_type": "stream",
     "text": [
      "run 7 average reward 1 1.0\n",
      "run 8 average reward 1 1.0\n",
      "run 9 average reward 1 1.0\n",
      "run 10 average reward 1 1.0\n",
      "run 11 average reward 1 1.0\n",
      "run 12 average reward 1 1.0\n",
      "run 13 average reward 1 1.0\n",
      "run 14 average reward 1 1.0\n",
      "run 15 average reward 1 1.0\n",
      "run 16 average reward 1 1.0\n",
      "run 17 average reward 1 1.0\n",
      "run 18 average reward 1 1.0\n",
      "run 19 average reward 1 1.0\n",
      "run 20 average reward 1 1.0\n",
      "run 21 average reward 1 1.0\n",
      "run 22 average reward 1 1.0\n",
      "run 23 average reward 1 1.0\n",
      "run 24 average reward 1 1.0\n",
      "run 25 average reward 1 1.0\n",
      "run 26 average reward 1 1.0\n",
      "run 27 average reward 1 1.0\n",
      "run 28 average reward 1 1.0\n",
      "run 29 average reward 1 1.0\n",
      "run 30 average reward 1 1.0\n",
      "run 31 average reward 1 1.0\n",
      "run 32 average reward 1 1.0\n",
      "run 33 average reward 1 1.0\n",
      "run 34 average reward 1 1.0\n",
      "run 35 average reward 1 1.0\n",
      "run 36 average reward 1 1.0\n",
      "run 37 average reward 1 1.0\n",
      "run 38 average reward 1 1.0\n",
      "run 39 average reward 1 1.0\n",
      "run 40 average reward 1 1.0\n",
      "run 41 average reward 1 1.0\n",
      "run 42 average reward 1 1.0\n",
      "run 43 average reward 1 1.0\n",
      "run 44 average reward 1 1.0\n",
      "run 45 average reward 1 1.0\n",
      "run 46 average reward 1 1.0\n",
      "run 47 average reward 1 1.0\n",
      "run 48 average reward 1 1.0\n",
      "run 49 average reward 1 1.0\n",
      "run 50 average reward 1 1.0\n",
      "run 51 average reward 1 1.0\n",
      "run 52 average reward 1 1.0\n"
     ]
    },
    {
     "name": "stderr",
     "output_type": "stream",
     "text": [
      "2021-11-24 15:59:02.967358: W tensorflow/core/data/root_dataset.cc:167] Optimization loop failed: Cancelled: Operation was cancelled\n"
     ]
    },
    {
     "name": "stdout",
     "output_type": "stream",
     "text": [
      "run 53 average reward 1 1.0\n",
      "run 54 average reward 1 1.0\n",
      "run 55 average reward 1 1.0\n",
      "run 56 average reward 1 1.0\n",
      "run 57 average reward 1 1.0\n",
      "run 58 average reward 1 1.0\n",
      "run 59 average reward 1 1.0\n",
      "run 60 average reward 1 1.0\n",
      "run 61 average reward 1 1.0\n",
      "run 62 average reward 1 1.0\n",
      "run 63 average reward 1 1.0\n",
      "run 64 average reward 1 1.0\n",
      "run 65 average reward 1 1.0\n",
      "run 66 average reward 1 1.0\n",
      "run 67 average reward 1 1.0\n",
      "run 68 average reward 1 1.0\n",
      "run 69 average reward 1 1.0\n",
      "run 70 average reward 1 1.0\n",
      "run 71 average reward 1 1.0\n",
      "run 72 average reward 1 1.0\n",
      "run 73 average reward 1 1.0\n",
      "run 74 average reward 1 1.0\n",
      "run 75 average reward 1 1.0\n",
      "run 76 average reward 1 1.0\n",
      "run 77 average reward 1 1.0\n",
      "run 78 average reward 1 1.0\n",
      "run 79 average reward 1 1.0\n",
      "run 80 average reward 1 1.0\n",
      "run 81 average reward 1 1.0\n",
      "run 82 average reward 1 1.0\n",
      "run 83 average reward 1 1.0\n",
      "run 84 average reward 1 1.0\n",
      "run 85 average reward 1 1.0\n",
      "run 86 average reward 1 1.0\n",
      "run 87 average reward 1 1.0\n",
      "run 88 average reward 1 1.0\n",
      "run 89 average reward 1 1.0\n",
      "run 90 average reward 1 1.0\n",
      "run 91 average reward 1 1.0\n",
      "run 92 average reward 1 1.0\n",
      "run 93 average reward 1 1.0\n",
      "run 94 average reward 1 1.0\n",
      "run 95 average reward 1 1.0\n",
      "run 96 average reward 1 1.0\n",
      "run 97 average reward 1 1.0\n",
      "run 98 average reward 1 1.0\n",
      "run 99 average reward 1 1.0\n",
      "run 100 average reward 1 1.0\n"
     ]
    }
   ],
   "source": [
    "run_listener(learning_rate=0.001, n=10, reasoning=0, n_epochs=100, ME=1)"
   ]
  },
  {
   "cell_type": "code",
   "execution_count": 10,
   "metadata": {},
   "outputs": [
    {
     "name": "stdout",
     "output_type": "stream",
     "text": [
      "run 1 average reward 2 1.0\n",
      "run 2 average reward 2 1.0\n",
      "run 3 average reward 2 1.0\n",
      "run 4 average reward 2 1.0\n",
      "run 5 average reward 2 1.0\n",
      "run 6 average reward 2 1.0\n",
      "run 7 average reward 2 1.0\n",
      "run 8 average reward 2 1.0\n",
      "run 9 average reward 2 1.0\n",
      "run 10 average reward 2 1.0\n",
      "run 11 average reward 2 1.0\n",
      "run 12 average reward 2 1.0\n",
      "run 13 average reward 2 1.0\n",
      "run 14 average reward 2 1.0\n",
      "run 15 average reward 2 1.0\n",
      "run 16 average reward 2 1.0\n",
      "run 17 average reward 2 1.0\n",
      "run 18 average reward 2 1.0\n",
      "run 19 average reward 2 1.0\n",
      "run 20 average reward 2 1.0\n",
      "run 21 average reward 2 1.0\n",
      "run 22 average reward 2 1.0\n",
      "run 23 average reward 2 1.0\n",
      "run 24 average reward 2 1.0\n",
      "run 25 average reward 2 1.0\n",
      "run 26 average reward 2 1.0\n",
      "run 27 average reward 2 1.0\n",
      "run 28 average reward 2 1.0\n",
      "run 29 average reward 2 1.0\n",
      "run 30 average reward 2 1.0\n",
      "run 31 average reward 2 1.0\n",
      "run 32 average reward 2 1.0\n",
      "run 33 average reward 2 1.0\n",
      "run 34 average reward 2 1.0\n",
      "run 35 average reward 2 1.0\n",
      "run 36 average reward 2 1.0\n",
      "run 37 average reward 2 1.0\n",
      "run 38 average reward 2 1.0\n",
      "run 39 average reward 2 1.0\n",
      "run 40 average reward 2 1.0\n"
     ]
    },
    {
     "name": "stderr",
     "output_type": "stream",
     "text": [
      "2021-11-24 22:34:22.588525: W tensorflow/core/data/root_dataset.cc:167] Optimization loop failed: Cancelled: Operation was cancelled\n"
     ]
    },
    {
     "name": "stdout",
     "output_type": "stream",
     "text": [
      "run 41 average reward 2 1.0\n",
      "run 42 average reward 2 1.0\n",
      "run 43 average reward 2 1.0\n",
      "run 44 average reward 2 1.0\n",
      "run 45 average reward 2 1.0\n",
      "run 46 average reward 2 1.0\n",
      "run 47 average reward 2 1.0\n",
      "run 48 average reward 2 1.0\n",
      "run 49 average reward 2 1.0\n",
      "run 50 average reward 2 1.0\n",
      "run 51 average reward 2 1.0\n",
      "run 52 average reward 2 1.0\n",
      "run 53 average reward 2 1.0\n",
      "run 54 average reward 2 1.0\n"
     ]
    },
    {
     "name": "stderr",
     "output_type": "stream",
     "text": [
      "2021-11-24 22:40:22.659102: W tensorflow/core/data/root_dataset.cc:167] Optimization loop failed: Cancelled: Operation was cancelled\n",
      "2021-11-24 22:40:22.689229: W tensorflow/core/data/root_dataset.cc:167] Optimization loop failed: Cancelled: Operation was cancelled\n",
      "2021-11-24 22:40:22.723692: W tensorflow/core/data/root_dataset.cc:167] Optimization loop failed: Cancelled: Operation was cancelled\n",
      "2021-11-24 22:40:22.763462: W tensorflow/core/data/root_dataset.cc:167] Optimization loop failed: Cancelled: Operation was cancelled\n"
     ]
    },
    {
     "name": "stdout",
     "output_type": "stream",
     "text": [
      "run 55 average reward 2 1.0\n",
      "run 56 average reward 2 1.0\n",
      "run 57 average reward 2 1.0\n",
      "run 58 average reward 2 1.0\n",
      "run 59 average reward 2 1.0\n",
      "run 60 average reward 2 1.0\n",
      "run 61 average reward 2 1.0\n",
      "run 62 average reward 2 1.0\n",
      "run 63 average reward 2 1.0\n",
      "run 64 average reward 2 1.0\n",
      "run 65 average reward 2 1.0\n",
      "run 66 average reward 2 1.0\n",
      "run 67 average reward 2 1.0\n",
      "run 68 average reward 2 1.0\n",
      "run 69 average reward 2 1.0\n",
      "run 70 average reward 2 1.0\n",
      "run 71 average reward 2 1.0\n",
      "run 72 average reward 2 1.0\n",
      "run 73 average reward 2 1.0\n",
      "run 74 average reward 2 1.0\n",
      "run 75 average reward 2 1.0\n",
      "run 76 average reward 2 1.0\n",
      "run 77 average reward 2 1.0\n",
      "run 78 average reward 2 1.0\n",
      "run 79 average reward 2 1.0\n",
      "run 80 average reward 2 1.0\n",
      "run 81 average reward 2 1.0\n",
      "run 82 average reward 2 1.0\n",
      "run 83 average reward 2 1.0\n",
      "run 84 average reward 2 1.0\n",
      "run 85 average reward 2 1.0\n",
      "run 86 average reward 2 1.0\n",
      "run 87 average reward 2 1.0\n",
      "run 88 average reward 2 1.0\n",
      "run 89 average reward 2 1.0\n",
      "run 90 average reward 2 1.0\n",
      "run 91 average reward 2 1.0\n",
      "run 92 average reward 2 1.0\n",
      "run 93 average reward 2 1.0\n",
      "run 94 average reward 2 1.0\n",
      "run 95 average reward 2 1.0\n",
      "run 96 average reward 2 1.0\n",
      "run 97 average reward 2 1.0\n",
      "run 98 average reward 2 1.0\n",
      "run 99 average reward 2 1.0\n",
      "run 100 average reward 2 1.0\n"
     ]
    }
   ],
   "source": [
    "run_listener(learning_rate=0.001, n=10, reasoning=0, n_epochs=100, ME=2)"
   ]
  },
  {
   "cell_type": "markdown",
   "metadata": {},
   "source": [
    "### Pragmatic listener"
   ]
  },
  {
   "cell_type": "code",
   "execution_count": 7,
   "metadata": {},
   "outputs": [
    {
     "name": "stdout",
     "output_type": "stream",
     "text": [
      "run 1 average reward 1 0.9989919\n",
      "run 2 average reward 1 0.9979839\n",
      "run 3 average reward 1 0.9989919\n",
      "run 4 average reward 1 0.9989919\n",
      "run 5 average reward 1 0.9989919\n",
      "run 6 average reward 1 0.9979839\n",
      "run 7 average reward 1 0.9979839\n",
      "run 8 average reward 1 1.0\n",
      "run 9 average reward 1 0.9989919\n",
      "run 10 average reward 1 0.9979839\n",
      "run 11 average reward 1 1.0\n",
      "run 12 average reward 1 1.0\n",
      "run 13 average reward 1 1.0\n",
      "run 14 average reward 1 0.9979839\n",
      "run 15 average reward 1 0.9989919\n",
      "run 16 average reward 1 0.9989919\n",
      "run 17 average reward 1 1.0\n",
      "run 18 average reward 1 1.0\n",
      "run 19 average reward 1 0.9979839\n",
      "run 20 average reward 1 1.0\n",
      "run 21 average reward 1 1.0\n",
      "run 22 average reward 1 1.0\n",
      "run 23 average reward 1 1.0\n",
      "run 24 average reward 1 1.0\n",
      "run 25 average reward 1 0.9989919\n",
      "run 26 average reward 1 0.9989919\n",
      "run 27 average reward 1 1.0\n"
     ]
    },
    {
     "name": "stderr",
     "output_type": "stream",
     "text": [
      "2021-11-24 16:16:16.719143: W tensorflow/core/data/root_dataset.cc:167] Optimization loop failed: Cancelled: Operation was cancelled\n"
     ]
    },
    {
     "name": "stdout",
     "output_type": "stream",
     "text": [
      "run 28 average reward 1 0.9989919\n",
      "run 29 average reward 1 0.9979839\n",
      "run 30 average reward 1 1.0\n",
      "run 31 average reward 1 0.9979839\n",
      "run 32 average reward 1 0.9989919\n",
      "run 33 average reward 1 1.0\n",
      "run 34 average reward 1 0.9979839\n",
      "run 35 average reward 1 1.0\n",
      "run 36 average reward 1 0.9989919\n",
      "run 37 average reward 1 1.0\n",
      "run 38 average reward 1 1.0\n",
      "run 39 average reward 1 1.0\n",
      "run 40 average reward 1 0.9979839\n",
      "run 41 average reward 1 1.0\n",
      "run 42 average reward 1 0.9989919\n",
      "run 43 average reward 1 0.9989919\n",
      "run 44 average reward 1 1.0\n",
      "run 45 average reward 1 1.0\n",
      "run 46 average reward 1 1.0\n",
      "run 47 average reward 1 0.9989919\n",
      "run 48 average reward 1 0.9979839\n",
      "run 49 average reward 1 0.9979839\n",
      "run 50 average reward 1 0.9979839\n",
      "run 51 average reward 1 0.9969758\n",
      "run 52 average reward 1 1.0\n",
      "run 53 average reward 1 0.9989919\n",
      "run 54 average reward 1 1.0\n",
      "run 55 average reward 1 1.0\n",
      "run 56 average reward 1 1.0\n",
      "run 57 average reward 1 1.0\n",
      "run 58 average reward 1 1.0\n",
      "run 59 average reward 1 1.0\n",
      "run 60 average reward 1 0.9979839\n",
      "run 61 average reward 1 0.9979839\n",
      "run 62 average reward 1 0.9989919\n",
      "run 63 average reward 1 0.9979839\n",
      "run 64 average reward 1 1.0\n",
      "run 65 average reward 1 0.9989919\n",
      "run 66 average reward 1 0.9989919\n",
      "run 67 average reward 1 1.0\n",
      "run 68 average reward 1 0.9989919\n",
      "run 69 average reward 1 0.9989919\n",
      "run 70 average reward 1 0.9989919\n",
      "run 71 average reward 1 0.9979839\n",
      "run 72 average reward 1 0.9979839\n",
      "run 73 average reward 1 0.99596775\n",
      "run 74 average reward 1 0.9989919\n",
      "run 75 average reward 1 0.9989919\n",
      "run 76 average reward 1 0.9989919\n",
      "run 77 average reward 1 0.9989919\n",
      "run 78 average reward 1 1.0\n",
      "run 79 average reward 1 0.9989919\n",
      "run 80 average reward 1 0.9989919\n",
      "run 81 average reward 1 0.9989919\n",
      "run 82 average reward 1 0.9979839\n",
      "run 83 average reward 1 1.0\n",
      "run 84 average reward 1 0.9979839\n",
      "run 85 average reward 1 1.0\n",
      "run 86 average reward 1 1.0\n",
      "run 87 average reward 1 0.9979839\n",
      "run 88 average reward 1 1.0\n",
      "run 89 average reward 1 1.0\n",
      "run 90 average reward 1 0.9989919\n",
      "run 91 average reward 1 0.9979839\n",
      "run 92 average reward 1 1.0\n",
      "run 93 average reward 1 0.9989919\n",
      "run 94 average reward 1 0.9979839\n",
      "run 95 average reward 1 1.0\n",
      "run 96 average reward 1 0.9979839\n",
      "run 97 average reward 1 1.0\n",
      "run 98 average reward 1 1.0\n",
      "run 99 average reward 1 1.0\n",
      "run 100 average reward 1 1.0\n"
     ]
    }
   ],
   "source": [
    "run_listener(learning_rate=0.001, n=3, reasoning=1, n_epochs=50, ME=1)"
   ]
  },
  {
   "cell_type": "code",
   "execution_count": 11,
   "metadata": {},
   "outputs": [
    {
     "name": "stdout",
     "output_type": "stream",
     "text": [
      "run 1 average reward 2 1.0\n",
      "run 2 average reward 2 1.0\n",
      "run 3 average reward 2 1.0\n",
      "run 4 average reward 2 1.0\n",
      "run 5 average reward 2 1.0\n",
      "run 6 average reward 2 0.9989919\n",
      "run 7 average reward 2 1.0\n",
      "run 8 average reward 2 1.0\n",
      "run 9 average reward 2 1.0\n",
      "run 10 average reward 2 1.0\n",
      "run 11 average reward 2 1.0\n",
      "run 12 average reward 2 1.0\n",
      "run 13 average reward 2 0.9989919\n",
      "run 14 average reward 2 0.9989919\n",
      "run 15 average reward 2 1.0\n",
      "run 16 average reward 2 1.0\n",
      "run 17 average reward 2 1.0\n",
      "run 18 average reward 2 1.0\n",
      "run 19 average reward 2 0.9989919\n",
      "run 20 average reward 2 0.9989919\n",
      "run 21 average reward 2 0.9979839\n",
      "run 22 average reward 2 1.0\n",
      "run 23 average reward 2 0.9989919\n",
      "run 24 average reward 2 0.9989919\n",
      "run 25 average reward 2 0.9989919\n",
      "run 26 average reward 2 1.0\n",
      "run 27 average reward 2 0.9989919\n"
     ]
    },
    {
     "name": "stderr",
     "output_type": "stream",
     "text": [
      "2021-11-24 23:04:19.384613: W tensorflow/core/data/root_dataset.cc:167] Optimization loop failed: Cancelled: Operation was cancelled\n",
      "2021-11-24 23:04:19.743607: W tensorflow/core/data/root_dataset.cc:167] Optimization loop failed: Cancelled: Operation was cancelled\n"
     ]
    },
    {
     "name": "stdout",
     "output_type": "stream",
     "text": [
      "run 28 average reward 2 0.9989919\n"
     ]
    },
    {
     "name": "stderr",
     "output_type": "stream",
     "text": [
      "2021-11-24 23:04:29.458222: W tensorflow/core/data/root_dataset.cc:167] Optimization loop failed: Cancelled: Operation was cancelled\n",
      "2021-11-24 23:04:30.548491: W tensorflow/core/data/root_dataset.cc:167] Optimization loop failed: Cancelled: Operation was cancelled\n"
     ]
    },
    {
     "name": "stdout",
     "output_type": "stream",
     "text": [
      "run 29 average reward 2 1.0\n",
      "run 30 average reward 2 1.0\n",
      "run 31 average reward 2 1.0\n",
      "run 32 average reward 2 1.0\n",
      "run 33 average reward 2 0.9989919\n",
      "run 34 average reward 2 0.9989919\n",
      "run 35 average reward 2 1.0\n",
      "run 36 average reward 2 0.9989919\n"
     ]
    },
    {
     "name": "stderr",
     "output_type": "stream",
     "text": [
      "2021-11-24 23:06:45.311406: W tensorflow/core/data/root_dataset.cc:167] Optimization loop failed: Cancelled: Operation was cancelled\n"
     ]
    },
    {
     "name": "stdout",
     "output_type": "stream",
     "text": [
      "run 37 average reward 2 1.0\n",
      "run 38 average reward 2 1.0\n",
      "run 39 average reward 2 1.0\n",
      "run 40 average reward 2 1.0\n",
      "run 41 average reward 2 1.0\n",
      "run 42 average reward 2 1.0\n",
      "run 43 average reward 2 1.0\n",
      "run 44 average reward 2 1.0\n",
      "run 45 average reward 2 1.0\n",
      "run 46 average reward 2 1.0\n",
      "run 47 average reward 2 1.0\n",
      "run 48 average reward 2 1.0\n",
      "run 49 average reward 2 1.0\n",
      "run 50 average reward 2 1.0\n",
      "run 51 average reward 2 1.0\n",
      "run 52 average reward 2 0.9989919\n",
      "run 53 average reward 2 1.0\n",
      "run 54 average reward 2 1.0\n",
      "run 55 average reward 2 1.0\n",
      "run 56 average reward 2 1.0\n",
      "run 57 average reward 2 0.9989919\n",
      "run 58 average reward 2 1.0\n",
      "run 59 average reward 2 1.0\n",
      "run 60 average reward 2 1.0\n",
      "run 61 average reward 2 1.0\n",
      "run 62 average reward 2 0.9989919\n",
      "run 63 average reward 2 1.0\n",
      "run 64 average reward 2 0.9989919\n",
      "run 65 average reward 2 0.9989919\n",
      "run 66 average reward 2 0.9989919\n",
      "run 67 average reward 2 0.9989919\n",
      "run 68 average reward 2 1.0\n",
      "run 69 average reward 2 1.0\n",
      "run 70 average reward 2 1.0\n",
      "run 71 average reward 2 1.0\n",
      "run 72 average reward 2 1.0\n",
      "run 73 average reward 2 1.0\n",
      "run 74 average reward 2 1.0\n",
      "run 75 average reward 2 1.0\n",
      "run 76 average reward 2 1.0\n",
      "run 77 average reward 2 1.0\n",
      "run 78 average reward 2 1.0\n",
      "run 79 average reward 2 1.0\n",
      "run 80 average reward 2 1.0\n",
      "run 81 average reward 2 0.9989919\n",
      "run 82 average reward 2 0.9969758\n",
      "run 83 average reward 2 1.0\n",
      "run 84 average reward 2 1.0\n",
      "run 85 average reward 2 1.0\n",
      "run 86 average reward 2 1.0\n",
      "run 87 average reward 2 1.0\n",
      "run 88 average reward 2 0.9969758\n",
      "run 89 average reward 2 1.0\n",
      "run 90 average reward 2 1.0\n"
     ]
    },
    {
     "name": "stderr",
     "output_type": "stream",
     "text": [
      "2021-11-24 23:17:57.985550: W tensorflow/core/data/root_dataset.cc:167] Optimization loop failed: Cancelled: Operation was cancelled\n"
     ]
    },
    {
     "name": "stdout",
     "output_type": "stream",
     "text": [
      "run 91 average reward 2 0.9989919\n",
      "run 92 average reward 2 1.0\n",
      "run 93 average reward 2 1.0\n",
      "run 94 average reward 2 1.0\n",
      "run 95 average reward 2 1.0\n",
      "run 96 average reward 2 1.0\n",
      "run 97 average reward 2 1.0\n",
      "run 98 average reward 2 1.0\n",
      "run 99 average reward 2 0.9989919\n",
      "run 100 average reward 2 1.0\n"
     ]
    }
   ],
   "source": [
    "run_listener(learning_rate=0.001, n=3, reasoning=1, n_epochs=50, ME=2)"
   ]
  },
  {
   "cell_type": "code",
   "execution_count": 14,
   "metadata": {},
   "outputs": [
    {
     "name": "stdout",
     "output_type": "stream",
     "text": [
      "run 1 average reward 1 1.0\n",
      "run 2 average reward 1 1.0\n",
      "run 3 average reward 1 1.0\n",
      "run 4 average reward 1 1.0\n",
      "run 5 average reward 1 1.0\n",
      "run 6 average reward 1 1.0\n",
      "run 7 average reward 1 1.0\n"
     ]
    },
    {
     "name": "stderr",
     "output_type": "stream",
     "text": [
      "2021-11-26 08:54:20.228310: W tensorflow/core/data/root_dataset.cc:167] Optimization loop failed: Cancelled: Operation was cancelled\n"
     ]
    },
    {
     "name": "stdout",
     "output_type": "stream",
     "text": [
      "run 8 average reward 1 1.0\n",
      "run 9 average reward 1 1.0\n",
      "run 10 average reward 1 1.0\n",
      "run 11 average reward 1 1.0\n",
      "run 12 average reward 1 0.9989919\n",
      "run 13 average reward 1 1.0\n"
     ]
    },
    {
     "name": "stderr",
     "output_type": "stream",
     "text": [
      "2021-11-26 08:56:20.234000: W tensorflow/core/data/root_dataset.cc:167] Optimization loop failed: Cancelled: Operation was cancelled\n"
     ]
    },
    {
     "name": "stdout",
     "output_type": "stream",
     "text": [
      "run 14 average reward 1 1.0\n",
      "run 15 average reward 1 1.0\n",
      "run 16 average reward 1 1.0\n",
      "run 17 average reward 1 1.0\n",
      "run 18 average reward 1 1.0\n",
      "run 19 average reward 1 1.0\n",
      "run 20 average reward 1 1.0\n",
      "run 21 average reward 1 1.0\n",
      "run 22 average reward 1 1.0\n",
      "run 23 average reward 1 1.0\n",
      "run 24 average reward 1 1.0\n",
      "run 25 average reward 1 1.0\n",
      "run 26 average reward 1 0.9989919\n",
      "run 27 average reward 1 0.9989919\n",
      "run 28 average reward 1 1.0\n",
      "run 29 average reward 1 1.0\n",
      "run 30 average reward 1 1.0\n",
      "run 31 average reward 1 1.0\n",
      "run 32 average reward 1 1.0\n",
      "run 33 average reward 1 1.0\n",
      "run 34 average reward 1 1.0\n",
      "run 35 average reward 1 1.0\n",
      "run 36 average reward 1 0.9989919\n",
      "run 37 average reward 1 1.0\n",
      "run 38 average reward 1 0.9989919\n",
      "run 39 average reward 1 1.0\n"
     ]
    },
    {
     "name": "stderr",
     "output_type": "stream",
     "text": [
      "2021-11-26 09:07:52.137957: W tensorflow/core/data/root_dataset.cc:167] Optimization loop failed: Cancelled: Operation was cancelled\n"
     ]
    },
    {
     "name": "stdout",
     "output_type": "stream",
     "text": [
      "run 40 average reward 1 1.0\n",
      "run 41 average reward 1 1.0\n",
      "run 42 average reward 1 1.0\n",
      "run 43 average reward 1 0.9989919\n",
      "run 44 average reward 1 1.0\n",
      "run 45 average reward 1 1.0\n",
      "run 46 average reward 1 0.9989919\n",
      "run 47 average reward 1 1.0\n",
      "run 48 average reward 1 1.0\n",
      "run 49 average reward 1 0.9989919\n",
      "run 50 average reward 1 1.0\n",
      "run 51 average reward 1 1.0\n",
      "run 52 average reward 1 1.0\n",
      "run 53 average reward 1 0.9979839\n",
      "run 54 average reward 1 1.0\n",
      "run 55 average reward 1 1.0\n",
      "run 56 average reward 1 0.9979839\n",
      "run 57 average reward 1 1.0\n",
      "run 58 average reward 1 1.0\n",
      "run 59 average reward 1 0.9989919\n",
      "run 60 average reward 1 1.0\n",
      "run 61 average reward 1 1.0\n",
      "run 62 average reward 1 1.0\n",
      "run 63 average reward 1 0.9989919\n",
      "run 64 average reward 1 1.0\n",
      "run 65 average reward 1 1.0\n",
      "run 66 average reward 1 0.9989919\n"
     ]
    },
    {
     "name": "stderr",
     "output_type": "stream",
     "text": [
      "2021-11-26 09:18:22.655524: W tensorflow/core/data/root_dataset.cc:167] Optimization loop failed: Cancelled: Operation was cancelled\n"
     ]
    },
    {
     "name": "stdout",
     "output_type": "stream",
     "text": [
      "run 67 average reward 1 1.0\n",
      "run 68 average reward 1 0.9989919\n",
      "run 69 average reward 1 1.0\n",
      "run 70 average reward 1 1.0\n",
      "run 71 average reward 1 1.0\n",
      "run 72 average reward 1 1.0\n",
      "run 73 average reward 1 1.0\n",
      "run 74 average reward 1 0.9989919\n",
      "run 75 average reward 1 1.0\n",
      "run 76 average reward 1 1.0\n",
      "run 77 average reward 1 1.0\n",
      "run 78 average reward 1 1.0\n",
      "run 79 average reward 1 1.0\n",
      "run 80 average reward 1 1.0\n",
      "run 81 average reward 1 1.0\n",
      "run 82 average reward 1 0.9989919\n",
      "run 83 average reward 1 1.0\n",
      "run 84 average reward 1 0.9989919\n",
      "run 85 average reward 1 1.0\n",
      "run 86 average reward 1 1.0\n",
      "run 87 average reward 1 1.0\n",
      "run 88 average reward 1 1.0\n",
      "run 89 average reward 1 1.0\n",
      "run 90 average reward 1 0.9989919\n",
      "run 91 average reward 1 1.0\n",
      "run 92 average reward 1 0.9989919\n",
      "run 93 average reward 1 1.0\n",
      "run 94 average reward 1 1.0\n",
      "run 95 average reward 1 1.0\n",
      "run 96 average reward 1 0.9989919\n",
      "run 97 average reward 1 1.0\n",
      "run 98 average reward 1 1.0\n",
      "run 99 average reward 1 1.0\n",
      "run 100 average reward 1 1.0\n"
     ]
    }
   ],
   "source": [
    "run_listener(learning_rate=0.001, n=6, reasoning=1, n_epochs=100, ME=1)"
   ]
  },
  {
   "cell_type": "code",
   "execution_count": 15,
   "metadata": {},
   "outputs": [
    {
     "name": "stdout",
     "output_type": "stream",
     "text": [
      "run 1 average reward 1 1.0\n",
      "run 2 average reward 1 1.0\n",
      "run 3 average reward 1 1.0\n",
      "run 4 average reward 1 0.9989919\n",
      "run 5 average reward 1 0.9979839\n",
      "run 6 average reward 1 0.9979839\n",
      "run 7 average reward 1 0.9989919\n",
      "run 8 average reward 1 1.0\n",
      "run 9 average reward 1 1.0\n",
      "run 10 average reward 1 1.0\n",
      "run 11 average reward 1 1.0\n",
      "run 12 average reward 1 1.0\n",
      "run 13 average reward 1 1.0\n",
      "run 14 average reward 1 1.0\n",
      "run 15 average reward 1 1.0\n",
      "run 16 average reward 1 1.0\n",
      "run 17 average reward 1 0.9989919\n",
      "run 18 average reward 1 1.0\n",
      "run 19 average reward 1 0.9969758\n",
      "run 20 average reward 1 1.0\n",
      "run 21 average reward 1 1.0\n",
      "run 22 average reward 1 1.0\n",
      "run 23 average reward 1 1.0\n",
      "run 24 average reward 1 0.9989919\n",
      "run 25 average reward 1 1.0\n",
      "run 26 average reward 1 1.0\n",
      "run 27 average reward 1 1.0\n",
      "run 28 average reward 1 0.9989919\n",
      "run 29 average reward 1 0.9989919\n",
      "run 30 average reward 1 1.0\n",
      "run 31 average reward 1 1.0\n",
      "run 32 average reward 1 1.0\n",
      "run 33 average reward 1 0.9989919\n",
      "run 34 average reward 1 1.0\n",
      "run 35 average reward 1 1.0\n",
      "run 36 average reward 1 1.0\n",
      "run 37 average reward 1 1.0\n",
      "run 38 average reward 1 1.0\n",
      "run 39 average reward 1 1.0\n"
     ]
    },
    {
     "name": "stderr",
     "output_type": "stream",
     "text": [
      "2021-11-26 09:48:52.455390: W tensorflow/core/data/root_dataset.cc:167] Optimization loop failed: Cancelled: Operation was cancelled\n"
     ]
    },
    {
     "name": "stdout",
     "output_type": "stream",
     "text": [
      "run 40 average reward 1 0.9989919\n",
      "run 41 average reward 1 1.0\n"
     ]
    },
    {
     "name": "stderr",
     "output_type": "stream",
     "text": [
      "2021-11-26 09:49:59.971783: W tensorflow/core/data/root_dataset.cc:167] Optimization loop failed: Cancelled: Operation was cancelled\n",
      "2021-11-26 09:50:02.121280: W tensorflow/core/data/root_dataset.cc:167] Optimization loop failed: Cancelled: Operation was cancelled\n"
     ]
    },
    {
     "name": "stdout",
     "output_type": "stream",
     "text": [
      "run 42 average reward 1 1.0\n",
      "run 43 average reward 1 1.0\n",
      "run 44 average reward 1 1.0\n",
      "run 45 average reward 1 1.0\n",
      "run 46 average reward 1 0.9989919\n"
     ]
    },
    {
     "name": "stderr",
     "output_type": "stream",
     "text": [
      "2021-11-26 09:51:59.075061: W tensorflow/core/data/root_dataset.cc:167] Optimization loop failed: Cancelled: Operation was cancelled\n"
     ]
    },
    {
     "name": "stdout",
     "output_type": "stream",
     "text": [
      "run 47 average reward 1 0.9989919\n"
     ]
    },
    {
     "name": "stderr",
     "output_type": "stream",
     "text": [
      "2021-11-26 09:52:15.224977: W tensorflow/core/data/root_dataset.cc:167] Optimization loop failed: Cancelled: Operation was cancelled\n",
      "2021-11-26 09:52:15.788475: W tensorflow/core/data/root_dataset.cc:167] Optimization loop failed: Cancelled: Operation was cancelled\n"
     ]
    },
    {
     "name": "stdout",
     "output_type": "stream",
     "text": [
      "run 48 average reward 1 1.0\n",
      "run 49 average reward 1 1.0\n",
      "run 50 average reward 1 1.0\n",
      "run 51 average reward 1 1.0\n",
      "run 52 average reward 1 1.0\n",
      "run 53 average reward 1 1.0\n",
      "run 54 average reward 1 1.0\n",
      "run 55 average reward 1 1.0\n",
      "run 56 average reward 1 1.0\n",
      "run 57 average reward 1 0.9989919\n",
      "run 58 average reward 1 1.0\n",
      "run 59 average reward 1 1.0\n",
      "run 60 average reward 1 1.0\n"
     ]
    },
    {
     "name": "stderr",
     "output_type": "stream",
     "text": [
      "2021-11-26 09:56:55.901091: W tensorflow/core/data/root_dataset.cc:167] Optimization loop failed: Cancelled: Operation was cancelled\n",
      "2021-11-26 09:56:55.973642: W tensorflow/core/data/root_dataset.cc:167] Optimization loop failed: Cancelled: Operation was cancelled\n",
      "2021-11-26 09:56:56.062183: W tensorflow/core/data/root_dataset.cc:167] Optimization loop failed: Cancelled: Operation was cancelled\n",
      "2021-11-26 09:56:56.135074: W tensorflow/core/data/root_dataset.cc:167] Optimization loop failed: Cancelled: Operation was cancelled\n",
      "2021-11-26 09:56:56.173729: W tensorflow/core/data/root_dataset.cc:167] Optimization loop failed: Cancelled: Operation was cancelled\n",
      "2021-11-26 09:56:56.188894: W tensorflow/core/data/root_dataset.cc:167] Optimization loop failed: Cancelled: Operation was cancelled\n"
     ]
    },
    {
     "name": "stdout",
     "output_type": "stream",
     "text": [
      "run 61 average reward 1 0.9969758\n",
      "run 62 average reward 1 0.9989919\n",
      "run 63 average reward 1 1.0\n",
      "run 64 average reward 1 1.0\n",
      "run 65 average reward 1 1.0\n",
      "run 66 average reward 1 1.0\n",
      "run 67 average reward 1 1.0\n",
      "run 68 average reward 1 1.0\n",
      "run 69 average reward 1 1.0\n"
     ]
    },
    {
     "name": "stderr",
     "output_type": "stream",
     "text": [
      "2021-11-26 10:00:22.248823: W tensorflow/core/data/root_dataset.cc:167] Optimization loop failed: Cancelled: Operation was cancelled\n",
      "2021-11-26 10:00:22.427684: W tensorflow/core/data/root_dataset.cc:167] Optimization loop failed: Cancelled: Operation was cancelled\n",
      "2021-11-26 10:00:22.456199: W tensorflow/core/data/root_dataset.cc:167] Optimization loop failed: Cancelled: Operation was cancelled\n"
     ]
    },
    {
     "name": "stdout",
     "output_type": "stream",
     "text": [
      "run 70 average reward 1 1.0\n",
      "run 71 average reward 1 1.0\n",
      "run 72 average reward 1 0.9989919\n",
      "run 73 average reward 1 1.0\n",
      "run 74 average reward 1 1.0\n",
      "run 75 average reward 1 1.0\n",
      "run 76 average reward 1 1.0\n",
      "run 77 average reward 1 1.0\n",
      "run 78 average reward 1 0.9989919\n",
      "run 79 average reward 1 1.0\n",
      "run 80 average reward 1 1.0\n",
      "run 81 average reward 1 1.0\n",
      "run 82 average reward 1 0.9989919\n",
      "run 83 average reward 1 1.0\n",
      "run 84 average reward 1 1.0\n",
      "run 85 average reward 1 1.0\n"
     ]
    },
    {
     "name": "stderr",
     "output_type": "stream",
     "text": [
      "2021-11-26 10:06:53.592788: W tensorflow/core/data/root_dataset.cc:167] Optimization loop failed: Cancelled: Operation was cancelled\n"
     ]
    },
    {
     "name": "stdout",
     "output_type": "stream",
     "text": [
      "run 86 average reward 1 1.0\n",
      "run 87 average reward 1 1.0\n",
      "run 88 average reward 1 1.0\n",
      "run 89 average reward 1 1.0\n",
      "run 90 average reward 1 1.0\n",
      "run 91 average reward 1 0.9989919\n",
      "run 92 average reward 1 1.0\n",
      "run 93 average reward 1 1.0\n",
      "run 94 average reward 1 1.0\n",
      "run 95 average reward 1 1.0\n",
      "run 96 average reward 1 1.0\n",
      "run 97 average reward 1 0.9979839\n",
      "run 98 average reward 1 0.9989919\n",
      "run 99 average reward 1 1.0\n",
      "run 100 average reward 1 0.9979839\n"
     ]
    }
   ],
   "source": [
    "run_listener(learning_rate=0.001, n=7, reasoning=1, n_epochs=100, ME=1)"
   ]
  },
  {
   "cell_type": "code",
   "execution_count": 16,
   "metadata": {},
   "outputs": [
    {
     "name": "stdout",
     "output_type": "stream",
     "text": [
      "run 1 average reward 1 1.0\n",
      "run 2 average reward 1 1.0\n",
      "run 3 average reward 1 1.0\n",
      "run 4 average reward 1 1.0\n",
      "run 5 average reward 1 0.9989919\n",
      "run 6 average reward 1 1.0\n",
      "run 7 average reward 1 1.0\n",
      "run 8 average reward 1 1.0\n",
      "run 9 average reward 1 1.0\n",
      "run 10 average reward 1 1.0\n",
      "run 11 average reward 1 1.0\n",
      "run 12 average reward 1 1.0\n",
      "run 13 average reward 1 1.0\n",
      "run 14 average reward 1 0.9989919\n",
      "run 15 average reward 1 1.0\n",
      "run 16 average reward 1 0.9979839\n",
      "run 17 average reward 1 1.0\n",
      "run 18 average reward 1 1.0\n",
      "run 19 average reward 1 0.9989919\n",
      "run 20 average reward 1 0.9989919\n",
      "run 21 average reward 1 0.9989919\n",
      "run 22 average reward 1 1.0\n",
      "run 23 average reward 1 0.9979839\n",
      "run 24 average reward 1 1.0\n",
      "run 25 average reward 1 1.0\n",
      "run 26 average reward 1 0.9989919\n",
      "run 27 average reward 1 1.0\n",
      "run 28 average reward 1 1.0\n",
      "run 29 average reward 1 1.0\n"
     ]
    },
    {
     "name": "stderr",
     "output_type": "stream",
     "text": [
      "2021-11-26 10:21:54.925485: W tensorflow/core/data/root_dataset.cc:167] Optimization loop failed: Cancelled: Operation was cancelled\n",
      "2021-11-26 10:22:02.091901: W tensorflow/core/data/root_dataset.cc:167] Optimization loop failed: Cancelled: Operation was cancelled\n"
     ]
    },
    {
     "name": "stdout",
     "output_type": "stream",
     "text": [
      "run 30 average reward 1 1.0\n",
      "run 31 average reward 1 1.0\n",
      "run 32 average reward 1 1.0\n",
      "run 33 average reward 1 1.0\n",
      "run 34 average reward 1 1.0\n",
      "run 35 average reward 1 1.0\n",
      "run 36 average reward 1 0.9989919\n"
     ]
    },
    {
     "name": "stderr",
     "output_type": "stream",
     "text": [
      "2021-11-26 10:24:31.050586: W tensorflow/core/data/root_dataset.cc:167] Optimization loop failed: Cancelled: Operation was cancelled\n"
     ]
    },
    {
     "name": "stdout",
     "output_type": "stream",
     "text": [
      "run 37 average reward 1 1.0\n",
      "run 38 average reward 1 1.0\n",
      "run 39 average reward 1 0.9989919\n",
      "run 40 average reward 1 1.0\n",
      "run 41 average reward 1 0.9989919\n",
      "run 42 average reward 1 1.0\n",
      "run 43 average reward 1 1.0\n",
      "run 44 average reward 1 0.9989919\n",
      "run 45 average reward 1 1.0\n",
      "run 46 average reward 1 1.0\n",
      "run 47 average reward 1 1.0\n",
      "run 48 average reward 1 1.0\n",
      "run 49 average reward 1 0.9979839\n",
      "run 50 average reward 1 1.0\n",
      "run 51 average reward 1 0.9989919\n",
      "run 52 average reward 1 0.9989919\n",
      "run 53 average reward 1 1.0\n",
      "run 54 average reward 1 1.0\n",
      "run 55 average reward 1 1.0\n",
      "run 56 average reward 1 1.0\n",
      "run 57 average reward 1 1.0\n",
      "run 58 average reward 1 1.0\n",
      "run 59 average reward 1 1.0\n",
      "run 60 average reward 1 0.9989919\n",
      "run 61 average reward 1 0.9989919\n",
      "run 62 average reward 1 1.0\n",
      "run 63 average reward 1 0.9989919\n",
      "run 64 average reward 1 1.0\n"
     ]
    },
    {
     "name": "stderr",
     "output_type": "stream",
     "text": [
      "2021-11-26 10:35:06.844030: W tensorflow/core/data/root_dataset.cc:167] Optimization loop failed: Cancelled: Operation was cancelled\n",
      "2021-11-26 10:35:06.877982: W tensorflow/core/data/root_dataset.cc:167] Optimization loop failed: Cancelled: Operation was cancelled\n",
      "2021-11-26 10:35:06.956466: W tensorflow/core/data/root_dataset.cc:167] Optimization loop failed: Cancelled: Operation was cancelled\n",
      "2021-11-26 10:35:16.980115: W tensorflow/core/data/root_dataset.cc:167] Optimization loop failed: Cancelled: Operation was cancelled\n"
     ]
    },
    {
     "name": "stdout",
     "output_type": "stream",
     "text": [
      "run 65 average reward 1 0.9979839\n",
      "run 66 average reward 1 1.0\n",
      "run 67 average reward 1 1.0\n",
      "run 68 average reward 1 0.9989919\n",
      "run 69 average reward 1 1.0\n",
      "run 70 average reward 1 1.0\n"
     ]
    },
    {
     "name": "stderr",
     "output_type": "stream",
     "text": [
      "2021-11-26 10:37:47.305480: W tensorflow/core/data/root_dataset.cc:167] Optimization loop failed: Cancelled: Operation was cancelled\n",
      "2021-11-26 10:37:47.392657: W tensorflow/core/data/root_dataset.cc:167] Optimization loop failed: Cancelled: Operation was cancelled\n"
     ]
    },
    {
     "name": "stdout",
     "output_type": "stream",
     "text": [
      "run 71 average reward 1 1.0\n",
      "run 72 average reward 1 1.0\n",
      "run 73 average reward 1 1.0\n",
      "run 74 average reward 1 1.0\n",
      "run 75 average reward 1 0.9979839\n",
      "run 76 average reward 1 1.0\n",
      "run 77 average reward 1 1.0\n",
      "run 78 average reward 1 1.0\n",
      "run 79 average reward 1 0.9989919\n",
      "run 80 average reward 1 0.9989919\n",
      "run 81 average reward 1 0.9989919\n",
      "run 82 average reward 1 0.9989919\n",
      "run 83 average reward 1 1.0\n"
     ]
    },
    {
     "name": "stderr",
     "output_type": "stream",
     "text": [
      "2021-11-26 10:43:21.133493: W tensorflow/core/data/root_dataset.cc:167] Optimization loop failed: Cancelled: Operation was cancelled\n"
     ]
    },
    {
     "name": "stdout",
     "output_type": "stream",
     "text": [
      "run 84 average reward 1 1.0\n",
      "run 85 average reward 1 1.0\n",
      "run 86 average reward 1 1.0\n",
      "run 87 average reward 1 1.0\n",
      "run 88 average reward 1 1.0\n",
      "run 89 average reward 1 0.9989919\n",
      "run 90 average reward 1 1.0\n",
      "run 91 average reward 1 1.0\n",
      "run 92 average reward 1 0.9979839\n",
      "run 93 average reward 1 1.0\n",
      "run 94 average reward 1 0.9989919\n"
     ]
    },
    {
     "name": "stderr",
     "output_type": "stream",
     "text": [
      "2021-11-26 10:48:28.373263: W tensorflow/core/data/root_dataset.cc:167] Optimization loop failed: Cancelled: Operation was cancelled\n",
      "2021-11-26 10:48:43.536913: W tensorflow/core/data/root_dataset.cc:167] Optimization loop failed: Cancelled: Operation was cancelled\n"
     ]
    },
    {
     "name": "stdout",
     "output_type": "stream",
     "text": [
      "run 95 average reward 1 1.0\n",
      "run 96 average reward 1 1.0\n",
      "run 97 average reward 1 0.9989919\n",
      "run 98 average reward 1 1.0\n",
      "run 99 average reward 1 1.0\n",
      "run 100 average reward 1 1.0\n"
     ]
    }
   ],
   "source": [
    "run_listener(learning_rate=0.001, n=8, reasoning=1, n_epochs=100, ME=1)"
   ]
  },
  {
   "cell_type": "code",
   "execution_count": 17,
   "metadata": {},
   "outputs": [
    {
     "name": "stderr",
     "output_type": "stream",
     "text": [
      "2021-11-26 10:52:44.078969: W tensorflow/core/data/root_dataset.cc:167] Optimization loop failed: Cancelled: Operation was cancelled\n"
     ]
    },
    {
     "name": "stdout",
     "output_type": "stream",
     "text": [
      "run 1 average reward 1 1.0\n",
      "run 2 average reward 1 1.0\n"
     ]
    },
    {
     "name": "stderr",
     "output_type": "stream",
     "text": [
      "2021-11-26 10:53:50.900607: W tensorflow/core/data/root_dataset.cc:167] Optimization loop failed: Cancelled: Operation was cancelled\n"
     ]
    },
    {
     "name": "stdout",
     "output_type": "stream",
     "text": [
      "run 3 average reward 1 1.0\n",
      "run 4 average reward 1 1.0\n",
      "run 5 average reward 1 0.9989919\n"
     ]
    },
    {
     "name": "stderr",
     "output_type": "stream",
     "text": [
      "2021-11-26 10:54:59.748163: W tensorflow/core/data/root_dataset.cc:167] Optimization loop failed: Cancelled: Operation was cancelled\n",
      "2021-11-26 10:55:01.045025: W tensorflow/core/data/root_dataset.cc:167] Optimization loop failed: Cancelled: Operation was cancelled\n",
      "2021-11-26 10:55:23.125626: W tensorflow/core/data/root_dataset.cc:167] Optimization loop failed: Cancelled: Operation was cancelled\n"
     ]
    },
    {
     "name": "stdout",
     "output_type": "stream",
     "text": [
      "run 6 average reward 1 0.9989919\n",
      "run 7 average reward 1 1.0\n",
      "run 8 average reward 1 1.0\n",
      "run 9 average reward 1 1.0\n",
      "run 10 average reward 1 1.0\n",
      "run 11 average reward 1 1.0\n",
      "run 12 average reward 1 0.9989919\n",
      "run 13 average reward 1 1.0\n",
      "run 14 average reward 1 1.0\n",
      "run 15 average reward 1 1.0\n"
     ]
    },
    {
     "name": "stderr",
     "output_type": "stream",
     "text": [
      "2021-11-26 11:01:34.360786: W tensorflow/core/data/root_dataset.cc:167] Optimization loop failed: Cancelled: Operation was cancelled\n",
      "2021-11-26 11:01:36.193721: W tensorflow/core/data/root_dataset.cc:167] Optimization loop failed: Cancelled: Operation was cancelled\n",
      "2021-11-26 11:01:36.305463: W tensorflow/core/data/root_dataset.cc:167] Optimization loop failed: Cancelled: Operation was cancelled\n"
     ]
    },
    {
     "name": "stdout",
     "output_type": "stream",
     "text": [
      "run 16 average reward 1 0.9989919\n"
     ]
    },
    {
     "name": "stderr",
     "output_type": "stream",
     "text": [
      "2021-11-26 11:02:13.631945: W tensorflow/core/data/root_dataset.cc:167] Optimization loop failed: Cancelled: Operation was cancelled\n"
     ]
    },
    {
     "name": "stdout",
     "output_type": "stream",
     "text": [
      "run 17 average reward 1 0.9979839\n",
      "run 18 average reward 1 1.0\n",
      "run 19 average reward 1 1.0\n",
      "run 20 average reward 1 0.9989919\n",
      "run 21 average reward 1 1.0\n",
      "run 22 average reward 1 0.9989919\n",
      "run 23 average reward 1 1.0\n",
      "run 24 average reward 1 0.9989919\n",
      "run 25 average reward 1 1.0\n",
      "run 26 average reward 1 1.0\n",
      "run 27 average reward 1 1.0\n",
      "run 28 average reward 1 1.0\n",
      "run 29 average reward 1 0.9989919\n",
      "run 30 average reward 1 0.9989919\n",
      "run 31 average reward 1 1.0\n",
      "run 32 average reward 1 1.0\n",
      "run 33 average reward 1 0.9979839\n",
      "run 34 average reward 1 0.9989919\n",
      "run 35 average reward 1 1.0\n",
      "run 36 average reward 1 0.9989919\n",
      "run 37 average reward 1 1.0\n",
      "run 38 average reward 1 0.9989919\n",
      "run 39 average reward 1 1.0\n",
      "run 40 average reward 1 1.0\n",
      "run 41 average reward 1 1.0\n",
      "run 42 average reward 1 1.0\n",
      "run 43 average reward 1 0.9989919\n",
      "run 44 average reward 1 0.9989919\n",
      "run 45 average reward 1 0.9989919\n",
      "run 46 average reward 1 1.0\n",
      "run 47 average reward 1 1.0\n",
      "run 48 average reward 1 0.9979839\n",
      "run 49 average reward 1 1.0\n",
      "run 50 average reward 1 1.0\n",
      "run 51 average reward 1 1.0\n",
      "run 52 average reward 1 1.0\n",
      "run 53 average reward 1 1.0\n",
      "run 54 average reward 1 0.9969758\n",
      "run 55 average reward 1 0.9989919\n",
      "run 56 average reward 1 0.9969758\n",
      "run 57 average reward 1 1.0\n",
      "run 58 average reward 1 0.9989919\n",
      "run 59 average reward 1 1.0\n",
      "run 60 average reward 1 1.0\n",
      "run 61 average reward 1 0.9989919\n",
      "run 62 average reward 1 1.0\n",
      "run 63 average reward 1 1.0\n",
      "run 64 average reward 1 1.0\n",
      "run 65 average reward 1 0.9989919\n",
      "run 66 average reward 1 0.9989919\n",
      "run 67 average reward 1 0.9979839\n",
      "run 68 average reward 1 1.0\n",
      "run 69 average reward 1 1.0\n",
      "run 70 average reward 1 1.0\n",
      "run 71 average reward 1 1.0\n",
      "run 72 average reward 1 1.0\n",
      "run 73 average reward 1 1.0\n",
      "run 74 average reward 1 1.0\n",
      "run 75 average reward 1 0.9989919\n",
      "run 76 average reward 1 0.9989919\n",
      "run 77 average reward 1 1.0\n",
      "run 78 average reward 1 1.0\n",
      "run 79 average reward 1 1.0\n",
      "run 80 average reward 1 0.9989919\n",
      "run 81 average reward 1 1.0\n",
      "run 82 average reward 1 0.9989919\n",
      "run 83 average reward 1 1.0\n"
     ]
    },
    {
     "name": "stderr",
     "output_type": "stream",
     "text": [
      "2021-11-26 11:29:16.589652: W tensorflow/core/data/root_dataset.cc:167] Optimization loop failed: Cancelled: Operation was cancelled\n",
      "2021-11-26 11:29:16.705952: W tensorflow/core/data/root_dataset.cc:167] Optimization loop failed: Cancelled: Operation was cancelled\n",
      "2021-11-26 11:29:17.747941: W tensorflow/core/data/root_dataset.cc:167] Optimization loop failed: Cancelled: Operation was cancelled\n",
      "2021-11-26 11:29:19.748328: W tensorflow/core/data/root_dataset.cc:167] Optimization loop failed: Cancelled: Operation was cancelled\n",
      "2021-11-26 11:29:20.032341: W tensorflow/core/data/root_dataset.cc:167] Optimization loop failed: Cancelled: Operation was cancelled\n",
      "2021-11-26 11:29:20.111873: W tensorflow/core/data/root_dataset.cc:167] Optimization loop failed: Cancelled: Operation was cancelled\n",
      "2021-11-26 11:29:21.191272: W tensorflow/core/data/root_dataset.cc:167] Optimization loop failed: Cancelled: Operation was cancelled\n",
      "2021-11-26 11:29:21.676843: W tensorflow/core/data/root_dataset.cc:167] Optimization loop failed: Cancelled: Operation was cancelled\n"
     ]
    },
    {
     "name": "stdout",
     "output_type": "stream",
     "text": [
      "run 84 average reward 1 1.0\n",
      "run 85 average reward 1 1.0\n",
      "run 86 average reward 1 0.9989919\n",
      "run 87 average reward 1 0.9989919\n",
      "run 88 average reward 1 1.0\n",
      "run 89 average reward 1 1.0\n",
      "run 90 average reward 1 1.0\n",
      "run 91 average reward 1 1.0\n",
      "run 92 average reward 1 1.0\n",
      "run 93 average reward 1 1.0\n",
      "run 94 average reward 1 1.0\n",
      "run 95 average reward 1 0.9989919\n",
      "run 96 average reward 1 1.0\n",
      "run 97 average reward 1 1.0\n",
      "run 98 average reward 1 0.9989919\n",
      "run 99 average reward 1 1.0\n",
      "run 100 average reward 1 1.0\n"
     ]
    }
   ],
   "source": [
    "run_listener(learning_rate=0.001, n=9, reasoning=1, n_epochs=100, ME=1)"
   ]
  },
  {
   "cell_type": "code",
   "execution_count": null,
   "metadata": {},
   "outputs": [
    {
     "name": "stderr",
     "output_type": "stream",
     "text": [
      "2021-11-25 14:40:07.870729: W tensorflow/core/data/root_dataset.cc:167] Optimization loop failed: Cancelled: Operation was cancelled\n",
      "2021-11-25 14:40:07.948317: W tensorflow/core/data/root_dataset.cc:167] Optimization loop failed: Cancelled: Operation was cancelled\n",
      "2021-11-25 14:40:10.484649: W tensorflow/core/data/root_dataset.cc:167] Optimization loop failed: Cancelled: Operation was cancelled\n",
      "2021-11-25 14:40:10.536918: W tensorflow/core/data/root_dataset.cc:167] Optimization loop failed: Cancelled: Operation was cancelled\n",
      "2021-11-25 14:40:10.805334: W tensorflow/core/data/root_dataset.cc:167] Optimization loop failed: Cancelled: Operation was cancelled\n"
     ]
    },
    {
     "name": "stdout",
     "output_type": "stream",
     "text": [
      "run 1 average reward 1 1.0\n",
      "run 2 average reward 1 1.0\n",
      "run 3 average reward 1 1.0\n",
      "run 4 average reward 1 0.9989919\n",
      "run 5 average reward 1 1.0\n",
      "run 6 average reward 1 1.0\n",
      "run 7 average reward 1 1.0\n",
      "run 8 average reward 1 1.0\n"
     ]
    },
    {
     "name": "stderr",
     "output_type": "stream",
     "text": [
      "2021-11-25 14:44:34.206351: W tensorflow/core/data/root_dataset.cc:167] Optimization loop failed: Cancelled: Operation was cancelled\n"
     ]
    },
    {
     "name": "stdout",
     "output_type": "stream",
     "text": [
      "run 9 average reward 1 1.0\n",
      "run 10 average reward 1 1.0\n",
      "run 11 average reward 1 1.0\n",
      "run 12 average reward 1 1.0\n",
      "run 13 average reward 1 1.0\n",
      "run 14 average reward 1 1.0\n",
      "run 15 average reward 1 0.9989919\n",
      "run 16 average reward 1 0.9989919\n",
      "run 17 average reward 1 1.0\n",
      "run 18 average reward 1 0.9989919\n",
      "run 19 average reward 1 1.0\n",
      "run 20 average reward 1 1.0\n",
      "run 21 average reward 1 1.0\n",
      "run 22 average reward 1 1.0\n",
      "run 23 average reward 1 0.9989919\n",
      "run 24 average reward 1 0.9989919\n",
      "run 25 average reward 1 0.9979839\n",
      "run 26 average reward 1 0.9989919\n",
      "run 27 average reward 1 1.0\n",
      "run 28 average reward 1 1.0\n",
      "run 29 average reward 1 1.0\n",
      "run 30 average reward 1 1.0\n",
      "run 31 average reward 1 1.0\n",
      "run 32 average reward 1 1.0\n",
      "run 33 average reward 1 1.0\n",
      "run 34 average reward 1 1.0\n",
      "run 35 average reward 1 1.0\n",
      "run 36 average reward 1 0.9989919\n",
      "run 37 average reward 1 1.0\n",
      "run 38 average reward 1 1.0\n",
      "run 39 average reward 1 1.0\n",
      "run 40 average reward 1 0.9979839\n",
      "run 41 average reward 1 1.0\n",
      "run 42 average reward 1 1.0\n",
      "run 43 average reward 1 1.0\n",
      "run 44 average reward 1 1.0\n",
      "run 45 average reward 1 0.9979839\n",
      "run 46 average reward 1 1.0\n",
      "run 47 average reward 1 1.0\n",
      "run 48 average reward 1 1.0\n",
      "run 49 average reward 1 0.9989919\n",
      "run 50 average reward 1 0.9979839\n",
      "run 51 average reward 1 1.0\n",
      "run 52 average reward 1 1.0\n",
      "run 53 average reward 1 1.0\n",
      "run 54 average reward 1 1.0\n",
      "run 55 average reward 1 0.9989919\n",
      "run 56 average reward 1 1.0\n",
      "run 57 average reward 1 0.9979839\n",
      "run 58 average reward 1 1.0\n",
      "run 59 average reward 1 0.9989919\n",
      "run 60 average reward 1 0.9989919\n",
      "run 61 average reward 1 1.0\n",
      "run 62 average reward 1 1.0\n",
      "run 63 average reward 1 0.9989919\n",
      "run 64 average reward 1 0.9989919\n",
      "run 65 average reward 1 0.9979839\n",
      "run 66 average reward 1 1.0\n",
      "run 67 average reward 1 0.9979839\n",
      "run 68 average reward 1 0.9989919\n",
      "run 69 average reward 1 1.0\n",
      "run 70 average reward 1 1.0\n",
      "run 71 average reward 1 1.0\n",
      "run 72 average reward 1 1.0\n",
      "run 73 average reward 1 1.0\n",
      "run 74 average reward 1 1.0\n",
      "run 75 average reward 1 1.0\n",
      "run 76 average reward 1 1.0\n",
      "run 77 average reward 1 1.0\n",
      "run 78 average reward 1 0.9989919\n",
      "run 79 average reward 1 1.0\n",
      "run 80 average reward 1 1.0\n",
      "run 81 average reward 1 0.9989919\n",
      "run 82 average reward 1 1.0\n",
      "run 83 average reward 1 0.9989919\n",
      "run 84 average reward 1 0.9989919\n",
      "run 85 average reward 1 1.0\n",
      "run 86 average reward 1 1.0\n",
      "run 87 average reward 1 1.0\n",
      "run 88 average reward 1 0.9989919\n",
      "run 89 average reward 1 0.9989919\n",
      "run 90 average reward 1 1.0\n",
      "run 91 average reward 1 0.9989919\n",
      "run 92 average reward 1 0.9989919\n",
      "run 93 average reward 1 0.9989919\n",
      "run 94 average reward 1 1.0\n",
      "run 95 average reward 1 1.0\n",
      "run 96 average reward 1 0.9989919\n",
      "run 97 average reward 1 1.0\n",
      "run 98 average reward 1 1.0\n",
      "run 99 average reward 1 0.9989919\n",
      "run 100 average reward 1 1.0\n"
     ]
    }
   ],
   "source": [
    "run_listener(learning_rate=0.001, n=10, reasoning=1, n_epochs=100, ME=1)"
   ]
  },
  {
   "cell_type": "code",
   "execution_count": 12,
   "metadata": {},
   "outputs": [
    {
     "name": "stdout",
     "output_type": "stream",
     "text": [
      "run 1 average reward 2 1.0\n",
      "run 2 average reward 2 1.0\n",
      "run 3 average reward 2 1.0\n",
      "run 4 average reward 2 1.0\n",
      "run 5 average reward 2 0.9989919\n",
      "run 6 average reward 2 1.0\n",
      "run 7 average reward 2 1.0\n",
      "run 8 average reward 2 0.9989919\n",
      "run 9 average reward 2 1.0\n",
      "run 10 average reward 2 1.0\n",
      "run 11 average reward 2 0.9989919\n",
      "run 12 average reward 2 1.0\n",
      "run 13 average reward 2 1.0\n",
      "run 14 average reward 2 1.0\n",
      "run 15 average reward 2 1.0\n",
      "run 16 average reward 2 1.0\n",
      "run 17 average reward 2 1.0\n",
      "run 18 average reward 2 0.9979839\n",
      "run 19 average reward 2 0.9989919\n",
      "run 20 average reward 2 0.9989919\n",
      "run 21 average reward 2 1.0\n",
      "run 22 average reward 2 1.0\n",
      "run 23 average reward 2 0.9989919\n",
      "run 24 average reward 2 1.0\n",
      "run 25 average reward 2 1.0\n",
      "run 26 average reward 2 1.0\n",
      "run 27 average reward 2 0.9979839\n",
      "run 28 average reward 2 1.0\n",
      "run 29 average reward 2 1.0\n",
      "run 30 average reward 2 1.0\n",
      "run 31 average reward 2 0.9989919\n",
      "run 32 average reward 2 0.9989919\n",
      "run 33 average reward 2 1.0\n",
      "run 34 average reward 2 0.9989919\n",
      "run 35 average reward 2 1.0\n",
      "run 36 average reward 2 1.0\n",
      "run 37 average reward 2 0.9989919\n",
      "run 38 average reward 2 1.0\n",
      "run 39 average reward 2 1.0\n",
      "run 40 average reward 2 1.0\n",
      "run 41 average reward 2 1.0\n",
      "run 42 average reward 2 1.0\n"
     ]
    },
    {
     "name": "stderr",
     "output_type": "stream",
     "text": [
      "2021-11-24 23:37:03.786365: W tensorflow/core/data/root_dataset.cc:167] Optimization loop failed: Cancelled: Operation was cancelled\n",
      "2021-11-24 23:37:13.840176: W tensorflow/core/data/root_dataset.cc:167] Optimization loop failed: Cancelled: Operation was cancelled\n"
     ]
    },
    {
     "name": "stdout",
     "output_type": "stream",
     "text": [
      "run 43 average reward 2 1.0\n"
     ]
    },
    {
     "name": "stderr",
     "output_type": "stream",
     "text": [
      "2021-11-24 23:37:33.187772: W tensorflow/core/data/root_dataset.cc:167] Optimization loop failed: Cancelled: Operation was cancelled\n"
     ]
    },
    {
     "name": "stdout",
     "output_type": "stream",
     "text": [
      "run 44 average reward 2 1.0\n",
      "run 45 average reward 2 0.9989919\n",
      "run 46 average reward 2 1.0\n"
     ]
    },
    {
     "name": "stderr",
     "output_type": "stream",
     "text": [
      "2021-11-24 23:39:18.236749: W tensorflow/core/data/root_dataset.cc:167] Optimization loop failed: Cancelled: Operation was cancelled\n"
     ]
    },
    {
     "name": "stdout",
     "output_type": "stream",
     "text": [
      "run 47 average reward 2 0.9989919\n",
      "run 48 average reward 2 0.9989919\n",
      "run 49 average reward 2 1.0\n",
      "run 50 average reward 2 1.0\n",
      "run 51 average reward 2 1.0\n",
      "run 52 average reward 2 0.9989919\n",
      "run 53 average reward 2 1.0\n",
      "run 54 average reward 2 1.0\n",
      "run 55 average reward 2 1.0\n",
      "run 56 average reward 2 1.0\n",
      "run 57 average reward 2 1.0\n",
      "run 58 average reward 2 0.9989919\n",
      "run 59 average reward 2 1.0\n",
      "run 60 average reward 2 1.0\n",
      "run 61 average reward 2 1.0\n",
      "run 62 average reward 2 1.0\n",
      "run 63 average reward 2 0.9989919\n",
      "run 64 average reward 2 1.0\n",
      "run 65 average reward 2 1.0\n",
      "run 66 average reward 2 1.0\n",
      "run 67 average reward 2 1.0\n",
      "run 68 average reward 2 1.0\n",
      "run 69 average reward 2 0.9989919\n",
      "run 70 average reward 2 1.0\n",
      "run 71 average reward 2 1.0\n",
      "run 72 average reward 2 1.0\n",
      "run 73 average reward 2 0.9989919\n",
      "run 74 average reward 2 1.0\n",
      "run 75 average reward 2 1.0\n",
      "run 76 average reward 2 1.0\n",
      "run 77 average reward 2 1.0\n",
      "run 78 average reward 2 1.0\n",
      "run 79 average reward 2 1.0\n",
      "run 80 average reward 2 1.0\n",
      "run 81 average reward 2 0.9989919\n",
      "run 82 average reward 2 1.0\n",
      "run 83 average reward 2 1.0\n",
      "run 84 average reward 2 0.9989919\n",
      "run 85 average reward 2 1.0\n",
      "run 86 average reward 2 1.0\n",
      "run 87 average reward 2 1.0\n",
      "run 88 average reward 2 1.0\n",
      "run 89 average reward 2 1.0\n",
      "run 90 average reward 2 1.0\n"
     ]
    },
    {
     "name": "stderr",
     "output_type": "stream",
     "text": [
      "2021-11-24 23:55:07.325306: W tensorflow/core/data/root_dataset.cc:167] Optimization loop failed: Cancelled: Operation was cancelled\n"
     ]
    },
    {
     "name": "stdout",
     "output_type": "stream",
     "text": [
      "run 91 average reward 2 1.0\n",
      "run 92 average reward 2 1.0\n",
      "run 93 average reward 2 1.0\n",
      "run 94 average reward 2 1.0\n",
      "run 95 average reward 2 1.0\n",
      "run 96 average reward 2 1.0\n",
      "run 97 average reward 2 1.0\n",
      "run 98 average reward 2 1.0\n",
      "run 99 average reward 2 1.0\n",
      "run 100 average reward 2 1.0\n"
     ]
    }
   ],
   "source": [
    "run_listener(learning_rate=0.001, n=10, reasoning=1, n_epochs=100, ME=2)"
   ]
  }
 ],
 "metadata": {
  "interpreter": {
   "hash": "aee8b7b246df8f9039afb4144a1f6fd8d2ca17a180786b69acc140d282b71a49"
  },
  "kernelspec": {
   "display_name": "Python 3.9.2 64-bit",
   "name": "python3"
  },
  "language_info": {
   "codemirror_mode": {
    "name": "ipython",
    "version": 3
   },
   "file_extension": ".py",
   "mimetype": "text/x-python",
   "name": "python",
   "nbconvert_exporter": "python",
   "pygments_lexer": "ipython3",
   "version": "3.9.2"
  }
 },
 "nbformat": 4,
 "nbformat_minor": 2
}
