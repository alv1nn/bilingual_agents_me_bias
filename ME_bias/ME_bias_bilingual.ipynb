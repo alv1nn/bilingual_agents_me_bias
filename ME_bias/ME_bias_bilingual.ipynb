{
 "cells": [
  {
   "cell_type": "markdown",
   "metadata": {},
   "source": [
    "# ME bias in the single agent setting"
   ]
  },
  {
   "cell_type": "markdown",
   "metadata": {},
   "source": [
    "## Setup the training"
   ]
  },
  {
   "cell_type": "code",
   "execution_count": null,
   "metadata": {},
   "outputs": [],
   "source": [
    "# IMPORTS \n",
    "\n",
    "import tensorflow as tf\n",
    "import numpy as np\n",
    "import sys\n",
    "import os\n",
    "import pickle\n",
    "\n",
    "sys.path.append(\"/Users/xxAlv1Nxx/Documents/01a Masters/05 CS/CS 428B Probabilistic Models of Cognition – Language/Project/pragmatic_agents_me_bias\")\n",
    "from RSA_communication_agents import RSASpeaker0, RSAListener0, RSASpeaker1, RSAListener1"
   ]
  },
  {
   "cell_type": "code",
   "execution_count": null,
   "metadata": {},
   "outputs": [],
   "source": [
    "# GENERATE INPUT MESSAGES \n",
    "\n",
    "def generate_messages(size, n, ME=1):\n",
    "    \"\"\" Generates the message input for the listener\n",
    "        inputs: \n",
    "            size - number of data points\n",
    "            n - number of states and messages in the system\n",
    "            ME - number of messages that are withheld from training, here 1 or 2\n",
    "        outputs: \n",
    "            data - training data \n",
    "            labels - training labels\n",
    "    \"\"\"\n",
    "    \n",
    "    data = np.zeros((size, n, n))\n",
    "    if ME == 1:\n",
    "        selection = np.random.choice(n-1, size=(size))\n",
    "    elif ME == 2: \n",
    "        selection = np.random.choice([i for i in range(1, n-1)], size=(size))\n",
    "    for i in range(n):\n",
    "        data[selection == i, i, :] = 1.\n",
    "    labels = tf.one_hot(selection, depth=n)\n",
    "    \n",
    "    return np.float32(data), labels"
   ]
  },
  {
   "cell_type": "code",
   "execution_count": null,
   "metadata": {},
   "outputs": [],
   "source": [
    "# GENERATE BILINGUAL INPUT MESSAGES \n",
    "\n",
    "def generate_bilingual_messages(size, n, ME=1, n_blocks=0, lang_edit=0):\n",
    "    \"\"\" Generates the message input for the listener\n",
    "        inputs: \n",
    "            size - number of data points\n",
    "            n - number of states in the system (n_messages = 2*n)\n",
    "            ME - number of messages that are withheld from training, here 1 or 2\n",
    "            n_blocks - number of language blocks (>=1), or not blocked (0, i.e. random)\n",
    "        outputs: \n",
    "            data - training data \n",
    "            labels - training labels\n",
    "    \"\"\"\n",
    "    \n",
    "    data = np.zeros((size, 2*n, n))\n",
    "\n",
    "    if n_blocks == 0:\n",
    "        if ME == 1:\n",
    "            selection = np.random.choice([i for i in range(0, 2*n-1) if i != n-1], size=(size))\n",
    "        elif ME == 2: \n",
    "            selection = np.random.choice([i for i in range(1, 2*n-1) if (i != n-1 and i != n)], size=(size))\n",
    "    else:\n",
    "        if ME == 1:\n",
    "            selection = np.random.choice([i for i in range(0, n-1)], size=(size))\n",
    "        elif ME == 2: \n",
    "            selection = np.random.choice([i for i in range(1, n-1)], size=(size))\n",
    "        # switch language every other block\n",
    "        divisor = size // n_blocks\n",
    "        selection = np.array([v if not (i // divisor) % 2 else v + n for i, v in enumerate(selection)])\n",
    "\n",
    "    selection = selection + n * lang_edit\n",
    "\n",
    "    for i in range(2*n):\n",
    "        data[selection == i, i, :] = 1.\n",
    "    labels = tf.one_hot(tf.math.floormod(selection, n), depth=n)\n",
    "    \n",
    "    return np.float32(data), labels"
   ]
  },
  {
   "cell_type": "code",
   "execution_count": null,
   "metadata": {},
   "outputs": [],
   "source": [
    "# TRAIN A LISTENER AND SAVE THE PARAMETERS AS WELL AS THE REWARDS AND THE LEXICA\n",
    "\n",
    "def run_listener(n=3, reasoning=0, n_epochs=50, ME=1, learning_rate=0.001, runs=100):\n",
    "    \"\"\" Trains the listener on a single agent Lewis game as described in Experiment 1.\n",
    "        inputs: \n",
    "            n - number of states and messages (in total)\n",
    "            reasoning - reasoning level of the listener, 0 for literal, 1 for pragmatic \n",
    "            ME - number of messages that are left out during training, here 1 or 2\n",
    "            learning_rate - learning rate for the Adam optimizer\n",
    "        By default 100 agents are trained and all their lexica and rewards for every epoch are saved (agent-wise).\n",
    "    \"\"\"\n",
    "    \n",
    "    # setup the training and save the parameters \n",
    "    \n",
    "    n_states = n                      # number of states \n",
    "    n_messages = 2*n                  # number of messages\n",
    "    batch_size = 32                   # batch size\n",
    "    datasize = 1000                   # number of training data points\n",
    "    batches = datasize // batch_size  # number of batches per epoch\n",
    "    \n",
    "    runs = runs                       # number of runs: 100 speaker-listener pairs are trained \n",
    "    init_mean = 0.5                   # mean for initialization of lexicon entries\n",
    "    init_std = 0.01                   # std for initialization of lexicon entries\n",
    "    \n",
    "    constraint = tf.keras.constraints.NonNeg() # constrains the lexica to have entries >= 0\n",
    "    \n",
    "    filename = 'data/bilingual/L' + str(reasoning) + '/' + str(n) + '_states/'\n",
    "    if not os.path.exists(filename):\n",
    "            os.makedirs(filename)\n",
    "    \n",
    "    param_dict = {\"n_states\": n_states, \"n_messages\": n_messages, \"n_epochs\": n_epochs, \"batch_size\": batch_size,\n",
    "              \"datasize\": datasize, \"initializer_truncated_normal_mean_std\": [init_mean, init_std], \n",
    "              \"learning_rate\": learning_rate, \"runs\": runs, \"constraint\": constraint}    \n",
    "    with open(filename + 'param_dict.pickle', 'wb') as handle:\n",
    "        pickle.dump(param_dict, handle, protocol=pickle.HIGHEST_PROTOCOL)\n",
    "    \n",
    "    \n",
    "    # run the listeners\n",
    "\n",
    "    for run in range(1,runs+1):\n",
    "        \n",
    "        # create data \n",
    "        data, labels = generate_bilingual_messages(datasize, n, ME=ME)\n",
    "        data = tf.convert_to_tensor(data)\n",
    "        lexica = []\n",
    "        all_rewards = []\n",
    "        \n",
    "        # create listener\n",
    "        lexicon = tf.Variable(tf.initializers.TruncatedNormal(mean=init_mean, stddev=init_std)\n",
    "                              ([n_states, n_messages]),\n",
    "                              name=\"lexicon\", \n",
    "                              trainable=True, \n",
    "                              dtype=tf.float32,\n",
    "                              constraint=tf.keras.constraints.NonNeg())\n",
    "        \n",
    "        if reasoning == 0: \n",
    "            listener = RSAListener0(n_states, n_messages, lexicon)\n",
    "        elif reasoning == 1: \n",
    "            listener = RSAListener1(n_states, n_messages, lexicon, alpha=5.)\n",
    "                \n",
    "        listener.compile(optimizer=tf.keras.optimizers.Adam(learning_rate=learning_rate),\n",
    "                      loss=tf.keras.losses.CategoricalCrossentropy())\n",
    "        \n",
    "        # train\n",
    "        for i in range(n_epochs):\n",
    "            average_reward = []\n",
    "\n",
    "            shuffle_indices = np.random.permutation(datasize)\n",
    "            data = tf.gather(data, shuffle_indices)\n",
    "            labels = tf.gather(labels, shuffle_indices)\n",
    "\n",
    "            for j in range(batches):\n",
    "                data_batch = data[j*batch_size:(j+1)*batch_size]\n",
    "                labels_batch = labels[j*batch_size:(j+1)*batch_size]\n",
    "    \n",
    "                _, actions = listener.get_states(data_batch)\n",
    "    \n",
    "                rewards = tf.einsum('ij,ij->i', labels_batch, actions)\n",
    "                average_reward.append(np.mean(rewards))\n",
    "                \n",
    "                # RL: \n",
    "                # Note that we implemented REINFORCE with a work-around using categorical crossentropy. \n",
    "                # This can be done by setting the labels to the agent's actions, and weighting the loss\n",
    "                # function by the rewards. \n",
    "                listener.train_on_batch(data_batch, actions, sample_weight=rewards)\n",
    "            \n",
    "            mean_reward = np.mean(average_reward)\n",
    "            all_rewards.append(mean_reward)\n",
    "            lexica.append(np.copy(listener.lexicon[:]))\n",
    "                        \n",
    "        print('run ' + str(run), 'average reward ' +str(ME)+ ' ' + str(mean_reward))\n",
    "        \n",
    "        # save rewards and lexica \n",
    "        if reasoning == 0:\n",
    "            filename_full = filename + 'L' + str(reasoning) +'_'+ str(ME) + 'missing_'\n",
    "        elif reasoning == 1:\n",
    "            filename_full = filename + 'L' + str(reasoning) +'_'+ str(ME) + 'missing_5.0alpha_'\n",
    "        np.save(filename_full + 'lexicon_run' + str(run), lexica)\n",
    "        np.save(filename_full + 'rewards_run' + str(run), all_rewards)"
   ]
  },
  {
   "cell_type": "code",
   "execution_count": null,
   "metadata": {},
   "outputs": [],
   "source": [
    "# TRAIN A LISTENER AND SAVE THE PARAMETERS AS WELL AS THE REWARDS AND THE LEXICA\n",
    "\n",
    "def run_listener_blocked(n=3, reasoning=0, n_epochs=50, ME=1, learning_rate=0.001, runs=100):\n",
    "    \"\"\" Trains the listener on a single agent Lewis game as described in Experiment 1.\n",
    "        inputs: \n",
    "            n - number of states and messages (in total)\n",
    "            reasoning - reasoning level of the listener, 0 for literal, 1 for pragmatic \n",
    "            ME - number of messages that are left out during training, here 1 or 2\n",
    "            learning_rate - learning rate for the Adam optimizer\n",
    "        By default 100 agents are trained and all their lexica and rewards for every epoch are saved (agent-wise).\n",
    "    \"\"\"\n",
    "    \n",
    "    # setup the training and save the parameters \n",
    "    \n",
    "    n_states = n                      # number of states \n",
    "    n_messages = 2*n                  # number of messages\n",
    "    batch_size = 32                   # batch size\n",
    "    datasize = 1000                   # number of training data points\n",
    "    batches = datasize // batch_size  # number of batches per epoch\n",
    "    \n",
    "    runs = runs                       # number of runs: 100 speaker-listener pairs are trained \n",
    "    init_mean = 0.5                   # mean for initialization of lexicon entries\n",
    "    init_std = 0.01                   # std for initialization of lexicon entries\n",
    "    \n",
    "    constraint = tf.keras.constraints.NonNeg() # constrains the lexica to have entries >= 0\n",
    "    \n",
    "    filename = 'data/bilingual_blocked/L' + str(reasoning) + '/' + str(n) + '_states/'\n",
    "    if not os.path.exists(filename):\n",
    "            os.makedirs(filename)\n",
    "    \n",
    "    param_dict = {\"n_states\": n_states, \"n_messages\": n_messages, \"n_epochs\": n_epochs, \"batch_size\": batch_size,\n",
    "              \"datasize\": datasize, \"initializer_truncated_normal_mean_std\": [init_mean, init_std], \n",
    "              \"learning_rate\": learning_rate, \"runs\": runs, \"constraint\": constraint}    \n",
    "    with open(filename + 'param_dict.pickle', 'wb') as handle:\n",
    "        pickle.dump(param_dict, handle, protocol=pickle.HIGHEST_PROTOCOL)\n",
    "    \n",
    "    \n",
    "    # run the listeners\n",
    "\n",
    "    for run in range(1,runs+1):\n",
    "        \n",
    "        # create data \n",
    "        data, labels = generate_bilingual_messages(datasize, n, ME=ME, n_blocks=2)\n",
    "        data = tf.convert_to_tensor(data)\n",
    "        lexica = []\n",
    "        all_rewards = []\n",
    "        \n",
    "        # create listener\n",
    "        lexicon = tf.Variable(tf.initializers.TruncatedNormal(mean=init_mean, stddev=init_std)\n",
    "                              ([n_states, n_messages]),\n",
    "                              name=\"lexicon\", \n",
    "                              trainable=True, \n",
    "                              dtype=tf.float32,\n",
    "                              constraint=tf.keras.constraints.NonNeg())\n",
    "        \n",
    "        if reasoning == 0: \n",
    "            listener = RSAListener0(n_states, n_messages, lexicon)\n",
    "        elif reasoning == 1: \n",
    "            listener = RSAListener1(n_states, n_messages, lexicon, alpha=5.)\n",
    "                \n",
    "        listener.compile(optimizer=tf.keras.optimizers.Adam(learning_rate=learning_rate),\n",
    "                      loss=tf.keras.losses.CategoricalCrossentropy())\n",
    "        \n",
    "        # train\n",
    "        for i in range(n_epochs):\n",
    "            average_reward = []\n",
    "            \n",
    "            shuffle_indices_1 = np.random.permutation(datasize//2)\n",
    "            shuffle_indices_2 = np.random.permutation(datasize//2) + datasize//2\n",
    "            shuffle_indices = np.concatenate((shuffle_indices_1, shuffle_indices_2))\n",
    "            data = tf.gather(data, shuffle_indices)\n",
    "            labels = tf.gather(labels, shuffle_indices)\n",
    "\n",
    "            for j in range(batches):\n",
    "                data_batch = data[j*batch_size:(j+1)*batch_size]\n",
    "                labels_batch = labels[j*batch_size:(j+1)*batch_size]\n",
    "    \n",
    "                _, actions = listener.get_states(data_batch)\n",
    "    \n",
    "                rewards = tf.einsum('ij,ij->i', labels_batch, actions)\n",
    "                average_reward.append(np.mean(rewards))\n",
    "                \n",
    "                # RL: \n",
    "                # Note that we implemented REINFORCE with a work-around using categorical crossentropy. \n",
    "                # This can be done by setting the labels to the agent's actions, and weighting the loss\n",
    "                # function by the rewards. \n",
    "                listener.train_on_batch(data_batch, actions, sample_weight=rewards)\n",
    "            \n",
    "            mean_reward = np.mean(average_reward)\n",
    "            all_rewards.append(mean_reward)\n",
    "            lexica.append(np.copy(listener.lexicon[:]))\n",
    "                        \n",
    "        print('run ' + str(run), 'average reward ' +str(ME)+ ' ' + str(mean_reward))\n",
    "        \n",
    "        # save rewards and lexica \n",
    "        if reasoning == 0:\n",
    "            filename_full = filename + 'L' + str(reasoning) +'_'+ str(ME) + 'missing_'\n",
    "        elif reasoning == 1:\n",
    "            filename_full = filename + 'L' + str(reasoning) +'_'+ str(ME) + 'missing_5.0alpha_'\n",
    "        np.save(filename_full + 'lexicon_run' + str(run), lexica)\n",
    "        np.save(filename_full + 'rewards_run' + str(run), all_rewards)"
   ]
  },
  {
   "cell_type": "code",
   "execution_count": null,
   "metadata": {},
   "outputs": [],
   "source": [
    "# TRAIN A LISTENER AND SAVE THE PARAMETERS AS WELL AS THE REWARDS AND THE LEXICA\n",
    "\n",
    "def run_listener_blocked_e(n=3, reasoning=0, n_epochs=50, ME=1, learning_rate=0.001, runs=100, n_blocks=2):\n",
    "    \"\"\" Trains the listener on a single agent Lewis game as described in Experiment 1.\n",
    "        inputs: \n",
    "            n - number of states and messages (in total)\n",
    "            reasoning - reasoning level of the listener, 0 for literal, 1 for pragmatic \n",
    "            ME - number of messages that are left out during training, here 1 or 2\n",
    "            learning_rate - learning rate for the Adam optimizer\n",
    "        By default 100 agents are trained and all their lexica and rewards for every epoch are saved (agent-wise).\n",
    "    \"\"\"\n",
    "    \n",
    "    # setup the training and save the parameters \n",
    "    \n",
    "    n_states = n                      # number of states \n",
    "    n_messages = 2*n                  # number of messages\n",
    "    batch_size = 32                   # batch size\n",
    "    datasize = 1000                   # number of training data points\n",
    "    batches = datasize // batch_size  # number of batches per epoch\n",
    "    \n",
    "    runs = runs                       # number of runs: 100 speaker-listener pairs are trained \n",
    "    init_mean = 0.5                   # mean for initialization of lexicon entries\n",
    "    init_std = 0.01                   # std for initialization of lexicon entries\n",
    "    \n",
    "    constraint = tf.keras.constraints.NonNeg() # constrains the lexica to have entries >= 0\n",
    "    \n",
    "    filename = 'data/bilingual_blocked_e/L' + str(reasoning) + '/' + str(n) + '_states/' + str(n_blocks) + '_blocks/'\n",
    "    if not os.path.exists(filename):\n",
    "            os.makedirs(filename)\n",
    "    \n",
    "    param_dict = {\"n_states\": n_states, \"n_messages\": n_messages, \"n_epochs\": n_epochs, \"batch_size\": batch_size,\n",
    "              \"datasize\": datasize, \"initializer_truncated_normal_mean_std\": [init_mean, init_std], \n",
    "              \"learning_rate\": learning_rate, \"runs\": runs, \"constraint\": constraint}    \n",
    "    with open(filename + 'param_dict.pickle', 'wb') as handle:\n",
    "        pickle.dump(param_dict, handle, protocol=pickle.HIGHEST_PROTOCOL)\n",
    "    \n",
    "    \n",
    "    # run the listeners\n",
    "\n",
    "    for run in range(1,runs+1):\n",
    "        \n",
    "        # create data \n",
    "        data1, labels1 = generate_bilingual_messages(datasize, n, ME=ME, n_blocks=1)\n",
    "        data1 = tf.convert_to_tensor(data1)\n",
    "        data2, labels2 = generate_bilingual_messages(datasize, n, ME=ME, n_blocks=1, lang_edit=1)\n",
    "        data2 = tf.convert_to_tensor(data2)\n",
    "        data_all = [data1, data2]\n",
    "        labels_all = [labels1, labels2]\n",
    "        lexica = []\n",
    "        all_rewards = []\n",
    "        \n",
    "        # create listener\n",
    "        lexicon = tf.Variable(tf.initializers.TruncatedNormal(mean=init_mean, stddev=init_std)\n",
    "                              ([n_states, n_messages]),\n",
    "                              name=\"lexicon\", \n",
    "                              trainable=True, \n",
    "                              dtype=tf.float32,\n",
    "                              constraint=tf.keras.constraints.NonNeg())\n",
    "        \n",
    "        if reasoning == 0: \n",
    "            listener = RSAListener0(n_states, n_messages, lexicon)\n",
    "        elif reasoning == 1: \n",
    "            listener = RSAListener1(n_states, n_messages, lexicon, alpha=5.)\n",
    "                \n",
    "        listener.compile(optimizer=tf.keras.optimizers.Adam(learning_rate=learning_rate),\n",
    "                      loss=tf.keras.losses.CategoricalCrossentropy())\n",
    "        \n",
    "        # train\n",
    "        for i in range(n_epochs):\n",
    "            divisor = 100 // n_blocks\n",
    "            data = data_all[(i // divisor) % 2]\n",
    "            labels = labels_all[(i // divisor) % 2]\n",
    "            average_reward = []\n",
    "\n",
    "            shuffle_indices = np.random.permutation(datasize)\n",
    "            data = tf.gather(data, shuffle_indices)\n",
    "            labels = tf.gather(labels, shuffle_indices)\n",
    "\n",
    "            for j in range(batches):\n",
    "                data_batch = data[j*batch_size:(j+1)*batch_size]\n",
    "                labels_batch = labels[j*batch_size:(j+1)*batch_size]\n",
    "    \n",
    "                _, actions = listener.get_states(data_batch)\n",
    "    \n",
    "                rewards = tf.einsum('ij,ij->i', labels_batch, actions)\n",
    "                average_reward.append(np.mean(rewards))\n",
    "                \n",
    "                # RL: \n",
    "                # Note that we implemented REINFORCE with a work-around using categorical crossentropy. \n",
    "                # This can be done by setting the labels to the agent's actions, and weighting the loss\n",
    "                # function by the rewards. \n",
    "                listener.train_on_batch(data_batch, actions, sample_weight=rewards)\n",
    "            \n",
    "            mean_reward = np.mean(average_reward)\n",
    "            all_rewards.append(mean_reward)\n",
    "            lexica.append(np.copy(listener.lexicon[:]))\n",
    "                        \n",
    "        print('run ' + str(run), 'average reward ' +str(ME)+ ' ' + str(mean_reward))\n",
    "        \n",
    "        # save rewards and lexica \n",
    "        if reasoning == 0:\n",
    "            filename_full = filename + 'L' + str(reasoning) +'_'+ str(ME) + 'missing_'\n",
    "        elif reasoning == 1:\n",
    "            filename_full = filename + 'L' + str(reasoning) +'_'+ str(ME) + 'missing_5.0alpha_'\n",
    "        np.save(filename_full + 'lexicon_run' + str(run), lexica)\n",
    "        np.save(filename_full + 'rewards_run' + str(run), all_rewards)"
   ]
  },
  {
   "cell_type": "markdown",
   "metadata": {},
   "source": [
    "## Run the training \n",
    "\n",
    "for different agent types, numbers of state (3 and 10) and different number of states being withheld from the training (1 and 2). "
   ]
  },
  {
   "cell_type": "markdown",
   "metadata": {},
   "source": [
    "### Literal listener"
   ]
  },
  {
   "cell_type": "code",
   "execution_count": null,
   "metadata": {},
   "outputs": [],
   "source": [
    "run_listener(n=3, reasoning=0, n_epochs=50, ME=1)"
   ]
  },
  {
   "cell_type": "code",
   "execution_count": null,
   "metadata": {},
   "outputs": [],
   "source": [
    "run_listener(learning_rate=0.001, n=3, reasoning=0, n_epochs=50, ME=2)"
   ]
  },
  {
   "cell_type": "code",
   "execution_count": null,
   "metadata": {},
   "outputs": [],
   "source": [
    "run_listener(learning_rate=0.001, n=10, reasoning=0, n_epochs=100, ME=1)"
   ]
  },
  {
   "cell_type": "code",
   "execution_count": null,
   "metadata": {},
   "outputs": [],
   "source": [
    "run_listener(learning_rate=0.001, n=10, reasoning=0, n_epochs=100, ME=2)"
   ]
  },
  {
   "cell_type": "markdown",
   "metadata": {},
   "source": [
    "### Pragmatic listener"
   ]
  },
  {
   "cell_type": "code",
   "execution_count": null,
   "metadata": {},
   "outputs": [],
   "source": [
    "run_listener(learning_rate=0.001, n=3, reasoning=1, n_epochs=100, ME=1)"
   ]
  },
  {
   "cell_type": "code",
   "execution_count": null,
   "metadata": {},
   "outputs": [],
   "source": [
    "run_listener(learning_rate=0.001, n=3, reasoning=1, n_epochs=50, ME=2)"
   ]
  },
  {
   "cell_type": "code",
   "execution_count": null,
   "metadata": {},
   "outputs": [],
   "source": [
    "run_listener(learning_rate=0.001, n=4, reasoning=1, n_epochs=100, ME=1)"
   ]
  },
  {
   "cell_type": "code",
   "execution_count": null,
   "metadata": {},
   "outputs": [],
   "source": [
    "run_listener(learning_rate=0.001, n=5, reasoning=1, n_epochs=100, ME=1)"
   ]
  },
  {
   "cell_type": "code",
   "execution_count": null,
   "metadata": {},
   "outputs": [],
   "source": [
    "run_listener(learning_rate=0.001, n=6, reasoning=1, n_epochs=100, ME=1)"
   ]
  },
  {
   "cell_type": "code",
   "execution_count": null,
   "metadata": {},
   "outputs": [],
   "source": [
    "run_listener(learning_rate=0.001, n=7, reasoning=1, n_epochs=100, ME=1)"
   ]
  },
  {
   "cell_type": "code",
   "execution_count": null,
   "metadata": {},
   "outputs": [],
   "source": [
    "run_listener(learning_rate=0.001, n=8, reasoning=1, n_epochs=100, ME=1)"
   ]
  },
  {
   "cell_type": "code",
   "execution_count": null,
   "metadata": {},
   "outputs": [],
   "source": [
    "run_listener(learning_rate=0.001, n=9, reasoning=1, n_epochs=100, ME=1)"
   ]
  },
  {
   "cell_type": "code",
   "execution_count": null,
   "metadata": {},
   "outputs": [],
   "source": [
    "run_listener(learning_rate=0.001, n=10, reasoning=1, n_epochs=100, ME=1)"
   ]
  },
  {
   "cell_type": "code",
   "execution_count": null,
   "metadata": {},
   "outputs": [],
   "source": [
    "run_listener(learning_rate=0.001, n=15, reasoning=1, n_epochs=100, ME=1)"
   ]
  },
  {
   "cell_type": "code",
   "execution_count": null,
   "metadata": {},
   "outputs": [],
   "source": [
    "run_listener(learning_rate=0.001, n=20, reasoning=1, n_epochs=100, ME=1)"
   ]
  },
  {
   "cell_type": "code",
   "execution_count": null,
   "metadata": {},
   "outputs": [],
   "source": [
    "run_listener(learning_rate=0.001, n=25, reasoning=1, n_epochs=100, ME=1)"
   ]
  },
  {
   "cell_type": "code",
   "execution_count": null,
   "metadata": {},
   "outputs": [],
   "source": [
    "run_listener(learning_rate=0.001, n=30, reasoning=1, n_epochs=100, ME=1)"
   ]
  },
  {
   "cell_type": "code",
   "execution_count": null,
   "metadata": {},
   "outputs": [],
   "source": [
    "run_listener(learning_rate=0.001, n=40, reasoning=1, n_epochs=100, ME=1)"
   ]
  },
  {
   "cell_type": "code",
   "execution_count": null,
   "metadata": {},
   "outputs": [],
   "source": [
    "run_listener(learning_rate=0.001, n=50, reasoning=1, n_epochs=100, ME=1)"
   ]
  },
  {
   "cell_type": "code",
   "execution_count": null,
   "metadata": {},
   "outputs": [],
   "source": [
    "run_listener(learning_rate=0.001, n=60, reasoning=1, n_epochs=100, ME=1)"
   ]
  },
  {
   "cell_type": "code",
   "execution_count": null,
   "metadata": {},
   "outputs": [],
   "source": [
    "run_listener(learning_rate=0.001, n=80, reasoning=1, n_epochs=100, ME=1)"
   ]
  },
  {
   "cell_type": "code",
   "execution_count": null,
   "metadata": {},
   "outputs": [],
   "source": [
    "run_listener(learning_rate=0.001, n=100, reasoning=1, n_epochs=100, ME=1)"
   ]
  },
  {
   "cell_type": "code",
   "execution_count": null,
   "metadata": {},
   "outputs": [],
   "source": [
    "run_listener(learning_rate=0.001, n=100, reasoning=0, n_epochs=100, ME=1)"
   ]
  },
  {
   "cell_type": "code",
   "execution_count": null,
   "metadata": {},
   "outputs": [],
   "source": [
    "run_listener(learning_rate=0.001, n=10, reasoning=1, n_epochs=100, ME=2)"
   ]
  },
  {
   "cell_type": "code",
   "execution_count": null,
   "metadata": {},
   "outputs": [],
   "source": [
    "run_listener_blocked(learning_rate=0.001, n=10, reasoning=1, n_epochs=100, ME=1)"
   ]
  },
  {
   "cell_type": "code",
   "execution_count": 25,
   "metadata": {},
   "outputs": [
    {
     "name": "stdout",
     "output_type": "stream",
     "text": [
      "run 1 average reward 1 0.7731855\n",
      "run 2 average reward 1 0.7741935\n"
     ]
    },
    {
     "name": "stderr",
     "output_type": "stream",
     "text": [
      "2021-12-01 20:15:23.555405: W tensorflow/core/data/root_dataset.cc:167] Optimization loop failed: Cancelled: Operation was cancelled\n",
      "2021-12-01 20:15:23.635906: W tensorflow/core/data/root_dataset.cc:167] Optimization loop failed: Cancelled: Operation was cancelled\n",
      "2021-12-01 20:15:23.697900: W tensorflow/core/data/root_dataset.cc:167] Optimization loop failed: Cancelled: Operation was cancelled\n"
     ]
    },
    {
     "name": "stdout",
     "output_type": "stream",
     "text": [
      "run 3 average reward 1 0.8860887\n"
     ]
    },
    {
     "name": "stderr",
     "output_type": "stream",
     "text": [
      "2021-12-01 20:16:32.473726: W tensorflow/core/data/root_dataset.cc:167] Optimization loop failed: Cancelled: Operation was cancelled\n"
     ]
    },
    {
     "name": "stdout",
     "output_type": "stream",
     "text": [
      "run 4 average reward 1 0.99495965\n",
      "run 5 average reward 1 0.8770161\n",
      "run 6 average reward 1 0.8921371\n",
      "run 7 average reward 1 0.90120965\n",
      "run 8 average reward 1 0.875\n",
      "run 9 average reward 1 0.8840726\n",
      "run 10 average reward 1 0.7530242\n",
      "run 11 average reward 1 0.9969758\n",
      "run 12 average reward 1 0.8991935\n",
      "run 13 average reward 1 0.99495965\n",
      "run 14 average reward 1 0.7741935\n",
      "run 15 average reward 1 0.8719758\n",
      "run 16 average reward 1 0.8820565\n",
      "run 17 average reward 1 0.91028225\n",
      "run 18 average reward 1 0.7016129\n",
      "run 19 average reward 1 0.90221775\n",
      "run 20 average reward 1 0.7752016\n",
      "run 21 average reward 1 0.7701613\n",
      "run 22 average reward 1 0.88709676\n",
      "run 23 average reward 1 0.7721774\n",
      "run 24 average reward 1 0.9989919\n",
      "run 25 average reward 1 0.8860887\n",
      "run 26 average reward 1 0.765121\n",
      "run 27 average reward 1 0.8951613\n",
      "run 28 average reward 1 0.8860887\n",
      "run 29 average reward 1 0.6582661\n",
      "run 30 average reward 1 0.88810486\n",
      "run 31 average reward 1 0.99596775\n",
      "run 32 average reward 1 0.9979839\n",
      "run 33 average reward 1 0.89415324\n",
      "run 34 average reward 1 0.9979839\n",
      "run 35 average reward 1 0.88810486\n",
      "run 36 average reward 1 0.79435486\n",
      "run 37 average reward 1 0.78125\n",
      "run 38 average reward 1 0.89415324\n",
      "run 39 average reward 1 0.76814514\n",
      "run 40 average reward 1 0.8951613\n",
      "run 41 average reward 1 0.88810486\n",
      "run 42 average reward 1 0.76915324\n",
      "run 43 average reward 1 0.8921371\n",
      "run 44 average reward 1 0.77721775\n",
      "run 45 average reward 1 0.9979839\n",
      "run 46 average reward 1 0.8135081\n",
      "run 47 average reward 1 0.89314514\n",
      "run 48 average reward 1 1.0\n",
      "run 49 average reward 1 1.0\n",
      "run 50 average reward 1 0.88810486\n",
      "run 51 average reward 1 0.89314514\n",
      "run 52 average reward 1 0.8921371\n",
      "run 53 average reward 1 0.7832661\n",
      "run 54 average reward 1 0.88709676\n",
      "run 55 average reward 1 0.90221775\n",
      "run 56 average reward 1 0.890121\n",
      "run 57 average reward 1 0.890121\n",
      "run 58 average reward 1 0.8891129\n",
      "run 59 average reward 1 0.8639113\n",
      "run 60 average reward 1 0.891129\n",
      "run 61 average reward 1 0.8951613\n",
      "run 62 average reward 1 0.7822581\n",
      "run 63 average reward 1 0.88709676\n",
      "run 64 average reward 1 0.9969758\n",
      "run 65 average reward 1 0.7671371\n",
      "run 66 average reward 1 0.99596775\n",
      "run 67 average reward 1 0.79939514\n",
      "run 68 average reward 1 0.88004035\n",
      "run 69 average reward 1 0.8891129\n",
      "run 70 average reward 1 0.891129\n",
      "run 71 average reward 1 0.8689516\n",
      "run 72 average reward 1 0.8830645\n",
      "run 73 average reward 1 0.7832661\n",
      "run 74 average reward 1 0.89314514\n",
      "run 75 average reward 1 0.76915324\n",
      "run 76 average reward 1 0.9979839\n",
      "run 77 average reward 1 0.891129\n",
      "run 78 average reward 1 0.8739919\n"
     ]
    },
    {
     "name": "stderr",
     "output_type": "stream",
     "text": [
      "2021-12-01 20:41:34.919048: W tensorflow/core/data/root_dataset.cc:167] Optimization loop failed: Cancelled: Operation was cancelled\n"
     ]
    },
    {
     "name": "stdout",
     "output_type": "stream",
     "text": [
      "run 79 average reward 1 0.9979839\n",
      "run 80 average reward 1 0.8810484\n",
      "run 81 average reward 1 0.79334676\n",
      "run 82 average reward 1 0.7822581\n",
      "run 83 average reward 1 0.76008064\n",
      "run 84 average reward 1 0.87096775\n",
      "run 85 average reward 1 0.9032258\n",
      "run 86 average reward 1 0.8810484\n",
      "run 87 average reward 1 0.86995965\n",
      "run 88 average reward 1 0.8729839\n",
      "run 89 average reward 1 0.672379\n",
      "run 90 average reward 1 0.90120965\n",
      "run 91 average reward 1 0.77116936\n",
      "run 92 average reward 1 0.99495965\n",
      "run 93 average reward 1 0.8830645\n",
      "run 94 average reward 1 0.77116936\n",
      "run 95 average reward 1 0.87903225\n",
      "run 96 average reward 1 0.88004035\n",
      "run 97 average reward 1 1.0\n",
      "run 98 average reward 1 0.875\n",
      "run 99 average reward 1 0.9919355\n",
      "run 100 average reward 1 0.8951613\n"
     ]
    }
   ],
   "source": [
    "run_listener_blocked_e(learning_rate=0.001, n=10, reasoning=1, n_epochs=100, ME=1)"
   ]
  },
  {
   "cell_type": "code",
   "execution_count": null,
   "metadata": {},
   "outputs": [],
   "source": [
    "run_listener_blocked_e(learning_rate=0.001, n=10, reasoning=1, n_epochs=100, ME=1, n_blocks=4)"
   ]
  },
  {
   "cell_type": "code",
   "execution_count": null,
   "metadata": {},
   "outputs": [],
   "source": [
    "run_listener_blocked_e(learning_rate=0.001, n=10, reasoning=1, n_epochs=100, ME=1, n_blocks=8)"
   ]
  },
  {
   "cell_type": "code",
   "execution_count": null,
   "metadata": {},
   "outputs": [],
   "source": [
    "run_listener_blocked_e(learning_rate=0.001, n=10, reasoning=1, n_epochs=100, ME=1, n_blocks=16)"
   ]
  }
 ],
 "metadata": {
  "interpreter": {
   "hash": "aee8b7b246df8f9039afb4144a1f6fd8d2ca17a180786b69acc140d282b71a49"
  },
  "kernelspec": {
   "display_name": "Python 3.9.2 64-bit",
   "name": "python3"
  },
  "language_info": {
   "codemirror_mode": {
    "name": "ipython",
    "version": 3
   },
   "file_extension": ".py",
   "mimetype": "text/x-python",
   "name": "python",
   "nbconvert_exporter": "python",
   "pygments_lexer": "ipython3",
   "version": "3.9.2"
  }
 },
 "nbformat": 4,
 "nbformat_minor": 2
}
