{
 "cells": [
  {
   "cell_type": "markdown",
   "metadata": {},
   "source": [
    "# ME bias in the single agent setting"
   ]
  },
  {
   "cell_type": "markdown",
   "metadata": {},
   "source": [
    "## Setup the training"
   ]
  },
  {
   "cell_type": "code",
   "execution_count": null,
   "metadata": {},
   "outputs": [],
   "source": [
    "# IMPORTS \n",
    "\n",
    "import tensorflow as tf\n",
    "import numpy as np\n",
    "import sys\n",
    "import os\n",
    "import pickle\n",
    "\n",
    "sys.path.append(\"/Users/xxAlv1Nxx/Documents/01a Masters/05 CS/CS 428B Probabilistic Models of Cognition – Language/Project/pragmatic_agents_me_bias\")\n",
    "from RSA_communication_agents import RSASpeaker0, RSAListener0, RSASpeaker1, RSAListener1"
   ]
  },
  {
   "cell_type": "code",
   "execution_count": null,
   "metadata": {},
   "outputs": [],
   "source": [
    "# GENERATE INPUT MESSAGES \n",
    "\n",
    "def generate_messages(size, n, ME=1):\n",
    "    \"\"\" Generates the message input for the listener\n",
    "        inputs: \n",
    "            size - number of data points\n",
    "            n - number of states and messages in the system\n",
    "            ME - number of messages that are withheld from training, here 1 or 2\n",
    "        outputs: \n",
    "            data - training data \n",
    "            labels - training labels\n",
    "    \"\"\"\n",
    "    \n",
    "    data = np.zeros((size, n, n))\n",
    "    if ME == 1:\n",
    "        selection = np.random.choice(n-1, size=(size))\n",
    "    elif ME == 2: \n",
    "        selection = np.random.choice([i for i in range(1, n-1)], size=(size))\n",
    "    for i in range(n):\n",
    "        data[selection == i, i, :] = 1.\n",
    "    labels = tf.one_hot(selection, depth=n)\n",
    "    \n",
    "    return np.float32(data), labels"
   ]
  },
  {
   "cell_type": "code",
   "execution_count": null,
   "metadata": {},
   "outputs": [],
   "source": [
    "# GENERATE BILINGUAL INPUT MESSAGES \n",
    "\n",
    "def generate_bilingual_messages(size, n, ME=1, n_blocks=0, lang_edit=0):\n",
    "    \"\"\" Generates the message input for the listener\n",
    "        inputs: \n",
    "            size - number of data points\n",
    "            n - number of states in the system (n_messages = 2*n)\n",
    "            ME - number of messages that are withheld from training, here 1 or 2\n",
    "            n_blocks - number of language blocks (>=1), or not blocked (0, i.e. random)\n",
    "        outputs: \n",
    "            data - training data \n",
    "            labels - training labels\n",
    "    \"\"\"\n",
    "    \n",
    "    data = np.zeros((size, 2*n, n))\n",
    "\n",
    "    if n_blocks == 0:\n",
    "        if ME == 1:\n",
    "            selection = np.random.choice([i for i in range(0, 2*n-1) if i != n-1], size=(size))\n",
    "        elif ME == 2: \n",
    "            selection = np.random.choice([i for i in range(1, 2*n-1) if (i != n-1 and i != n)], size=(size))\n",
    "    else:\n",
    "        if ME == 1:\n",
    "            selection = np.random.choice([i for i in range(0, n-1)], size=(size))\n",
    "        elif ME == 2: \n",
    "            selection = np.random.choice([i for i in range(1, n-1)], size=(size))\n",
    "        # switch language every other block\n",
    "        divisor = size // n_blocks\n",
    "        selection = np.array([v if not (i // divisor) % 2 else v + n for i, v in enumerate(selection)])\n",
    "\n",
    "    selection = selection + n * lang_edit\n",
    "\n",
    "    for i in range(2*n):\n",
    "        data[selection == i, i, :] = 1.\n",
    "    labels = tf.one_hot(tf.math.floormod(selection, n), depth=n)\n",
    "    \n",
    "    return np.float32(data), labels"
   ]
  },
  {
   "cell_type": "code",
   "execution_count": null,
   "metadata": {},
   "outputs": [],
   "source": [
    "# TRAIN A LISTENER AND SAVE THE PARAMETERS AS WELL AS THE REWARDS AND THE LEXICA\n",
    "\n",
    "def run_listener(n=3, reasoning=0, n_epochs=50, ME=1, learning_rate=0.001, runs=100):\n",
    "    \"\"\" Trains the listener on a single agent Lewis game as described in Experiment 1.\n",
    "        inputs: \n",
    "            n - number of states and messages (in total)\n",
    "            reasoning - reasoning level of the listener, 0 for literal, 1 for pragmatic \n",
    "            ME - number of messages that are left out during training, here 1 or 2\n",
    "            learning_rate - learning rate for the Adam optimizer\n",
    "        By default 100 agents are trained and all their lexica and rewards for every epoch are saved (agent-wise).\n",
    "    \"\"\"\n",
    "    \n",
    "    # setup the training and save the parameters \n",
    "    \n",
    "    n_states = n                      # number of states \n",
    "    n_messages = 2*n                  # number of messages\n",
    "    batch_size = 32                   # batch size\n",
    "    datasize = 1000                   # number of training data points\n",
    "    batches = datasize // batch_size  # number of batches per epoch\n",
    "    \n",
    "    runs = runs                       # number of runs: 100 speaker-listener pairs are trained \n",
    "    init_mean = 0.5                   # mean for initialization of lexicon entries\n",
    "    init_std = 0.01                   # std for initialization of lexicon entries\n",
    "    \n",
    "    constraint = tf.keras.constraints.NonNeg() # constrains the lexica to have entries >= 0\n",
    "    \n",
    "    filename = 'data/bilingual/L' + str(reasoning) + '/' + str(n) + '_states/'\n",
    "    if not os.path.exists(filename):\n",
    "            os.makedirs(filename)\n",
    "    \n",
    "    param_dict = {\"n_states\": n_states, \"n_messages\": n_messages, \"n_epochs\": n_epochs, \"batch_size\": batch_size,\n",
    "              \"datasize\": datasize, \"initializer_truncated_normal_mean_std\": [init_mean, init_std], \n",
    "              \"learning_rate\": learning_rate, \"runs\": runs, \"constraint\": constraint}    \n",
    "    with open(filename + 'param_dict.pickle', 'wb') as handle:\n",
    "        pickle.dump(param_dict, handle, protocol=pickle.HIGHEST_PROTOCOL)\n",
    "    \n",
    "    \n",
    "    # run the listeners\n",
    "\n",
    "    for run in range(1,runs+1):\n",
    "        \n",
    "        # create data \n",
    "        data, labels = generate_bilingual_messages(datasize, n, ME=ME)\n",
    "        data = tf.convert_to_tensor(data)\n",
    "        lexica = []\n",
    "        all_rewards = []\n",
    "        \n",
    "        # create listener\n",
    "        lexicon = tf.Variable(tf.initializers.TruncatedNormal(mean=init_mean, stddev=init_std)\n",
    "                              ([n_states, n_messages]),\n",
    "                              name=\"lexicon\", \n",
    "                              trainable=True, \n",
    "                              dtype=tf.float32,\n",
    "                              constraint=tf.keras.constraints.NonNeg())\n",
    "        \n",
    "        if reasoning == 0: \n",
    "            listener = RSAListener0(n_states, n_messages, lexicon)\n",
    "        elif reasoning == 1: \n",
    "            listener = RSAListener1(n_states, n_messages, lexicon, alpha=5.)\n",
    "                \n",
    "        listener.compile(optimizer=tf.keras.optimizers.Adam(learning_rate=learning_rate),\n",
    "                      loss=tf.keras.losses.CategoricalCrossentropy())\n",
    "        \n",
    "        # train\n",
    "        for i in range(n_epochs):\n",
    "            average_reward = []\n",
    "\n",
    "            shuffle_indices = np.random.permutation(datasize)\n",
    "            data = tf.gather(data, shuffle_indices)\n",
    "            labels = tf.gather(labels, shuffle_indices)\n",
    "\n",
    "            for j in range(batches):\n",
    "                data_batch = data[j*batch_size:(j+1)*batch_size]\n",
    "                labels_batch = labels[j*batch_size:(j+1)*batch_size]\n",
    "    \n",
    "                _, actions = listener.get_states(data_batch)\n",
    "    \n",
    "                rewards = tf.einsum('ij,ij->i', labels_batch, actions)\n",
    "                average_reward.append(np.mean(rewards))\n",
    "                \n",
    "                # RL: \n",
    "                # Note that we implemented REINFORCE with a work-around using categorical crossentropy. \n",
    "                # This can be done by setting the labels to the agent's actions, and weighting the loss\n",
    "                # function by the rewards. \n",
    "                listener.train_on_batch(data_batch, actions, sample_weight=rewards)\n",
    "            \n",
    "            mean_reward = np.mean(average_reward)\n",
    "            all_rewards.append(mean_reward)\n",
    "            lexica.append(np.copy(listener.lexicon[:]))\n",
    "                        \n",
    "        print('run ' + str(run), 'average reward ' +str(ME)+ ' ' + str(mean_reward))\n",
    "        \n",
    "        # save rewards and lexica \n",
    "        if reasoning == 0:\n",
    "            filename_full = filename + 'L' + str(reasoning) +'_'+ str(ME) + 'missing_'\n",
    "        elif reasoning == 1:\n",
    "            filename_full = filename + 'L' + str(reasoning) +'_'+ str(ME) + 'missing_5.0alpha_'\n",
    "        np.save(filename_full + 'lexicon_run' + str(run), lexica)\n",
    "        np.save(filename_full + 'rewards_run' + str(run), all_rewards)"
   ]
  },
  {
   "cell_type": "code",
   "execution_count": null,
   "metadata": {},
   "outputs": [],
   "source": [
    "# TRAIN A LISTENER AND SAVE THE PARAMETERS AS WELL AS THE REWARDS AND THE LEXICA\n",
    "\n",
    "def run_listener_blocked(n=3, reasoning=0, n_epochs=50, ME=1, learning_rate=0.001, runs=100):\n",
    "    \"\"\" Trains the listener on a single agent Lewis game as described in Experiment 1.\n",
    "        inputs: \n",
    "            n - number of states and messages (in total)\n",
    "            reasoning - reasoning level of the listener, 0 for literal, 1 for pragmatic \n",
    "            ME - number of messages that are left out during training, here 1 or 2\n",
    "            learning_rate - learning rate for the Adam optimizer\n",
    "        By default 100 agents are trained and all their lexica and rewards for every epoch are saved (agent-wise).\n",
    "    \"\"\"\n",
    "    \n",
    "    # setup the training and save the parameters \n",
    "    \n",
    "    n_states = n                      # number of states \n",
    "    n_messages = 2*n                  # number of messages\n",
    "    batch_size = 32                   # batch size\n",
    "    datasize = 1000                   # number of training data points\n",
    "    batches = datasize // batch_size  # number of batches per epoch\n",
    "    \n",
    "    runs = runs                       # number of runs: 100 speaker-listener pairs are trained \n",
    "    init_mean = 0.5                   # mean for initialization of lexicon entries\n",
    "    init_std = 0.01                   # std for initialization of lexicon entries\n",
    "    \n",
    "    constraint = tf.keras.constraints.NonNeg() # constrains the lexica to have entries >= 0\n",
    "    \n",
    "    filename = 'data/bilingual_blocked/L' + str(reasoning) + '/' + str(n) + '_states/'\n",
    "    if not os.path.exists(filename):\n",
    "            os.makedirs(filename)\n",
    "    \n",
    "    param_dict = {\"n_states\": n_states, \"n_messages\": n_messages, \"n_epochs\": n_epochs, \"batch_size\": batch_size,\n",
    "              \"datasize\": datasize, \"initializer_truncated_normal_mean_std\": [init_mean, init_std], \n",
    "              \"learning_rate\": learning_rate, \"runs\": runs, \"constraint\": constraint}    \n",
    "    with open(filename + 'param_dict.pickle', 'wb') as handle:\n",
    "        pickle.dump(param_dict, handle, protocol=pickle.HIGHEST_PROTOCOL)\n",
    "    \n",
    "    \n",
    "    # run the listeners\n",
    "\n",
    "    for run in range(1,runs+1):\n",
    "        \n",
    "        # create data \n",
    "        data, labels = generate_bilingual_messages(datasize, n, ME=ME, n_blocks=2)\n",
    "        data = tf.convert_to_tensor(data)\n",
    "        lexica = []\n",
    "        all_rewards = []\n",
    "        \n",
    "        # create listener\n",
    "        lexicon = tf.Variable(tf.initializers.TruncatedNormal(mean=init_mean, stddev=init_std)\n",
    "                              ([n_states, n_messages]),\n",
    "                              name=\"lexicon\", \n",
    "                              trainable=True, \n",
    "                              dtype=tf.float32,\n",
    "                              constraint=tf.keras.constraints.NonNeg())\n",
    "        \n",
    "        if reasoning == 0: \n",
    "            listener = RSAListener0(n_states, n_messages, lexicon)\n",
    "        elif reasoning == 1: \n",
    "            listener = RSAListener1(n_states, n_messages, lexicon, alpha=5.)\n",
    "                \n",
    "        listener.compile(optimizer=tf.keras.optimizers.Adam(learning_rate=learning_rate),\n",
    "                      loss=tf.keras.losses.CategoricalCrossentropy())\n",
    "        \n",
    "        # train\n",
    "        for i in range(n_epochs):\n",
    "            average_reward = []\n",
    "            \n",
    "            shuffle_indices_1 = np.random.permutation(datasize//2)\n",
    "            shuffle_indices_2 = np.random.permutation(datasize//2) + datasize//2\n",
    "            shuffle_indices = np.concatenate((shuffle_indices_1, shuffle_indices_2))\n",
    "            data = tf.gather(data, shuffle_indices)\n",
    "            labels = tf.gather(labels, shuffle_indices)\n",
    "\n",
    "            for j in range(batches):\n",
    "                data_batch = data[j*batch_size:(j+1)*batch_size]\n",
    "                labels_batch = labels[j*batch_size:(j+1)*batch_size]\n",
    "    \n",
    "                _, actions = listener.get_states(data_batch)\n",
    "    \n",
    "                rewards = tf.einsum('ij,ij->i', labels_batch, actions)\n",
    "                average_reward.append(np.mean(rewards))\n",
    "                \n",
    "                # RL: \n",
    "                # Note that we implemented REINFORCE with a work-around using categorical crossentropy. \n",
    "                # This can be done by setting the labels to the agent's actions, and weighting the loss\n",
    "                # function by the rewards. \n",
    "                listener.train_on_batch(data_batch, actions, sample_weight=rewards)\n",
    "            \n",
    "            mean_reward = np.mean(average_reward)\n",
    "            all_rewards.append(mean_reward)\n",
    "            lexica.append(np.copy(listener.lexicon[:]))\n",
    "                        \n",
    "        print('run ' + str(run), 'average reward ' +str(ME)+ ' ' + str(mean_reward))\n",
    "        \n",
    "        # save rewards and lexica \n",
    "        if reasoning == 0:\n",
    "            filename_full = filename + 'L' + str(reasoning) +'_'+ str(ME) + 'missing_'\n",
    "        elif reasoning == 1:\n",
    "            filename_full = filename + 'L' + str(reasoning) +'_'+ str(ME) + 'missing_5.0alpha_'\n",
    "        np.save(filename_full + 'lexicon_run' + str(run), lexica)\n",
    "        np.save(filename_full + 'rewards_run' + str(run), all_rewards)"
   ]
  },
  {
   "cell_type": "code",
   "execution_count": 19,
   "metadata": {},
   "outputs": [],
   "source": [
    "# TRAIN A LISTENER AND SAVE THE PARAMETERS AS WELL AS THE REWARDS AND THE LEXICA\n",
    "\n",
    "def run_listener_blocked_e(n=3, reasoning=0, n_epochs=50, ME=1, learning_rate=0.001, runs=100, n_blocks=2):\n",
    "    \"\"\" Trains the listener on a single agent Lewis game as described in Experiment 1.\n",
    "        inputs: \n",
    "            n - number of states and messages (in total)\n",
    "            reasoning - reasoning level of the listener, 0 for literal, 1 for pragmatic \n",
    "            ME - number of messages that are left out during training, here 1 or 2\n",
    "            learning_rate - learning rate for the Adam optimizer\n",
    "        By default 100 agents are trained and all their lexica and rewards for every epoch are saved (agent-wise).\n",
    "    \"\"\"\n",
    "    \n",
    "    # setup the training and save the parameters \n",
    "    \n",
    "    n_states = n                      # number of states \n",
    "    n_messages = 2*n                  # number of messages\n",
    "    batch_size = 32                   # batch size\n",
    "    datasize = 1000                   # number of training data points\n",
    "    batches = datasize // batch_size  # number of batches per epoch\n",
    "    \n",
    "    runs = runs                       # number of runs: 100 speaker-listener pairs are trained \n",
    "    init_mean = 0.5                   # mean for initialization of lexicon entries\n",
    "    init_std = 0.01                   # std for initialization of lexicon entries\n",
    "    \n",
    "    constraint = tf.keras.constraints.NonNeg() # constrains the lexica to have entries >= 0\n",
    "    \n",
    "    filename = 'data/bilingual_blocked_e/L' + str(reasoning) + '/' + str(n) + '_states/' + str(n_blocks) + '_blocks/'\n",
    "    if not os.path.exists(filename):\n",
    "            os.makedirs(filename)\n",
    "    \n",
    "    param_dict = {\"n_states\": n_states, \"n_messages\": n_messages, \"n_epochs\": n_epochs, \"batch_size\": batch_size,\n",
    "              \"datasize\": datasize, \"initializer_truncated_normal_mean_std\": [init_mean, init_std], \n",
    "              \"learning_rate\": learning_rate, \"runs\": runs, \"constraint\": constraint}    \n",
    "    with open(filename + 'param_dict.pickle', 'wb') as handle:\n",
    "        pickle.dump(param_dict, handle, protocol=pickle.HIGHEST_PROTOCOL)\n",
    "    \n",
    "    \n",
    "    # run the listeners\n",
    "\n",
    "    for run in range(1,runs+1):\n",
    "        \n",
    "        # create data \n",
    "        data1, labels1 = generate_bilingual_messages(datasize, n, ME=ME, n_blocks=1)\n",
    "        data1 = tf.convert_to_tensor(data1)\n",
    "        data2, labels2 = generate_bilingual_messages(datasize, n, ME=ME, n_blocks=1, lang_edit=1)\n",
    "        data2 = tf.convert_to_tensor(data2)\n",
    "        data_all = [data1, data2]\n",
    "        labels_all = [labels1, labels2]\n",
    "        lexica = []\n",
    "        all_rewards = []\n",
    "        \n",
    "        # create listener\n",
    "        lexicon = tf.Variable(tf.initializers.TruncatedNormal(mean=init_mean, stddev=init_std)\n",
    "                              ([n_states, n_messages]),\n",
    "                              name=\"lexicon\", \n",
    "                              trainable=True, \n",
    "                              dtype=tf.float32,\n",
    "                              constraint=tf.keras.constraints.NonNeg())\n",
    "        \n",
    "        if reasoning == 0: \n",
    "            listener = RSAListener0(n_states, n_messages, lexicon)\n",
    "        elif reasoning == 1: \n",
    "            listener = RSAListener1(n_states, n_messages, lexicon, alpha=5.)\n",
    "                \n",
    "        listener.compile(optimizer=tf.keras.optimizers.Adam(learning_rate=learning_rate),\n",
    "                      loss=tf.keras.losses.CategoricalCrossentropy())\n",
    "        \n",
    "        # train\n",
    "        for i in range(n_epochs):\n",
    "            divisor = 100 // n_blocks\n",
    "            data = data_all[(i // divisor) % 2]\n",
    "            labels = labels_all[(i // divisor) % 2]\n",
    "            average_reward = []\n",
    "\n",
    "            shuffle_indices = np.random.permutation(datasize)\n",
    "            data = tf.gather(data, shuffle_indices)\n",
    "            labels = tf.gather(labels, shuffle_indices)\n",
    "\n",
    "            for j in range(batches):\n",
    "                data_batch = data[j*batch_size:(j+1)*batch_size]\n",
    "                labels_batch = labels[j*batch_size:(j+1)*batch_size]\n",
    "    \n",
    "                _, actions = listener.get_states(data_batch)\n",
    "    \n",
    "                rewards = tf.einsum('ij,ij->i', labels_batch, actions)\n",
    "                average_reward.append(np.mean(rewards))\n",
    "                \n",
    "                # RL: \n",
    "                # Note that we implemented REINFORCE with a work-around using categorical crossentropy. \n",
    "                # This can be done by setting the labels to the agent's actions, and weighting the loss\n",
    "                # function by the rewards. \n",
    "                listener.train_on_batch(data_batch, actions, sample_weight=rewards)\n",
    "            \n",
    "            mean_reward = np.mean(average_reward)\n",
    "            all_rewards.append(mean_reward)\n",
    "            lexica.append(np.copy(listener.lexicon[:]))\n",
    "                        \n",
    "        print('run ' + str(run), 'average reward ' +str(ME)+ ' ' + str(mean_reward))\n",
    "        \n",
    "        # save rewards and lexica \n",
    "        if reasoning == 0:\n",
    "            filename_full = filename + 'L' + str(reasoning) +'_'+ str(ME) + 'missing_'\n",
    "        elif reasoning == 1:\n",
    "            filename_full = filename + 'L' + str(reasoning) +'_'+ str(ME) + 'missing_5.0alpha_'\n",
    "        np.save(filename_full + 'lexicon_run' + str(run), lexica)\n",
    "        np.save(filename_full + 'rewards_run' + str(run), all_rewards)"
   ]
  },
  {
   "cell_type": "markdown",
   "metadata": {},
   "source": [
    "## Run the training \n",
    "\n",
    "for different agent types, numbers of state (3 and 10) and different number of states being withheld from the training (1 and 2). "
   ]
  },
  {
   "cell_type": "markdown",
   "metadata": {},
   "source": [
    "### Literal listener"
   ]
  },
  {
   "cell_type": "code",
   "execution_count": null,
   "metadata": {},
   "outputs": [],
   "source": [
    "run_listener(n=3, reasoning=0, n_epochs=50, ME=1)"
   ]
  },
  {
   "cell_type": "code",
   "execution_count": null,
   "metadata": {},
   "outputs": [],
   "source": [
    "run_listener(learning_rate=0.001, n=3, reasoning=0, n_epochs=50, ME=2)"
   ]
  },
  {
   "cell_type": "code",
   "execution_count": null,
   "metadata": {},
   "outputs": [],
   "source": [
    "run_listener(learning_rate=0.001, n=10, reasoning=0, n_epochs=100, ME=1)"
   ]
  },
  {
   "cell_type": "code",
   "execution_count": null,
   "metadata": {},
   "outputs": [],
   "source": [
    "run_listener(learning_rate=0.001, n=10, reasoning=0, n_epochs=100, ME=2)"
   ]
  },
  {
   "cell_type": "markdown",
   "metadata": {},
   "source": [
    "### Pragmatic listener"
   ]
  },
  {
   "cell_type": "code",
   "execution_count": null,
   "metadata": {},
   "outputs": [],
   "source": [
    "run_listener(learning_rate=0.001, n=3, reasoning=1, n_epochs=50, ME=1)"
   ]
  },
  {
   "cell_type": "code",
   "execution_count": null,
   "metadata": {},
   "outputs": [],
   "source": [
    "run_listener(learning_rate=0.001, n=3, reasoning=1, n_epochs=50, ME=2)"
   ]
  },
  {
   "cell_type": "code",
   "execution_count": null,
   "metadata": {},
   "outputs": [],
   "source": [
    "run_listener(learning_rate=0.001, n=5, reasoning=1, n_epochs=100, ME=1)"
   ]
  },
  {
   "cell_type": "code",
   "execution_count": null,
   "metadata": {},
   "outputs": [],
   "source": [
    "run_listener(learning_rate=0.001, n=6, reasoning=1, n_epochs=100, ME=1)"
   ]
  },
  {
   "cell_type": "code",
   "execution_count": null,
   "metadata": {},
   "outputs": [],
   "source": [
    "run_listener(learning_rate=0.001, n=7, reasoning=1, n_epochs=100, ME=1)"
   ]
  },
  {
   "cell_type": "code",
   "execution_count": null,
   "metadata": {},
   "outputs": [],
   "source": [
    "run_listener(learning_rate=0.001, n=8, reasoning=1, n_epochs=100, ME=1)"
   ]
  },
  {
   "cell_type": "code",
   "execution_count": null,
   "metadata": {},
   "outputs": [],
   "source": [
    "run_listener(learning_rate=0.001, n=9, reasoning=1, n_epochs=100, ME=1)"
   ]
  },
  {
   "cell_type": "code",
   "execution_count": null,
   "metadata": {},
   "outputs": [],
   "source": [
    "run_listener(learning_rate=0.001, n=10, reasoning=1, n_epochs=100, ME=1)"
   ]
  },
  {
   "cell_type": "code",
   "execution_count": null,
   "metadata": {},
   "outputs": [],
   "source": [
    "run_listener(learning_rate=0.001, n=15, reasoning=1, n_epochs=100, ME=1)"
   ]
  },
  {
   "cell_type": "code",
   "execution_count": null,
   "metadata": {},
   "outputs": [],
   "source": [
    "run_listener(learning_rate=0.001, n=20, reasoning=1, n_epochs=100, ME=1)"
   ]
  },
  {
   "cell_type": "code",
   "execution_count": null,
   "metadata": {},
   "outputs": [],
   "source": [
    "run_listener(learning_rate=0.001, n=25, reasoning=1, n_epochs=100, ME=1)"
   ]
  },
  {
   "cell_type": "code",
   "execution_count": null,
   "metadata": {},
   "outputs": [],
   "source": [
    "run_listener(learning_rate=0.001, n=30, reasoning=1, n_epochs=100, ME=1)"
   ]
  },
  {
   "cell_type": "code",
   "execution_count": null,
   "metadata": {},
   "outputs": [],
   "source": [
    "run_listener(learning_rate=0.001, n=40, reasoning=1, n_epochs=100, ME=1)"
   ]
  },
  {
   "cell_type": "code",
   "execution_count": null,
   "metadata": {},
   "outputs": [],
   "source": [
    "run_listener(learning_rate=0.001, n=50, reasoning=1, n_epochs=100, ME=1)"
   ]
  },
  {
   "cell_type": "code",
   "execution_count": null,
   "metadata": {},
   "outputs": [],
   "source": [
    "run_listener(learning_rate=0.001, n=60, reasoning=1, n_epochs=100, ME=1)"
   ]
  },
  {
   "cell_type": "code",
   "execution_count": null,
   "metadata": {},
   "outputs": [],
   "source": [
    "run_listener(learning_rate=0.001, n=80, reasoning=1, n_epochs=100, ME=1)"
   ]
  },
  {
   "cell_type": "code",
   "execution_count": null,
   "metadata": {},
   "outputs": [],
   "source": [
    "run_listener(learning_rate=0.001, n=100, reasoning=1, n_epochs=100, ME=1)"
   ]
  },
  {
   "cell_type": "code",
   "execution_count": null,
   "metadata": {},
   "outputs": [],
   "source": [
    "run_listener(learning_rate=0.001, n=100, reasoning=0, n_epochs=100, ME=1)"
   ]
  },
  {
   "cell_type": "code",
   "execution_count": null,
   "metadata": {},
   "outputs": [],
   "source": [
    "run_listener(learning_rate=0.001, n=10, reasoning=1, n_epochs=100, ME=2)"
   ]
  },
  {
   "cell_type": "code",
   "execution_count": null,
   "metadata": {},
   "outputs": [],
   "source": [
    "run_listener_blocked(learning_rate=0.001, n=10, reasoning=1, n_epochs=100, ME=1)"
   ]
  },
  {
   "cell_type": "code",
   "execution_count": 17,
   "metadata": {},
   "outputs": [
    {
     "name": "stdout",
     "output_type": "stream",
     "text": [
      "run 1 average reward 1 0.7883065\n"
     ]
    },
    {
     "name": "stderr",
     "output_type": "stream",
     "text": [
      "2021-11-29 22:43:54.557097: W tensorflow/core/data/root_dataset.cc:167] Optimization loop failed: Cancelled: Operation was cancelled\n",
      "2021-11-29 22:43:54.577182: W tensorflow/core/data/root_dataset.cc:167] Optimization loop failed: Cancelled: Operation was cancelled\n"
     ]
    },
    {
     "name": "stdout",
     "output_type": "stream",
     "text": [
      "run 2 average reward 1 0.8820565\n",
      "run 3 average reward 1 0.7903226\n",
      "run 4 average reward 1 0.89314514\n",
      "run 5 average reward 1 0.78629035\n"
     ]
    },
    {
     "name": "stderr",
     "output_type": "stream",
     "text": [
      "2021-11-29 22:45:10.696438: W tensorflow/core/data/root_dataset.cc:167] Optimization loop failed: Cancelled: Operation was cancelled\n",
      "2021-11-29 22:45:10.728398: W tensorflow/core/data/root_dataset.cc:167] Optimization loop failed: Cancelled: Operation was cancelled\n",
      "2021-11-29 22:45:10.871493: W tensorflow/core/data/root_dataset.cc:167] Optimization loop failed: Cancelled: Operation was cancelled\n",
      "2021-11-29 22:45:36.920198: W tensorflow/core/data/root_dataset.cc:167] Optimization loop failed: Cancelled: Operation was cancelled\n"
     ]
    },
    {
     "name": "stdout",
     "output_type": "stream",
     "text": [
      "run 6 average reward 1 0.7731855\n"
     ]
    },
    {
     "name": "stderr",
     "output_type": "stream",
     "text": [
      "2021-11-29 22:46:33.429052: W tensorflow/core/data/root_dataset.cc:167] Optimization loop failed: Cancelled: Operation was cancelled\n"
     ]
    },
    {
     "name": "stdout",
     "output_type": "stream",
     "text": [
      "run 7 average reward 1 0.875\n",
      "run 8 average reward 1 0.88709676\n",
      "run 9 average reward 1 0.6935484\n",
      "run 10 average reward 1 0.8810484\n",
      "run 11 average reward 1 0.859879\n"
     ]
    },
    {
     "name": "stderr",
     "output_type": "stream",
     "text": [
      "2021-11-29 22:48:47.581157: W tensorflow/core/data/root_dataset.cc:167] Optimization loop failed: Cancelled: Operation was cancelled\n"
     ]
    },
    {
     "ename": "KeyboardInterrupt",
     "evalue": "",
     "output_type": "error",
     "traceback": [
      "\u001b[0;31m---------------------------------------------------------------------------\u001b[0m",
      "\u001b[0;31mKeyboardInterrupt\u001b[0m                         Traceback (most recent call last)",
      "\u001b[0;32m/var/folders/wv/z5qfx1v93xx2vf_jlz4ztr4c0000gn/T/ipykernel_16979/3805427955.py\u001b[0m in \u001b[0;36m<module>\u001b[0;34m\u001b[0m\n\u001b[0;32m----> 1\u001b[0;31m \u001b[0mrun_listener_blocked_e\u001b[0m\u001b[0;34m(\u001b[0m\u001b[0mlearning_rate\u001b[0m\u001b[0;34m=\u001b[0m\u001b[0;36m0.001\u001b[0m\u001b[0;34m,\u001b[0m \u001b[0mn\u001b[0m\u001b[0;34m=\u001b[0m\u001b[0;36m10\u001b[0m\u001b[0;34m,\u001b[0m \u001b[0mreasoning\u001b[0m\u001b[0;34m=\u001b[0m\u001b[0;36m1\u001b[0m\u001b[0;34m,\u001b[0m \u001b[0mn_epochs\u001b[0m\u001b[0;34m=\u001b[0m\u001b[0;36m100\u001b[0m\u001b[0;34m,\u001b[0m \u001b[0mME\u001b[0m\u001b[0;34m=\u001b[0m\u001b[0;36m1\u001b[0m\u001b[0;34m)\u001b[0m\u001b[0;34m\u001b[0m\u001b[0;34m\u001b[0m\u001b[0m\n\u001b[0m",
      "\u001b[0;32m/var/folders/wv/z5qfx1v93xx2vf_jlz4ztr4c0000gn/T/ipykernel_16979/2107111517.py\u001b[0m in \u001b[0;36mrun_listener_blocked_e\u001b[0;34m(n, reasoning, n_epochs, ME, learning_rate, runs, n_blocks)\u001b[0m\n\u001b[1;32m     90\u001b[0m                 \u001b[0;31m# This can be done by setting the labels to the agent's actions, and weighting the loss\u001b[0m\u001b[0;34m\u001b[0m\u001b[0;34m\u001b[0m\u001b[0;34m\u001b[0m\u001b[0m\n\u001b[1;32m     91\u001b[0m                 \u001b[0;31m# function by the rewards.\u001b[0m\u001b[0;34m\u001b[0m\u001b[0;34m\u001b[0m\u001b[0;34m\u001b[0m\u001b[0m\n\u001b[0;32m---> 92\u001b[0;31m                 \u001b[0mlistener\u001b[0m\u001b[0;34m.\u001b[0m\u001b[0mtrain_on_batch\u001b[0m\u001b[0;34m(\u001b[0m\u001b[0mdata_batch\u001b[0m\u001b[0;34m,\u001b[0m \u001b[0mactions\u001b[0m\u001b[0;34m,\u001b[0m \u001b[0msample_weight\u001b[0m\u001b[0;34m=\u001b[0m\u001b[0mrewards\u001b[0m\u001b[0;34m)\u001b[0m\u001b[0;34m\u001b[0m\u001b[0;34m\u001b[0m\u001b[0m\n\u001b[0m\u001b[1;32m     93\u001b[0m \u001b[0;34m\u001b[0m\u001b[0m\n\u001b[1;32m     94\u001b[0m             \u001b[0mmean_reward\u001b[0m \u001b[0;34m=\u001b[0m \u001b[0mnp\u001b[0m\u001b[0;34m.\u001b[0m\u001b[0mmean\u001b[0m\u001b[0;34m(\u001b[0m\u001b[0maverage_reward\u001b[0m\u001b[0;34m)\u001b[0m\u001b[0;34m\u001b[0m\u001b[0;34m\u001b[0m\u001b[0m\n",
      "\u001b[0;32m/Library/Frameworks/Python.framework/Versions/3.9/lib/python3.9/site-packages/keras/engine/training.py\u001b[0m in \u001b[0;36mtrain_on_batch\u001b[0;34m(self, x, y, sample_weight, class_weight, reset_metrics, return_dict)\u001b[0m\n\u001b[1;32m   1850\u001b[0m     \u001b[0;32mwith\u001b[0m \u001b[0mself\u001b[0m\u001b[0;34m.\u001b[0m\u001b[0mdistribute_strategy\u001b[0m\u001b[0;34m.\u001b[0m\u001b[0mscope\u001b[0m\u001b[0;34m(\u001b[0m\u001b[0;34m)\u001b[0m\u001b[0;34m,\u001b[0m\u001b[0;31m \u001b[0m\u001b[0;31m\\\u001b[0m\u001b[0;34m\u001b[0m\u001b[0;34m\u001b[0m\u001b[0m\n\u001b[1;32m   1851\u001b[0m          \u001b[0mtraining_utils\u001b[0m\u001b[0;34m.\u001b[0m\u001b[0mRespectCompiledTrainableState\u001b[0m\u001b[0;34m(\u001b[0m\u001b[0mself\u001b[0m\u001b[0;34m)\u001b[0m\u001b[0;34m:\u001b[0m\u001b[0;34m\u001b[0m\u001b[0;34m\u001b[0m\u001b[0m\n\u001b[0;32m-> 1852\u001b[0;31m       iterator = data_adapter.single_batch_iterator(self.distribute_strategy, x,\n\u001b[0m\u001b[1;32m   1853\u001b[0m                                                     \u001b[0my\u001b[0m\u001b[0;34m,\u001b[0m \u001b[0msample_weight\u001b[0m\u001b[0;34m,\u001b[0m\u001b[0;34m\u001b[0m\u001b[0;34m\u001b[0m\u001b[0m\n\u001b[1;32m   1854\u001b[0m                                                     class_weight)\n",
      "\u001b[0;32m/Library/Frameworks/Python.framework/Versions/3.9/lib/python3.9/site-packages/keras/engine/data_adapter.py\u001b[0m in \u001b[0;36msingle_batch_iterator\u001b[0;34m(strategy, x, y, sample_weight, class_weight)\u001b[0m\n\u001b[1;32m   1636\u001b[0m     \u001b[0mdataset\u001b[0m \u001b[0;34m=\u001b[0m \u001b[0mdataset\u001b[0m\u001b[0;34m.\u001b[0m\u001b[0mmap\u001b[0m\u001b[0;34m(\u001b[0m\u001b[0m_make_class_weight_map_fn\u001b[0m\u001b[0;34m(\u001b[0m\u001b[0mclass_weight\u001b[0m\u001b[0;34m)\u001b[0m\u001b[0;34m)\u001b[0m\u001b[0;34m\u001b[0m\u001b[0;34m\u001b[0m\u001b[0m\n\u001b[1;32m   1637\u001b[0m   \u001b[0mdataset\u001b[0m \u001b[0;34m=\u001b[0m \u001b[0mstrategy\u001b[0m\u001b[0;34m.\u001b[0m\u001b[0mexperimental_distribute_dataset\u001b[0m\u001b[0;34m(\u001b[0m\u001b[0mdataset\u001b[0m\u001b[0;34m)\u001b[0m\u001b[0;34m\u001b[0m\u001b[0;34m\u001b[0m\u001b[0m\n\u001b[0;32m-> 1638\u001b[0;31m   \u001b[0;32mreturn\u001b[0m \u001b[0miter\u001b[0m\u001b[0;34m(\u001b[0m\u001b[0mdataset\u001b[0m\u001b[0;34m)\u001b[0m\u001b[0;34m\u001b[0m\u001b[0;34m\u001b[0m\u001b[0m\n\u001b[0m\u001b[1;32m   1639\u001b[0m \u001b[0;34m\u001b[0m\u001b[0m\n\u001b[1;32m   1640\u001b[0m \u001b[0;34m\u001b[0m\u001b[0m\n",
      "\u001b[0;32m/Library/Frameworks/Python.framework/Versions/3.9/lib/python3.9/site-packages/tensorflow/python/data/ops/dataset_ops.py\u001b[0m in \u001b[0;36m__iter__\u001b[0;34m(self)\u001b[0m\n\u001b[1;32m    409\u001b[0m     \u001b[0;32mif\u001b[0m \u001b[0mcontext\u001b[0m\u001b[0;34m.\u001b[0m\u001b[0mexecuting_eagerly\u001b[0m\u001b[0;34m(\u001b[0m\u001b[0;34m)\u001b[0m \u001b[0;32mor\u001b[0m \u001b[0mops\u001b[0m\u001b[0;34m.\u001b[0m\u001b[0minside_function\u001b[0m\u001b[0;34m(\u001b[0m\u001b[0;34m)\u001b[0m\u001b[0;34m:\u001b[0m\u001b[0;34m\u001b[0m\u001b[0;34m\u001b[0m\u001b[0m\n\u001b[1;32m    410\u001b[0m       \u001b[0;32mwith\u001b[0m \u001b[0mops\u001b[0m\u001b[0;34m.\u001b[0m\u001b[0mcolocate_with\u001b[0m\u001b[0;34m(\u001b[0m\u001b[0mself\u001b[0m\u001b[0;34m.\u001b[0m\u001b[0m_variant_tensor\u001b[0m\u001b[0;34m)\u001b[0m\u001b[0;34m:\u001b[0m\u001b[0;34m\u001b[0m\u001b[0;34m\u001b[0m\u001b[0m\n\u001b[0;32m--> 411\u001b[0;31m         \u001b[0;32mreturn\u001b[0m \u001b[0miterator_ops\u001b[0m\u001b[0;34m.\u001b[0m\u001b[0mOwnedIterator\u001b[0m\u001b[0;34m(\u001b[0m\u001b[0mself\u001b[0m\u001b[0;34m)\u001b[0m\u001b[0;34m\u001b[0m\u001b[0;34m\u001b[0m\u001b[0m\n\u001b[0m\u001b[1;32m    412\u001b[0m     \u001b[0;32melse\u001b[0m\u001b[0;34m:\u001b[0m\u001b[0;34m\u001b[0m\u001b[0;34m\u001b[0m\u001b[0m\n\u001b[1;32m    413\u001b[0m       raise RuntimeError(\"__iter__() is only supported inside of tf.function \"\n",
      "\u001b[0;32m/Library/Frameworks/Python.framework/Versions/3.9/lib/python3.9/site-packages/tensorflow/python/data/ops/iterator_ops.py\u001b[0m in \u001b[0;36m__init__\u001b[0;34m(self, dataset, components, element_spec)\u001b[0m\n\u001b[1;32m    694\u001b[0m       \u001b[0;32mif\u001b[0m \u001b[0;34m(\u001b[0m\u001b[0mcomponents\u001b[0m \u001b[0;32mis\u001b[0m \u001b[0;32mnot\u001b[0m \u001b[0;32mNone\u001b[0m \u001b[0;32mor\u001b[0m \u001b[0melement_spec\u001b[0m \u001b[0;32mis\u001b[0m \u001b[0;32mnot\u001b[0m \u001b[0;32mNone\u001b[0m\u001b[0;34m)\u001b[0m\u001b[0;34m:\u001b[0m\u001b[0;34m\u001b[0m\u001b[0;34m\u001b[0m\u001b[0m\n\u001b[1;32m    695\u001b[0m         \u001b[0;32mraise\u001b[0m \u001b[0mValueError\u001b[0m\u001b[0;34m(\u001b[0m\u001b[0merror_message\u001b[0m\u001b[0;34m)\u001b[0m\u001b[0;34m\u001b[0m\u001b[0;34m\u001b[0m\u001b[0m\n\u001b[0;32m--> 696\u001b[0;31m       \u001b[0mself\u001b[0m\u001b[0;34m.\u001b[0m\u001b[0m_create_iterator\u001b[0m\u001b[0;34m(\u001b[0m\u001b[0mdataset\u001b[0m\u001b[0;34m)\u001b[0m\u001b[0;34m\u001b[0m\u001b[0;34m\u001b[0m\u001b[0m\n\u001b[0m\u001b[1;32m    697\u001b[0m \u001b[0;34m\u001b[0m\u001b[0m\n\u001b[1;32m    698\u001b[0m   \u001b[0;32mdef\u001b[0m \u001b[0m_create_iterator\u001b[0m\u001b[0;34m(\u001b[0m\u001b[0mself\u001b[0m\u001b[0;34m,\u001b[0m \u001b[0mdataset\u001b[0m\u001b[0;34m)\u001b[0m\u001b[0;34m:\u001b[0m\u001b[0;34m\u001b[0m\u001b[0;34m\u001b[0m\u001b[0m\n",
      "\u001b[0;32m/Library/Frameworks/Python.framework/Versions/3.9/lib/python3.9/site-packages/tensorflow/python/data/ops/iterator_ops.py\u001b[0m in \u001b[0;36m_create_iterator\u001b[0;34m(self, dataset)\u001b[0m\n\u001b[1;32m    717\u001b[0m               \u001b[0moutput_types\u001b[0m\u001b[0;34m=\u001b[0m\u001b[0mself\u001b[0m\u001b[0;34m.\u001b[0m\u001b[0m_flat_output_types\u001b[0m\u001b[0;34m,\u001b[0m\u001b[0;34m\u001b[0m\u001b[0;34m\u001b[0m\u001b[0m\n\u001b[1;32m    718\u001b[0m               output_shapes=self._flat_output_shapes))\n\u001b[0;32m--> 719\u001b[0;31m       \u001b[0mgen_dataset_ops\u001b[0m\u001b[0;34m.\u001b[0m\u001b[0mmake_iterator\u001b[0m\u001b[0;34m(\u001b[0m\u001b[0mds_variant\u001b[0m\u001b[0;34m,\u001b[0m \u001b[0mself\u001b[0m\u001b[0;34m.\u001b[0m\u001b[0m_iterator_resource\u001b[0m\u001b[0;34m)\u001b[0m\u001b[0;34m\u001b[0m\u001b[0;34m\u001b[0m\u001b[0m\n\u001b[0m\u001b[1;32m    720\u001b[0m       \u001b[0;31m# Delete the resource when this object is deleted\u001b[0m\u001b[0;34m\u001b[0m\u001b[0;34m\u001b[0m\u001b[0;34m\u001b[0m\u001b[0m\n\u001b[1;32m    721\u001b[0m       self._resource_deleter = IteratorResourceDeleter(\n",
      "\u001b[0;32m/Library/Frameworks/Python.framework/Versions/3.9/lib/python3.9/site-packages/tensorflow/python/ops/gen_dataset_ops.py\u001b[0m in \u001b[0;36mmake_iterator\u001b[0;34m(dataset, iterator, name)\u001b[0m\n\u001b[1;32m   3118\u001b[0m   \u001b[0;32mif\u001b[0m \u001b[0mtld\u001b[0m\u001b[0;34m.\u001b[0m\u001b[0mis_eager\u001b[0m\u001b[0;34m:\u001b[0m\u001b[0;34m\u001b[0m\u001b[0;34m\u001b[0m\u001b[0m\n\u001b[1;32m   3119\u001b[0m     \u001b[0;32mtry\u001b[0m\u001b[0;34m:\u001b[0m\u001b[0;34m\u001b[0m\u001b[0;34m\u001b[0m\u001b[0m\n\u001b[0;32m-> 3120\u001b[0;31m       _result = pywrap_tfe.TFE_Py_FastPathExecute(\n\u001b[0m\u001b[1;32m   3121\u001b[0m         _ctx, \"MakeIterator\", name, dataset, iterator)\n\u001b[1;32m   3122\u001b[0m       \u001b[0;32mreturn\u001b[0m \u001b[0m_result\u001b[0m\u001b[0;34m\u001b[0m\u001b[0;34m\u001b[0m\u001b[0m\n",
      "\u001b[0;31mKeyboardInterrupt\u001b[0m: "
     ]
    }
   ],
   "source": [
    "run_listener_blocked_e(learning_rate=0.001, n=10, reasoning=1, n_epochs=100, ME=1)"
   ]
  },
  {
   "cell_type": "code",
   "execution_count": 20,
   "metadata": {},
   "outputs": [
    {
     "name": "stderr",
     "output_type": "stream",
     "text": [
      "2021-11-29 22:54:57.320393: W tensorflow/core/data/root_dataset.cc:167] Optimization loop failed: Cancelled: Operation was cancelled\n"
     ]
    },
    {
     "name": "stdout",
     "output_type": "stream",
     "text": [
      "run 1 average reward 1 0.9979839\n",
      "run 2 average reward 1 0.9989919\n",
      "run 3 average reward 1 0.8820565\n",
      "run 4 average reward 1 0.86995965\n",
      "run 5 average reward 1 0.9979839\n",
      "run 6 average reward 1 1.0\n",
      "run 7 average reward 1 0.99596775\n",
      "run 8 average reward 1 0.9989919\n",
      "run 9 average reward 1 0.9939516\n",
      "run 10 average reward 1 0.9969758\n",
      "run 11 average reward 1 0.9989919\n",
      "run 12 average reward 1 0.8991935\n"
     ]
    },
    {
     "name": "stderr",
     "output_type": "stream",
     "text": [
      "2021-11-29 23:00:49.276340: W tensorflow/core/data/root_dataset.cc:167] Optimization loop failed: Cancelled: Operation was cancelled\n"
     ]
    },
    {
     "name": "stdout",
     "output_type": "stream",
     "text": [
      "run 13 average reward 1 0.9979839\n",
      "run 14 average reward 1 0.9979839\n",
      "run 15 average reward 1 1.0\n",
      "run 16 average reward 1 0.9969758\n",
      "run 17 average reward 1 0.8921371\n",
      "run 18 average reward 1 0.9989919\n",
      "run 19 average reward 1 0.9092742\n",
      "run 20 average reward 1 0.99495965\n",
      "run 21 average reward 1 0.9979839\n",
      "run 22 average reward 1 0.8921371\n",
      "run 23 average reward 1 0.891129\n",
      "run 24 average reward 1 0.9969758\n",
      "run 25 average reward 1 1.0\n",
      "run 26 average reward 1 0.9969758\n",
      "run 27 average reward 1 0.9989919\n",
      "run 28 average reward 1 0.9979839\n",
      "run 29 average reward 1 0.9979839\n"
     ]
    },
    {
     "name": "stderr",
     "output_type": "stream",
     "text": [
      "2021-11-29 23:06:04.184626: W tensorflow/core/data/root_dataset.cc:167] Optimization loop failed: Cancelled: Operation was cancelled\n"
     ]
    },
    {
     "name": "stdout",
     "output_type": "stream",
     "text": [
      "run 30 average reward 1 1.0\n",
      "run 31 average reward 1 0.9989919\n",
      "run 32 average reward 1 0.9979839\n",
      "run 33 average reward 1 0.9989919\n",
      "run 34 average reward 1 1.0\n",
      "run 35 average reward 1 1.0\n",
      "run 36 average reward 1 0.89616936\n",
      "run 37 average reward 1 1.0\n",
      "run 38 average reward 1 0.9989919\n",
      "run 39 average reward 1 1.0\n",
      "run 40 average reward 1 0.99495965\n",
      "run 41 average reward 1 1.0\n",
      "run 42 average reward 1 0.9989919\n",
      "run 43 average reward 1 0.9969758\n",
      "run 44 average reward 1 0.9989919\n",
      "run 45 average reward 1 0.9979839\n",
      "run 46 average reward 1 0.9969758\n",
      "run 47 average reward 1 0.9989919\n"
     ]
    },
    {
     "name": "stderr",
     "output_type": "stream",
     "text": [
      "2021-11-29 23:12:13.754643: W tensorflow/core/data/root_dataset.cc:167] Optimization loop failed: Cancelled: Operation was cancelled\n"
     ]
    },
    {
     "name": "stdout",
     "output_type": "stream",
     "text": [
      "run 48 average reward 1 0.99495965\n",
      "run 49 average reward 1 1.0\n",
      "run 50 average reward 1 0.9989919\n",
      "run 51 average reward 1 0.9979839\n",
      "run 52 average reward 1 0.9969758\n",
      "run 53 average reward 1 0.99596775\n",
      "run 54 average reward 1 0.9979839\n",
      "run 55 average reward 1 0.9989919\n",
      "run 56 average reward 1 1.0\n",
      "run 57 average reward 1 0.8951613\n",
      "run 58 average reward 1 0.99596775\n",
      "run 59 average reward 1 0.88508064\n",
      "run 60 average reward 1 1.0\n",
      "run 61 average reward 1 0.9969758\n",
      "run 62 average reward 1 0.88709676\n",
      "run 63 average reward 1 0.9989919\n",
      "run 64 average reward 1 1.0\n",
      "run 65 average reward 1 0.8981855\n",
      "run 66 average reward 1 0.87903225\n",
      "run 67 average reward 1 0.9969758\n",
      "run 68 average reward 1 0.9969758\n",
      "run 69 average reward 1 0.9969758\n",
      "run 70 average reward 1 0.9979839\n",
      "run 71 average reward 1 1.0\n",
      "run 72 average reward 1 1.0\n",
      "run 73 average reward 1 1.0\n",
      "run 74 average reward 1 0.88810486\n",
      "run 75 average reward 1 0.9052419\n",
      "run 76 average reward 1 0.9989919\n",
      "run 77 average reward 1 0.8891129\n",
      "run 78 average reward 1 0.89616936\n",
      "run 79 average reward 1 1.0\n",
      "run 80 average reward 1 1.0\n",
      "run 81 average reward 1 0.9989919\n",
      "run 82 average reward 1 0.9969758\n",
      "run 83 average reward 1 0.9989919\n",
      "run 84 average reward 1 1.0\n",
      "run 85 average reward 1 0.9979839\n",
      "run 86 average reward 1 0.8991935\n",
      "run 87 average reward 1 0.9969758\n",
      "run 88 average reward 1 0.9939516\n",
      "run 89 average reward 1 0.9989919\n",
      "run 90 average reward 1 0.9989919\n",
      "run 91 average reward 1 0.9979839\n",
      "run 92 average reward 1 0.9979839\n",
      "run 93 average reward 1 0.89314514\n",
      "run 94 average reward 1 0.9989919\n",
      "run 95 average reward 1 0.8820565\n",
      "run 96 average reward 1 1.0\n",
      "run 97 average reward 1 0.88508064\n",
      "run 98 average reward 1 0.9979839\n",
      "run 99 average reward 1 1.0\n",
      "run 100 average reward 1 0.9989919\n"
     ]
    }
   ],
   "source": [
    "run_listener_blocked_e(learning_rate=0.001, n=10, reasoning=1, n_epochs=100, ME=1, n_blocks=4)"
   ]
  },
  {
   "cell_type": "code",
   "execution_count": 21,
   "metadata": {},
   "outputs": [
    {
     "name": "stderr",
     "output_type": "stream",
     "text": [
      "2021-11-30 00:02:58.600664: W tensorflow/core/data/root_dataset.cc:167] Optimization loop failed: Cancelled: Operation was cancelled\n"
     ]
    },
    {
     "name": "stdout",
     "output_type": "stream",
     "text": [
      "run 1 average reward 1 1.0\n"
     ]
    },
    {
     "name": "stderr",
     "output_type": "stream",
     "text": [
      "2021-11-30 00:03:24.216494: W tensorflow/core/data/root_dataset.cc:167] Optimization loop failed: Cancelled: Operation was cancelled\n"
     ]
    },
    {
     "name": "stdout",
     "output_type": "stream",
     "text": [
      "run 2 average reward 1 0.9989919\n",
      "run 3 average reward 1 1.0\n"
     ]
    },
    {
     "name": "stderr",
     "output_type": "stream",
     "text": [
      "2021-11-30 00:03:55.896905: W tensorflow/core/data/root_dataset.cc:167] Optimization loop failed: Cancelled: Operation was cancelled\n",
      "2021-11-30 00:03:56.106370: W tensorflow/core/data/root_dataset.cc:167] Optimization loop failed: Cancelled: Operation was cancelled\n"
     ]
    },
    {
     "name": "stdout",
     "output_type": "stream",
     "text": [
      "run 4 average reward 1 0.9979839\n",
      "run 5 average reward 1 0.9979839\n",
      "run 6 average reward 1 0.9989919\n",
      "run 7 average reward 1 0.9989919\n",
      "run 8 average reward 1 1.0\n",
      "run 9 average reward 1 0.9979839\n",
      "run 10 average reward 1 1.0\n",
      "run 11 average reward 1 0.9979839\n",
      "run 12 average reward 1 0.99596775\n",
      "run 13 average reward 1 0.9989919\n",
      "run 14 average reward 1 0.9969758\n",
      "run 15 average reward 1 0.9989919\n",
      "run 16 average reward 1 0.9989919\n",
      "run 17 average reward 1 0.9989919\n",
      "run 18 average reward 1 0.9989919\n",
      "run 19 average reward 1 0.9989919\n"
     ]
    },
    {
     "name": "stderr",
     "output_type": "stream",
     "text": [
      "2021-11-30 00:09:48.173834: W tensorflow/core/data/root_dataset.cc:167] Optimization loop failed: Cancelled: Operation was cancelled\n",
      "2021-11-30 00:09:48.201019: W tensorflow/core/data/root_dataset.cc:167] Optimization loop failed: Cancelled: Operation was cancelled\n",
      "2021-11-30 00:09:48.221691: W tensorflow/core/data/root_dataset.cc:167] Optimization loop failed: Cancelled: Operation was cancelled\n"
     ]
    },
    {
     "name": "stdout",
     "output_type": "stream",
     "text": [
      "run 20 average reward 1 1.0\n",
      "run 21 average reward 1 0.9989919\n",
      "run 22 average reward 1 1.0\n",
      "run 23 average reward 1 0.9989919\n",
      "run 24 average reward 1 0.9989919\n",
      "run 25 average reward 1 1.0\n",
      "run 26 average reward 1 0.9989919\n",
      "run 27 average reward 1 1.0\n",
      "run 28 average reward 1 0.9989919\n",
      "run 29 average reward 1 0.9979839\n",
      "run 30 average reward 1 0.9989919\n",
      "run 31 average reward 1 0.9989919\n",
      "run 32 average reward 1 0.9969758\n",
      "run 33 average reward 1 0.99495965\n",
      "run 34 average reward 1 0.9979839\n",
      "run 35 average reward 1 1.0\n",
      "run 36 average reward 1 1.0\n",
      "run 37 average reward 1 0.9979839\n",
      "run 38 average reward 1 0.99596775\n",
      "run 39 average reward 1 0.9989919\n",
      "run 40 average reward 1 0.9979839\n",
      "run 41 average reward 1 0.9969758\n",
      "run 42 average reward 1 0.9969758\n"
     ]
    },
    {
     "name": "stderr",
     "output_type": "stream",
     "text": [
      "2021-11-30 00:17:05.171536: W tensorflow/core/data/root_dataset.cc:167] Optimization loop failed: Cancelled: Operation was cancelled\n"
     ]
    },
    {
     "name": "stdout",
     "output_type": "stream",
     "text": [
      "run 43 average reward 1 0.9979839\n",
      "run 44 average reward 1 0.9989919\n"
     ]
    },
    {
     "name": "stderr",
     "output_type": "stream",
     "text": [
      "2021-11-30 00:17:30.584705: W tensorflow/core/data/root_dataset.cc:167] Optimization loop failed: Cancelled: Operation was cancelled\n"
     ]
    },
    {
     "name": "stdout",
     "output_type": "stream",
     "text": [
      "run 45 average reward 1 1.0\n"
     ]
    },
    {
     "name": "stderr",
     "output_type": "stream",
     "text": [
      "2021-11-30 00:17:58.788839: W tensorflow/core/data/root_dataset.cc:167] Optimization loop failed: Cancelled: Operation was cancelled\n",
      "2021-11-30 00:17:58.861413: W tensorflow/core/data/root_dataset.cc:167] Optimization loop failed: Cancelled: Operation was cancelled\n",
      "2021-11-30 00:17:59.158870: W tensorflow/core/data/root_dataset.cc:167] Optimization loop failed: Cancelled: Operation was cancelled\n",
      "2021-11-30 00:17:59.251767: W tensorflow/core/data/root_dataset.cc:167] Optimization loop failed: Cancelled: Operation was cancelled\n"
     ]
    },
    {
     "name": "stdout",
     "output_type": "stream",
     "text": [
      "run 46 average reward 1 0.9979839\n",
      "run 47 average reward 1 0.9979839\n",
      "run 48 average reward 1 0.9989919\n",
      "run 49 average reward 1 1.0\n",
      "run 50 average reward 1 0.9969758\n",
      "run 51 average reward 1 1.0\n",
      "run 52 average reward 1 0.9989919\n",
      "run 53 average reward 1 0.9989919\n",
      "run 54 average reward 1 0.9989919\n",
      "run 55 average reward 1 1.0\n",
      "run 56 average reward 1 0.9989919\n",
      "run 57 average reward 1 0.9979839\n",
      "run 58 average reward 1 1.0\n",
      "run 59 average reward 1 0.9979839\n",
      "run 60 average reward 1 1.0\n",
      "run 61 average reward 1 0.9979839\n"
     ]
    },
    {
     "name": "stderr",
     "output_type": "stream",
     "text": [
      "2021-11-30 00:22:47.394643: W tensorflow/core/data/root_dataset.cc:167] Optimization loop failed: Cancelled: Operation was cancelled\n"
     ]
    },
    {
     "name": "stdout",
     "output_type": "stream",
     "text": [
      "run 62 average reward 1 1.0\n",
      "run 63 average reward 1 0.9989919\n",
      "run 64 average reward 1 0.9989919\n",
      "run 65 average reward 1 1.0\n",
      "run 66 average reward 1 0.9969758\n",
      "run 67 average reward 1 1.0\n",
      "run 68 average reward 1 1.0\n",
      "run 69 average reward 1 0.9979839\n",
      "run 70 average reward 1 0.9989919\n",
      "run 71 average reward 1 0.9989919\n",
      "run 72 average reward 1 0.9989919\n",
      "run 73 average reward 1 0.9989919\n",
      "run 74 average reward 1 1.0\n",
      "run 75 average reward 1 1.0\n",
      "run 76 average reward 1 1.0\n",
      "run 77 average reward 1 0.9979839\n",
      "run 78 average reward 1 0.9979839\n",
      "run 79 average reward 1 1.0\n",
      "run 80 average reward 1 0.9989919\n",
      "run 81 average reward 1 0.9979839\n",
      "run 82 average reward 1 0.9969758\n",
      "run 83 average reward 1 0.9989919\n",
      "run 84 average reward 1 0.9979839\n",
      "run 85 average reward 1 0.9969758\n",
      "run 86 average reward 1 0.9979839\n",
      "run 87 average reward 1 0.9989919\n",
      "run 88 average reward 1 0.9989919\n",
      "run 89 average reward 1 0.9979839\n",
      "run 90 average reward 1 0.9969758\n",
      "run 91 average reward 1 1.0\n",
      "run 92 average reward 1 1.0\n",
      "run 93 average reward 1 1.0\n",
      "run 94 average reward 1 0.9989919\n",
      "run 95 average reward 1 0.9989919\n",
      "run 96 average reward 1 0.9979839\n",
      "run 97 average reward 1 0.9969758\n",
      "run 98 average reward 1 1.0\n",
      "run 99 average reward 1 0.9989919\n",
      "run 100 average reward 1 1.0\n"
     ]
    }
   ],
   "source": [
    "run_listener_blocked_e(learning_rate=0.001, n=10, reasoning=1, n_epochs=100, ME=1, n_blocks=8)"
   ]
  },
  {
   "cell_type": "code",
   "execution_count": 22,
   "metadata": {},
   "outputs": [
    {
     "name": "stdout",
     "output_type": "stream",
     "text": [
      "run 1 average reward 1 0.9989919\n",
      "run 2 average reward 1 0.9989919\n",
      "run 3 average reward 1 0.9979839\n",
      "run 4 average reward 1 1.0\n",
      "run 5 average reward 1 1.0\n",
      "run 6 average reward 1 0.9989919\n",
      "run 7 average reward 1 1.0\n",
      "run 8 average reward 1 1.0\n",
      "run 9 average reward 1 0.9989919\n",
      "run 10 average reward 1 1.0\n",
      "run 11 average reward 1 1.0\n",
      "run 12 average reward 1 0.9989919\n",
      "run 13 average reward 1 1.0\n",
      "run 14 average reward 1 1.0\n",
      "run 15 average reward 1 1.0\n",
      "run 16 average reward 1 1.0\n",
      "run 17 average reward 1 1.0\n",
      "run 18 average reward 1 0.9979839\n",
      "run 19 average reward 1 1.0\n",
      "run 20 average reward 1 0.9989919\n",
      "run 21 average reward 1 0.9989919\n",
      "run 22 average reward 1 1.0\n",
      "run 23 average reward 1 0.9989919\n",
      "run 24 average reward 1 1.0\n",
      "run 25 average reward 1 0.9969758\n",
      "run 26 average reward 1 0.9979839\n",
      "run 27 average reward 1 1.0\n",
      "run 28 average reward 1 0.9989919\n",
      "run 29 average reward 1 0.9989919\n",
      "run 30 average reward 1 1.0\n",
      "run 31 average reward 1 1.0\n",
      "run 32 average reward 1 1.0\n",
      "run 33 average reward 1 1.0\n",
      "run 34 average reward 1 0.9979839\n",
      "run 35 average reward 1 1.0\n",
      "run 36 average reward 1 0.9979839\n",
      "run 37 average reward 1 1.0\n",
      "run 38 average reward 1 1.0\n",
      "run 39 average reward 1 1.0\n",
      "run 40 average reward 1 1.0\n",
      "run 41 average reward 1 1.0\n",
      "run 42 average reward 1 0.9989919\n",
      "run 43 average reward 1 1.0\n",
      "run 44 average reward 1 0.9989919\n",
      "run 45 average reward 1 0.9969758\n",
      "run 46 average reward 1 1.0\n",
      "run 47 average reward 1 1.0\n",
      "run 48 average reward 1 1.0\n",
      "run 49 average reward 1 1.0\n",
      "run 50 average reward 1 1.0\n",
      "run 51 average reward 1 1.0\n",
      "run 52 average reward 1 1.0\n",
      "run 53 average reward 1 0.9989919\n",
      "run 54 average reward 1 1.0\n",
      "run 55 average reward 1 0.9989919\n",
      "run 56 average reward 1 1.0\n",
      "run 57 average reward 1 0.9969758\n",
      "run 58 average reward 1 0.9989919\n",
      "run 59 average reward 1 0.9979839\n",
      "run 60 average reward 1 0.9989919\n",
      "run 61 average reward 1 0.9979839\n",
      "run 62 average reward 1 0.9989919\n",
      "run 63 average reward 1 0.9989919\n",
      "run 64 average reward 1 1.0\n",
      "run 65 average reward 1 0.9969758\n",
      "run 66 average reward 1 1.0\n",
      "run 67 average reward 1 1.0\n",
      "run 68 average reward 1 0.9989919\n",
      "run 69 average reward 1 0.9989919\n",
      "run 70 average reward 1 0.9989919\n",
      "run 71 average reward 1 1.0\n",
      "run 72 average reward 1 1.0\n",
      "run 73 average reward 1 0.9989919\n",
      "run 74 average reward 1 0.9989919\n",
      "run 75 average reward 1 0.9979839\n",
      "run 76 average reward 1 0.9969758\n",
      "run 77 average reward 1 0.9969758\n",
      "run 78 average reward 1 0.9979839\n",
      "run 79 average reward 1 0.9989919\n",
      "run 80 average reward 1 0.9989919\n",
      "run 81 average reward 1 1.0\n",
      "run 82 average reward 1 0.9989919\n",
      "run 83 average reward 1 1.0\n",
      "run 84 average reward 1 0.9989919\n",
      "run 85 average reward 1 0.9979839\n",
      "run 86 average reward 1 0.9989919\n",
      "run 87 average reward 1 0.9989919\n",
      "run 88 average reward 1 1.0\n",
      "run 89 average reward 1 0.9989919\n",
      "run 90 average reward 1 0.9989919\n",
      "run 91 average reward 1 1.0\n",
      "run 92 average reward 1 1.0\n",
      "run 93 average reward 1 1.0\n",
      "run 94 average reward 1 0.9969758\n",
      "run 95 average reward 1 1.0\n",
      "run 96 average reward 1 0.9989919\n",
      "run 97 average reward 1 1.0\n",
      "run 98 average reward 1 0.9979839\n",
      "run 99 average reward 1 0.9969758\n",
      "run 100 average reward 1 0.9969758\n"
     ]
    }
   ],
   "source": [
    "run_listener_blocked_e(learning_rate=0.001, n=10, reasoning=1, n_epochs=100, ME=1, n_blocks=16)"
   ]
  }
 ],
 "metadata": {
  "interpreter": {
   "hash": "aee8b7b246df8f9039afb4144a1f6fd8d2ca17a180786b69acc140d282b71a49"
  },
  "kernelspec": {
   "display_name": "Python 3.9.2 64-bit",
   "name": "python3"
  },
  "language_info": {
   "codemirror_mode": {
    "name": "ipython",
    "version": 3
   },
   "file_extension": ".py",
   "mimetype": "text/x-python",
   "name": "python",
   "nbconvert_exporter": "python",
   "pygments_lexer": "ipython3",
   "version": "3.9.2"
  }
 },
 "nbformat": 4,
 "nbformat_minor": 2
}
