{
 "cells": [
  {
   "cell_type": "markdown",
   "metadata": {},
   "source": [
    "# ME bias in the single agent setting"
   ]
  },
  {
   "cell_type": "markdown",
   "metadata": {},
   "source": [
    "## Setup the training"
   ]
  },
  {
   "cell_type": "code",
   "execution_count": null,
   "metadata": {},
   "outputs": [],
   "source": [
    "# IMPORTS \n",
    "\n",
    "import tensorflow as tf\n",
    "import numpy as np\n",
    "import sys\n",
    "import os\n",
    "import pickle\n",
    "\n",
    "sys.path.append(\"/Users/xxAlv1Nxx/Documents/01a Masters/05 CS/CS 428B Probabilistic Models of Cognition – Language/Project/pragmatic_agents_me_bias\")\n",
    "from RSA_communication_agents import RSAListener0, RSAListener1"
   ]
  },
  {
   "cell_type": "code",
   "execution_count": null,
   "metadata": {},
   "outputs": [],
   "source": [
    "# GENERATE INPUT MESSAGES \n",
    "\n",
    "def generate_messages(size, n, ME=1):\n",
    "    \"\"\" Generates the message input for the listener\n",
    "        :param size:    number of data points\n",
    "        :param n:       number of states and messages in the system\n",
    "        :param ME:      number of messages that are withheld from training, here 1 or 2\n",
    "        :return data:   training data \n",
    "        :return labels: training labels\n",
    "    \"\"\"\n",
    "    \n",
    "    data = np.zeros((size, n, n))\n",
    "    if ME == 1:\n",
    "        selection = np.random.choice(n-1, size=(size))\n",
    "    elif ME == 2: \n",
    "        selection = np.random.choice([i for i in range(1, n-1)], size=(size))\n",
    "    for i in range(n):\n",
    "        data[selection == i, i, :] = 1.\n",
    "    labels = tf.one_hot(selection, depth=n)\n",
    "    \n",
    "    return np.float32(data), labels"
   ]
  },
  {
   "cell_type": "code",
   "execution_count": null,
   "metadata": {},
   "outputs": [],
   "source": [
    "# GENERATE BILINGUAL INPUT MESSAGES \n",
    "\n",
    "def generate_bilingual_messages(size, n, ME=1, n_blocks=0, lang_edit=0):\n",
    "    \"\"\" Generates the message input for the listener\n",
    "        :param size:        number of data points\n",
    "        :param n:           number of states in the system (n_messages = 2*n)\n",
    "        :param ME:          number of messages that are withheld from training, here 1 or 2\n",
    "        :param n_blocks:    number of language blocks (>=1), or not blocked (0, i.e. random)\n",
    "        :return data:       training data \n",
    "        :return labels:     training labels\n",
    "    \"\"\"\n",
    "    \n",
    "    data = np.zeros((size, 2*n, n))\n",
    "\n",
    "    if n_blocks == 0:\n",
    "        if ME == 1:\n",
    "            selection = np.random.choice([i for i in range(0, 2*n-1) if i != n-1], size=(size))\n",
    "        elif ME == 2: \n",
    "            selection = np.random.choice([i for i in range(1, 2*n-1) if (i != n-1 and i != n)], size=(size))\n",
    "    else:\n",
    "        if ME == 1:\n",
    "            selection = np.random.choice([i for i in range(0, n-1)], size=(size))\n",
    "        elif ME == 2: \n",
    "            selection = np.random.choice([i for i in range(1, n-1)], size=(size))\n",
    "        # switch language every other block\n",
    "        divisor = size // n_blocks\n",
    "        selection = np.array([v if not (i // divisor) % 2 else v + n for i, v in enumerate(selection)])\n",
    "\n",
    "    selection = selection + n * lang_edit\n",
    "\n",
    "    for i in range(2*n):\n",
    "        data[selection == i, i, :] = 1.\n",
    "    labels = tf.one_hot(tf.math.floormod(selection, n), depth=n)\n",
    "    \n",
    "    return np.float32(data), labels"
   ]
  },
  {
   "cell_type": "code",
   "execution_count": null,
   "metadata": {},
   "outputs": [],
   "source": [
    "# TRAIN A LISTENER AND SAVE THE PARAMETERS AS WELL AS THE REWARDS AND THE LEXICA\n",
    "\n",
    "def run_listener(n=10, reasoning=0, n_epochs=100, ME=1, learning_rate=0.001, runs=100, blocked=0, n_blocks=1):\n",
    "    \"\"\" Trains the listener on a single agent Lewis game as described in Experiment 1, saving all lexica and rewards for every epoch.\n",
    "        :param n:               number of states and messages (in total)\n",
    "        :param reasoning:       reasoning level of the listener, 0 for literal, 1 for pragmatic \n",
    "        :param ME:              number of messages that are left out during training, here 1 or 2\n",
    "        :param learning_rate:   learning rate for the Adam optimizer\n",
    "        :param runs:            number of runs\n",
    "        :param blocked:         0: not blocked; 1: blocked within epochs; 2: blocked across epochs\n",
    "        :param n_blocks:        number of blocks; ignored if blocked == 0\n",
    "    \"\"\"\n",
    "    \n",
    "    # setup the training and save the parameters \n",
    "    \n",
    "    n_states = n                      # number of states \n",
    "    n_messages = 2*n                  # number of messages\n",
    "    batch_size = 32                   # batch size\n",
    "    datasize = 1000                   # number of training data points\n",
    "    batches = datasize // batch_size  # number of batches per epoch\n",
    "    \n",
    "    runs = runs                       # number of runs: 100 speaker-listener pairs are trained \n",
    "    init_mean = 0.5                   # mean for initialization of lexicon entries\n",
    "    init_std = 0.01                   # std for initialization of lexicon entries\n",
    "    \n",
    "    constraint = tf.keras.constraints.NonNeg() # constrains the lexica to have entries >= 0\n",
    "    \n",
    "    b_str = '_blocked' if blocked == 1 else '_blocked_e' if blocked == 2 else ''\n",
    "    bn_str = str(n_blocks) + '_blocks/' if blocked > 0 else ''\n",
    "    filename = 'data/bilingual' + b_str + '/L' + str(reasoning) + '/' + str(n) + '_states/' + bn_str\n",
    "    if not os.path.exists(filename):\n",
    "            os.makedirs(filename)\n",
    "    \n",
    "    param_dict = {\n",
    "        \"n_states\": n_states, \"n_messages\": n_messages, \"n_epochs\": n_epochs, \"batch_size\": batch_size,\n",
    "        \"datasize\": datasize, \"initializer_truncated_normal_mean_std\": [init_mean, init_std], \n",
    "        \"learning_rate\": learning_rate, \"runs\": runs, \"constraint\": constraint, \n",
    "        \"blocked\": blocked, \"n_blocks\": n_blocks}    \n",
    "    with open(filename + 'param_dict.pickle', 'wb') as handle:\n",
    "        pickle.dump(param_dict, handle, protocol=pickle.HIGHEST_PROTOCOL)\n",
    "    \n",
    "    \n",
    "    # run the listeners\n",
    "\n",
    "    for run in range(1,runs+1):\n",
    "        \n",
    "        # create data \n",
    "        if blocked < 2:\n",
    "            data, labels = generate_bilingual_messages(datasize, n, ME=ME, n_blocks=n_blocks)\n",
    "            data = tf.convert_to_tensor(data)\n",
    "        else:\n",
    "            data1, labels1 = generate_bilingual_messages(datasize, n, ME=ME, n_blocks=1)\n",
    "            data1 = tf.convert_to_tensor(data1)\n",
    "            data2, labels2 = generate_bilingual_messages(datasize, n, ME=ME, n_blocks=1, lang_edit=1)\n",
    "            data2 = tf.convert_to_tensor(data2)\n",
    "            data_all = [data1, data2]\n",
    "            labels_all = [labels1, labels2]\n",
    "        lexica = []\n",
    "        all_rewards = []\n",
    "        \n",
    "        # create listener\n",
    "        lexicon = tf.Variable(\n",
    "            tf.initializers.TruncatedNormal(mean=init_mean, stddev=init_std)\n",
    "            ([n_states, n_messages]),\n",
    "            name=\"lexicon\",\n",
    "            trainable=True,\n",
    "            dtype=tf.float32,\n",
    "            constraint=tf.keras.constraints.NonNeg())\n",
    "        \n",
    "        if reasoning == 0: \n",
    "            listener = RSAListener0(n_states, n_messages, lexicon)\n",
    "        elif reasoning == 1: \n",
    "            listener = RSAListener1(n_states, n_messages, lexicon, alpha=5.)\n",
    "                \n",
    "        listener.compile(optimizer=tf.keras.optimizers.Adam(learning_rate=learning_rate),\n",
    "                      loss=tf.keras.losses.CategoricalCrossentropy())\n",
    "        \n",
    "        # train\n",
    "        for i in range(n_epochs):\n",
    "            average_reward = []\n",
    "\n",
    "            # shuffle data and labels\n",
    "            if blocked == 2:\n",
    "                divisor = 100 // n_blocks\n",
    "                data = data_all[(i // divisor) % 2]\n",
    "                labels = labels_all[(i // divisor) % 2]\n",
    "                shuffle_indices = np.random.permutation(datasize)\n",
    "            elif blocked == 1:\n",
    "                shuffle_indices_1 = np.random.permutation(datasize//2)\n",
    "                shuffle_indices_2 = np.random.permutation(datasize//2) + datasize//2\n",
    "                shuffle_indices = np.concatenate((shuffle_indices_1, shuffle_indices_2))\n",
    "            else:\n",
    "                shuffle_indices = np.random.permutation(datasize)\n",
    "            data = tf.gather(data, shuffle_indices)\n",
    "            labels = tf.gather(labels, shuffle_indices)\n",
    "\n",
    "            for j in range(batches):\n",
    "                data_batch = data[j*batch_size:(j+1)*batch_size]\n",
    "                labels_batch = labels[j*batch_size:(j+1)*batch_size]\n",
    "    \n",
    "                _, actions = listener.get_states(data_batch)\n",
    "    \n",
    "                rewards = tf.einsum('ij,ij->i', labels_batch, actions)\n",
    "                average_reward.append(np.mean(rewards))\n",
    "                \n",
    "                # RL: \n",
    "                # Note that we implemented REINFORCE with a work-around using categorical crossentropy. \n",
    "                # This can be done by setting the labels to the agent's actions, and weighting the loss\n",
    "                # function by the rewards. \n",
    "                listener.train_on_batch(data_batch, actions, sample_weight=rewards)\n",
    "            \n",
    "            mean_reward = np.mean(average_reward)\n",
    "            all_rewards.append(mean_reward)\n",
    "            lexica.append(np.copy(listener.lexicon[:]))\n",
    "                        \n",
    "        print('run ' + str(run), 'average reward ' +str(ME)+ ' ' + str(mean_reward))\n",
    "        \n",
    "        # save rewards and lexica \n",
    "        if reasoning == 0:\n",
    "            filename_full = filename + 'L' + str(reasoning) +'_'+ str(ME) + 'missing_'\n",
    "        elif reasoning == 1:\n",
    "            filename_full = filename + 'L' + str(reasoning) +'_'+ str(ME) + 'missing_5.0alpha_'\n",
    "        np.save(filename_full + 'lexicon_run' + str(run), lexica)\n",
    "        np.save(filename_full + 'rewards_run' + str(run), all_rewards)"
   ]
  },
  {
   "cell_type": "markdown",
   "metadata": {},
   "source": [
    "## Run the training \n",
    "\n",
    "for different agent types, numbers of state (3 and 10) and different number of states being withheld from the training (1 and 2). "
   ]
  },
  {
   "cell_type": "markdown",
   "metadata": {},
   "source": [
    "### Literal listener"
   ]
  },
  {
   "cell_type": "code",
   "execution_count": null,
   "metadata": {},
   "outputs": [],
   "source": [
    "run_listener(n=3, reasoning=0, n_epochs=50, ME=1)"
   ]
  },
  {
   "cell_type": "code",
   "execution_count": null,
   "metadata": {},
   "outputs": [],
   "source": [
    "run_listener(learning_rate=0.001, n=3, reasoning=0, n_epochs=50, ME=2)"
   ]
  },
  {
   "cell_type": "code",
   "execution_count": null,
   "metadata": {},
   "outputs": [],
   "source": [
    "run_listener(learning_rate=0.001, n=10, reasoning=0, n_epochs=100, ME=1)"
   ]
  },
  {
   "cell_type": "code",
   "execution_count": null,
   "metadata": {},
   "outputs": [],
   "source": [
    "run_listener(learning_rate=0.001, n=10, reasoning=0, n_epochs=100, ME=2)"
   ]
  },
  {
   "cell_type": "code",
   "execution_count": null,
   "metadata": {},
   "outputs": [],
   "source": [
    "run_listener(learning_rate=0.001, n=100, reasoning=0, n_epochs=100, ME=1)"
   ]
  },
  {
   "cell_type": "markdown",
   "metadata": {},
   "source": [
    "### Pragmatic listener"
   ]
  },
  {
   "cell_type": "code",
   "execution_count": null,
   "metadata": {},
   "outputs": [],
   "source": [
    "run_listener(learning_rate=0.001, n=3, reasoning=1, n_epochs=100, ME=1)"
   ]
  },
  {
   "cell_type": "code",
   "execution_count": null,
   "metadata": {},
   "outputs": [],
   "source": [
    "run_listener(learning_rate=0.001, n=3, reasoning=1, n_epochs=50, ME=2)"
   ]
  },
  {
   "cell_type": "code",
   "execution_count": null,
   "metadata": {},
   "outputs": [],
   "source": [
    "for i in range(4, 11):\n",
    "    run_listener(learning_rate=0.001, n=i, reasoning=1, n_epochs=100, ME=1)"
   ]
  },
  {
   "cell_type": "code",
   "execution_count": null,
   "metadata": {},
   "outputs": [],
   "source": [
    "for i in range(20, 60, 10):\n",
    "    run_listener(learning_rate=0.001, n=i, reasoning=1, n_epochs=100, ME=1)"
   ]
  },
  {
   "cell_type": "code",
   "execution_count": null,
   "metadata": {},
   "outputs": [],
   "source": [
    "for i in range(60, 120, 20):\n",
    "    run_listener(learning_rate=0.001, n=i, reasoning=1, n_epochs=100, ME=1)"
   ]
  },
  {
   "cell_type": "code",
   "execution_count": null,
   "metadata": {},
   "outputs": [],
   "source": [
    "run_listener(learning_rate=0.001, n=10, reasoning=1, n_epochs=100, ME=2)"
   ]
  },
  {
   "cell_type": "code",
   "execution_count": null,
   "metadata": {},
   "outputs": [],
   "source": [
    "run_listener(learning_rate=0.001, n=10, reasoning=1, n_epochs=100, ME=1, blocked=1, n_blocks=2)"
   ]
  },
  {
   "cell_type": "code",
   "execution_count": null,
   "metadata": {},
   "outputs": [],
   "source": [
    "for i in range(1, 5):\n",
    "    run_listener(learning_rate=0.001, n=10, reasoning=1, n_epochs=100, ME=1, blocked=2, n_blocks=2**i)"
   ]
  }
 ],
 "metadata": {
  "interpreter": {
   "hash": "aee8b7b246df8f9039afb4144a1f6fd8d2ca17a180786b69acc140d282b71a49"
  },
  "kernelspec": {
   "display_name": "Python 3.9.2 64-bit",
   "name": "python3"
  },
  "language_info": {
   "codemirror_mode": {
    "name": "ipython",
    "version": 3
   },
   "file_extension": ".py",
   "mimetype": "text/x-python",
   "name": "python",
   "nbconvert_exporter": "python",
   "pygments_lexer": "ipython3",
   "version": "3.9.2"
  }
 },
 "nbformat": 4,
 "nbformat_minor": 2
}
